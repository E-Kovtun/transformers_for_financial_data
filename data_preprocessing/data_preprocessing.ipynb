{
 "cells": [
  {
   "cell_type": "code",
   "execution_count": 1,
   "metadata": {},
   "outputs": [],
   "source": [
    "import pandas as pd\n",
    "import numpy as np\n",
    "\n",
    "from sklearn.preprocessing import LabelEncoder\n",
    "from sklearn.feature_extraction.text import TfidfVectorizer"
   ]
  },
  {
   "cell_type": "code",
   "execution_count": 2,
   "metadata": {},
   "outputs": [],
   "source": [
    "data_folder = './data/'"
   ]
  },
  {
   "cell_type": "code",
   "execution_count": 3,
   "metadata": {},
   "outputs": [],
   "source": [
    "def read_preprocessed_financial_data(data_folder):\n",
    "    transactions = pd.read_csv(data_folder+'transactions.csv', sep=',')\n",
    "    tr_types = pd.read_csv(data_folder+'tr_types.csv', sep=';')\n",
    "    tr_mcc_codes = pd.read_csv(data_folder+'tr_mcc_codes.csv', sep=';')\n",
    "    gender_train = pd.read_csv(data_folder+'gender_train.csv', sep=',')\n",
    "    \n",
    "    df = pd.merge(transactions, gender_train, on='customer_id', how='outer')\n",
    "    df = pd.merge(df, tr_mcc_codes, on='mcc_code', how='outer') \n",
    "    df = pd.merge(df, tr_types, on='tr_type', how='outer') \n",
    "    \n",
    "    df = df[~np.isnan(df['gender'])]\n",
    "    \n",
    "    le = LabelEncoder()\n",
    "    df['term_id'] = le.fit_transform(df['term_id'])\n",
    "    \n",
    "    times = df['tr_datetime'].apply(lambda x: x.split(' ')[1].split(':'))\n",
    "    to_seconds = lambda x: int(x[0]) * 3600 + int(x[1]) * 60 + int(x[2])\n",
    "    df['tr_datetime'] = times.apply(to_seconds)\n",
    "    \n",
    "    df['mcc_description'] = df['mcc_description'].fillna(df['mcc_description'].value_counts().index[0])\n",
    "    df['tr_description'] = df['tr_description'].fillna(df['tr_description'].value_counts().index[0])\n",
    "    \n",
    "    return df"
   ]
  },
  {
   "cell_type": "code",
   "execution_count": 4,
   "metadata": {},
   "outputs": [
    {
     "data": {
      "text/plain": [
       "(3751083, 9)"
      ]
     },
     "execution_count": 4,
     "metadata": {},
     "output_type": "execute_result"
    }
   ],
   "source": [
    "df = read_preprocessed_financial_data(data_folder)\n",
    "df.shape # (3751083, 9)"
   ]
  },
  {
   "cell_type": "code",
   "execution_count": 5,
   "metadata": {},
   "outputs": [
    {
     "data": {
      "text/html": [
       "<div>\n",
       "<style scoped>\n",
       "    .dataframe tbody tr th:only-of-type {\n",
       "        vertical-align: middle;\n",
       "    }\n",
       "\n",
       "    .dataframe tbody tr th {\n",
       "        vertical-align: top;\n",
       "    }\n",
       "\n",
       "    .dataframe thead th {\n",
       "        text-align: right;\n",
       "    }\n",
       "</style>\n",
       "<table border=\"1\" class=\"dataframe\">\n",
       "  <thead>\n",
       "    <tr style=\"text-align: right;\">\n",
       "      <th></th>\n",
       "      <th>customer_id</th>\n",
       "      <th>tr_datetime</th>\n",
       "      <th>mcc_code</th>\n",
       "      <th>tr_type</th>\n",
       "      <th>amount</th>\n",
       "      <th>term_id</th>\n",
       "      <th>gender</th>\n",
       "      <th>mcc_description</th>\n",
       "      <th>tr_description</th>\n",
       "    </tr>\n",
       "  </thead>\n",
       "  <tbody>\n",
       "    <tr>\n",
       "      <th>0</th>\n",
       "      <td>39026145.0</td>\n",
       "      <td>37406</td>\n",
       "      <td>4814.0</td>\n",
       "      <td>1030</td>\n",
       "      <td>-2245.92</td>\n",
       "      <td>311690</td>\n",
       "      <td>1.0</td>\n",
       "      <td>Звонки с использованием телефонов, считывающих...</td>\n",
       "      <td>Оплата услуги. Банкоматы СБ РФ</td>\n",
       "    </tr>\n",
       "    <tr>\n",
       "      <th>1</th>\n",
       "      <td>39026145.0</td>\n",
       "      <td>25711</td>\n",
       "      <td>4814.0</td>\n",
       "      <td>1030</td>\n",
       "      <td>-5614.79</td>\n",
       "      <td>311690</td>\n",
       "      <td>1.0</td>\n",
       "      <td>Звонки с использованием телефонов, считывающих...</td>\n",
       "      <td>Оплата услуги. Банкоматы СБ РФ</td>\n",
       "    </tr>\n",
       "    <tr>\n",
       "      <th>2</th>\n",
       "      <td>39026145.0</td>\n",
       "      <td>25570</td>\n",
       "      <td>4814.0</td>\n",
       "      <td>1030</td>\n",
       "      <td>-1122.96</td>\n",
       "      <td>311690</td>\n",
       "      <td>1.0</td>\n",
       "      <td>Звонки с использованием телефонов, считывающих...</td>\n",
       "      <td>Оплата услуги. Банкоматы СБ РФ</td>\n",
       "    </tr>\n",
       "    <tr>\n",
       "      <th>3</th>\n",
       "      <td>39026145.0</td>\n",
       "      <td>31743</td>\n",
       "      <td>4814.0</td>\n",
       "      <td>1030</td>\n",
       "      <td>-2245.92</td>\n",
       "      <td>311690</td>\n",
       "      <td>1.0</td>\n",
       "      <td>Звонки с использованием телефонов, считывающих...</td>\n",
       "      <td>Оплата услуги. Банкоматы СБ РФ</td>\n",
       "    </tr>\n",
       "    <tr>\n",
       "      <th>4</th>\n",
       "      <td>39026145.0</td>\n",
       "      <td>51128</td>\n",
       "      <td>4814.0</td>\n",
       "      <td>1030</td>\n",
       "      <td>-2245.92</td>\n",
       "      <td>311690</td>\n",
       "      <td>1.0</td>\n",
       "      <td>Звонки с использованием телефонов, считывающих...</td>\n",
       "      <td>Оплата услуги. Банкоматы СБ РФ</td>\n",
       "    </tr>\n",
       "  </tbody>\n",
       "</table>\n",
       "</div>"
      ],
      "text/plain": [
       "   customer_id  tr_datetime  mcc_code  tr_type   amount  term_id  gender  \\\n",
       "0   39026145.0        37406    4814.0     1030 -2245.92   311690     1.0   \n",
       "1   39026145.0        25711    4814.0     1030 -5614.79   311690     1.0   \n",
       "2   39026145.0        25570    4814.0     1030 -1122.96   311690     1.0   \n",
       "3   39026145.0        31743    4814.0     1030 -2245.92   311690     1.0   \n",
       "4   39026145.0        51128    4814.0     1030 -2245.92   311690     1.0   \n",
       "\n",
       "                                     mcc_description  \\\n",
       "0  Звонки с использованием телефонов, считывающих...   \n",
       "1  Звонки с использованием телефонов, считывающих...   \n",
       "2  Звонки с использованием телефонов, считывающих...   \n",
       "3  Звонки с использованием телефонов, считывающих...   \n",
       "4  Звонки с использованием телефонов, считывающих...   \n",
       "\n",
       "                   tr_description  \n",
       "0  Оплата услуги. Банкоматы СБ РФ  \n",
       "1  Оплата услуги. Банкоматы СБ РФ  \n",
       "2  Оплата услуги. Банкоматы СБ РФ  \n",
       "3  Оплата услуги. Банкоматы СБ РФ  \n",
       "4  Оплата услуги. Банкоматы СБ РФ  "
      ]
     },
     "execution_count": 5,
     "metadata": {},
     "output_type": "execute_result"
    }
   ],
   "source": [
    "df.head()"
   ]
  },
  {
   "cell_type": "code",
   "execution_count": 6,
   "metadata": {},
   "outputs": [
    {
     "data": {
      "text/plain": [
       "(<3751083x499 sparse matrix of type '<class 'numpy.float64'>'\n",
       " \twith 17524726 stored elements in Compressed Sparse Row format>,\n",
       " <3751083x67 sparse matrix of type '<class 'numpy.float64'>'\n",
       " \twith 23300180 stored elements in Compressed Sparse Row format>)"
      ]
     },
     "execution_count": 6,
     "metadata": {},
     "output_type": "execute_result"
    }
   ],
   "source": [
    "vectorizer = TfidfVectorizer()\n",
    "tfidf_mcc = vectorizer.fit_transform(df['mcc_description'])\n",
    "tfidf_transaction = vectorizer.fit_transform(df['tr_description'])\n",
    "tfidf_mcc, tfidf_transaction"
   ]
  },
  {
   "cell_type": "code",
   "execution_count": null,
   "metadata": {},
   "outputs": [],
   "source": []
  }
 ],
 "metadata": {
  "kernelspec": {
   "display_name": "Python 3",
   "language": "python",
   "name": "python3"
  },
  "language_info": {
   "codemirror_mode": {
    "name": "ipython",
    "version": 3
   },
   "file_extension": ".py",
   "mimetype": "text/x-python",
   "name": "python",
   "nbconvert_exporter": "python",
   "pygments_lexer": "ipython3",
   "version": "3.7.7"
  }
 },
 "nbformat": 4,
 "nbformat_minor": 4
}
