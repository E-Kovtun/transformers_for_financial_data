{
 "cells": [
  {
   "cell_type": "code",
   "execution_count": 1,
   "metadata": {},
   "outputs": [],
   "source": [
    "# !python -m spacy download ru_core_news_lg"
   ]
  },
  {
   "cell_type": "code",
   "execution_count": 2,
   "metadata": {},
   "outputs": [],
   "source": [
    "import pandas as pd\n",
    "import numpy as np\n",
    "import matplotlib.pyplot as plt\n",
    "import random\n",
    "\n",
    "# from sklearn.feature_extraction.text import TfidfVectorizer\n",
    "\n",
    "from tqdm import tqdm\n",
    "from sklearn.model_selection import GroupKFold\n",
    "\n",
    "import pytorch_lightning as pl\n",
    "\n",
    "import utils\n",
    "\n",
    "%load_ext autoreload\n",
    "%autoreload 1\n",
    "%aimport utils"
   ]
  },
  {
   "cell_type": "code",
   "execution_count": 3,
   "metadata": {},
   "outputs": [],
   "source": [
    "data_folder = '../data/'"
   ]
  },
  {
   "cell_type": "code",
   "execution_count": 4,
   "metadata": {},
   "outputs": [
    {
     "data": {
      "text/plain": [
       "(3751083, 10)"
      ]
     },
     "execution_count": 4,
     "metadata": {},
     "output_type": "execute_result"
    }
   ],
   "source": [
    "df = utils.read_preprocessed_financial_data(data_folder, enc_cols=['mcc_description', 'tr_description'])\n",
    "df.shape "
   ]
  },
  {
   "cell_type": "code",
   "execution_count": 5,
   "metadata": {},
   "outputs": [
    {
     "data": {
      "text/html": [
       "<div>\n",
       "<style scoped>\n",
       "    .dataframe tbody tr th:only-of-type {\n",
       "        vertical-align: middle;\n",
       "    }\n",
       "\n",
       "    .dataframe tbody tr th {\n",
       "        vertical-align: top;\n",
       "    }\n",
       "\n",
       "    .dataframe thead th {\n",
       "        text-align: right;\n",
       "    }\n",
       "</style>\n",
       "<table border=\"1\" class=\"dataframe\">\n",
       "  <thead>\n",
       "    <tr style=\"text-align: right;\">\n",
       "      <th></th>\n",
       "      <th>customer_id</th>\n",
       "      <th>tr_datetime</th>\n",
       "      <th>mcc_code</th>\n",
       "      <th>tr_type</th>\n",
       "      <th>amount</th>\n",
       "      <th>term_id</th>\n",
       "      <th>gender</th>\n",
       "      <th>mcc_description</th>\n",
       "      <th>tr_description</th>\n",
       "      <th>week</th>\n",
       "    </tr>\n",
       "  </thead>\n",
       "  <tbody>\n",
       "    <tr>\n",
       "      <th>0</th>\n",
       "      <td>39026145.0</td>\n",
       "      <td>0</td>\n",
       "      <td>4814.0</td>\n",
       "      <td>1030</td>\n",
       "      <td>-2245.92</td>\n",
       "      <td>311690</td>\n",
       "      <td>1.0</td>\n",
       "      <td>[-0.102810316, -0.12563597, -0.11075681, -0.06...</td>\n",
       "      <td>[0.07799721, 0.21862344, 0.1882922, -0.1851609...</td>\n",
       "      <td>0</td>\n",
       "    </tr>\n",
       "    <tr>\n",
       "      <th>1</th>\n",
       "      <td>39026145.0</td>\n",
       "      <td>13328582400</td>\n",
       "      <td>4814.0</td>\n",
       "      <td>1030</td>\n",
       "      <td>-5614.79</td>\n",
       "      <td>311690</td>\n",
       "      <td>1.0</td>\n",
       "      <td>[-0.102810316, -0.12563597, -0.11075681, -0.06...</td>\n",
       "      <td>[0.07799721, 0.21862344, 0.1882922, -0.1851609...</td>\n",
       "      <td>0</td>\n",
       "    </tr>\n",
       "    <tr>\n",
       "      <th>2</th>\n",
       "      <td>39026145.0</td>\n",
       "      <td>17673984000</td>\n",
       "      <td>4814.0</td>\n",
       "      <td>1030</td>\n",
       "      <td>-1122.96</td>\n",
       "      <td>311690</td>\n",
       "      <td>1.0</td>\n",
       "      <td>[-0.102810316, -0.12563597, -0.11075681, -0.06...</td>\n",
       "      <td>[0.07799721, 0.21862344, 0.1882922, -0.1851609...</td>\n",
       "      <td>1</td>\n",
       "    </tr>\n",
       "    <tr>\n",
       "      <th>3</th>\n",
       "      <td>39026145.0</td>\n",
       "      <td>30168547200</td>\n",
       "      <td>4814.0</td>\n",
       "      <td>1030</td>\n",
       "      <td>-2245.92</td>\n",
       "      <td>311690</td>\n",
       "      <td>1.0</td>\n",
       "      <td>[-0.102810316, -0.12563597, -0.11075681, -0.06...</td>\n",
       "      <td>[0.07799721, 0.21862344, 0.1882922, -0.1851609...</td>\n",
       "      <td>1</td>\n",
       "    </tr>\n",
       "    <tr>\n",
       "      <th>4</th>\n",
       "      <td>39026145.0</td>\n",
       "      <td>48592051200</td>\n",
       "      <td>4814.0</td>\n",
       "      <td>1030</td>\n",
       "      <td>-2245.92</td>\n",
       "      <td>311690</td>\n",
       "      <td>1.0</td>\n",
       "      <td>[-0.102810316, -0.12563597, -0.11075681, -0.06...</td>\n",
       "      <td>[0.07799721, 0.21862344, 0.1882922, -0.1851609...</td>\n",
       "      <td>1</td>\n",
       "    </tr>\n",
       "  </tbody>\n",
       "</table>\n",
       "</div>"
      ],
      "text/plain": [
       "   customer_id  tr_datetime  mcc_code  tr_type   amount  term_id  gender  \\\n",
       "0   39026145.0            0    4814.0     1030 -2245.92   311690     1.0   \n",
       "1   39026145.0  13328582400    4814.0     1030 -5614.79   311690     1.0   \n",
       "2   39026145.0  17673984000    4814.0     1030 -1122.96   311690     1.0   \n",
       "3   39026145.0  30168547200    4814.0     1030 -2245.92   311690     1.0   \n",
       "4   39026145.0  48592051200    4814.0     1030 -2245.92   311690     1.0   \n",
       "\n",
       "                                     mcc_description  \\\n",
       "0  [-0.102810316, -0.12563597, -0.11075681, -0.06...   \n",
       "1  [-0.102810316, -0.12563597, -0.11075681, -0.06...   \n",
       "2  [-0.102810316, -0.12563597, -0.11075681, -0.06...   \n",
       "3  [-0.102810316, -0.12563597, -0.11075681, -0.06...   \n",
       "4  [-0.102810316, -0.12563597, -0.11075681, -0.06...   \n",
       "\n",
       "                                      tr_description  week  \n",
       "0  [0.07799721, 0.21862344, 0.1882922, -0.1851609...     0  \n",
       "1  [0.07799721, 0.21862344, 0.1882922, -0.1851609...     0  \n",
       "2  [0.07799721, 0.21862344, 0.1882922, -0.1851609...     1  \n",
       "3  [0.07799721, 0.21862344, 0.1882922, -0.1851609...     1  \n",
       "4  [0.07799721, 0.21862344, 0.1882922, -0.1851609...     1  "
      ]
     },
     "execution_count": 5,
     "metadata": {},
     "output_type": "execute_result"
    }
   ],
   "source": [
    "df.head()"
   ]
  },
  {
   "cell_type": "code",
   "execution_count": 6,
   "metadata": {},
   "outputs": [
    {
     "name": "stderr",
     "output_type": "stream",
     "text": [
      "100%|██████████| 100/100 [00:08<00:00, 11.88it/s]\n"
     ]
    }
   ],
   "source": [
    "clients = df['customer_id'].unique()\n",
    "clients = clients[:100] # drop this row (I just tested the code with small amount of data)\n",
    "\n",
    "df_week = []\n",
    "\n",
    "for client_id in tqdm(clients):\n",
    "    client_data = df[df['customer_id'] == client_id]\n",
    "    client_weeks = client_data.week.unique()\n",
    "    \n",
    "    for week in client_weeks:\n",
    "        client_data_week = client_data[client_data['week'] == week]\n",
    "        df_week.append(\n",
    "            {\n",
    "                'transactions': client_data_week['mcc_code'].tolist(),\n",
    "                'amounts': client_data_week['amount'].tolist(),\n",
    "                'tr_datetime': client_data_week['tr_datetime'].tolist(),\n",
    "                'tr_type': client_data_week['tr_type'].tolist(),\n",
    "                'mcc_description': client_data_week['mcc_description'].tolist(), # add mcc_description embeddings\n",
    "                'tr_description': client_data_week['tr_description'].tolist(), # add tr_description embeddings\n",
    "                'term_id': client_data_week['term_id'].tolist(),\n",
    "                'customer_id': client_id, \n",
    "                'week': week,\n",
    "                'gender': client_data_week['gender'].tolist()\n",
    "            }\n",
    "        )"
   ]
  },
  {
   "cell_type": "code",
   "execution_count": 7,
   "metadata": {},
   "outputs": [
    {
     "data": {
      "text/plain": [
       "(5990, 10)"
      ]
     },
     "execution_count": 7,
     "metadata": {},
     "output_type": "execute_result"
    }
   ],
   "source": [
    "df_week = pd.DataFrame(df_week)\n",
    "df_week.shape"
   ]
  },
  {
   "cell_type": "code",
   "execution_count": 8,
   "metadata": {},
   "outputs": [
    {
     "data": {
      "text/html": [
       "<div>\n",
       "<style scoped>\n",
       "    .dataframe tbody tr th:only-of-type {\n",
       "        vertical-align: middle;\n",
       "    }\n",
       "\n",
       "    .dataframe tbody tr th {\n",
       "        vertical-align: top;\n",
       "    }\n",
       "\n",
       "    .dataframe thead th {\n",
       "        text-align: right;\n",
       "    }\n",
       "</style>\n",
       "<table border=\"1\" class=\"dataframe\">\n",
       "  <thead>\n",
       "    <tr style=\"text-align: right;\">\n",
       "      <th></th>\n",
       "      <th>transactions</th>\n",
       "      <th>amounts</th>\n",
       "      <th>tr_datetime</th>\n",
       "      <th>tr_type</th>\n",
       "      <th>mcc_description</th>\n",
       "      <th>tr_description</th>\n",
       "      <th>term_id</th>\n",
       "      <th>customer_id</th>\n",
       "      <th>week</th>\n",
       "      <th>gender</th>\n",
       "    </tr>\n",
       "  </thead>\n",
       "  <tbody>\n",
       "    <tr>\n",
       "      <th>0</th>\n",
       "      <td>[4814.0, 4814.0, 5499.0, 5499.0, 5499.0, 5499....</td>\n",
       "      <td>[-2245.92, -5614.79, -1392.47, -920.83, -1010....</td>\n",
       "      <td>[0, 13328582400, 3317241600, 9680601600, 14449...</td>\n",
       "      <td>[1030, 1030, 1010, 1010, 1010, 1010, 1010, 101...</td>\n",
       "      <td>[[-0.102810316, -0.12563597, -0.11075681, -0.0...</td>\n",
       "      <td>[[0.07799721, 0.21862344, 0.1882922, -0.185160...</td>\n",
       "      <td>[311690, 311690, 311690, 311690, 311690, 31169...</td>\n",
       "      <td>39026145.0</td>\n",
       "      <td>0</td>\n",
       "      <td>[1.0, 1.0, 1.0, 1.0, 1.0, 1.0, 1.0, 1.0, 1.0, ...</td>\n",
       "    </tr>\n",
       "    <tr>\n",
       "      <th>1</th>\n",
       "      <td>[4814.0, 4814.0, 4814.0, 4814.0, 4814.0, 5499....</td>\n",
       "      <td>[-1122.96, -2245.92, -2245.92, -2245.92, -2245...</td>\n",
       "      <td>[17673984000, 30168547200, 48592051200, 487840...</td>\n",
       "      <td>[1030, 1030, 1030, 1030, 1030, 1010, 1010, 101...</td>\n",
       "      <td>[[-0.102810316, -0.12563597, -0.11075681, -0.0...</td>\n",
       "      <td>[[0.07799721, 0.21862344, 0.1882922, -0.185160...</td>\n",
       "      <td>[311690, 311690, 311690, 311690, 311690, 31169...</td>\n",
       "      <td>39026145.0</td>\n",
       "      <td>1</td>\n",
       "      <td>[1.0, 1.0, 1.0, 1.0, 1.0, 1.0, 1.0, 1.0, 1.0, ...</td>\n",
       "    </tr>\n",
       "    <tr>\n",
       "      <th>2</th>\n",
       "      <td>[4814.0, 4814.0, 4814.0, 5331.0, 5331.0, 5331....</td>\n",
       "      <td>[-2245.92, -449.18, -1122.96, -6288.56, -1122....</td>\n",
       "      <td>[42837984000, 79248240000, 79340169600, 0, 0, ...</td>\n",
       "      <td>[1030, 1030, 1030, 1110, 1110, 1110, 1110, 101...</td>\n",
       "      <td>[[-0.102810316, -0.12563597, -0.11075681, -0.0...</td>\n",
       "      <td>[[0.07799721, 0.21862344, 0.1882922, -0.185160...</td>\n",
       "      <td>[311690, 311690, 311690, 311690, 311690, 31169...</td>\n",
       "      <td>39026145.0</td>\n",
       "      <td>2</td>\n",
       "      <td>[1.0, 1.0, 1.0, 1.0, 1.0, 1.0, 1.0, 1.0, 1.0, ...</td>\n",
       "    </tr>\n",
       "  </tbody>\n",
       "</table>\n",
       "</div>"
      ],
      "text/plain": [
       "                                        transactions  \\\n",
       "0  [4814.0, 4814.0, 5499.0, 5499.0, 5499.0, 5499....   \n",
       "1  [4814.0, 4814.0, 4814.0, 4814.0, 4814.0, 5499....   \n",
       "2  [4814.0, 4814.0, 4814.0, 5331.0, 5331.0, 5331....   \n",
       "\n",
       "                                             amounts  \\\n",
       "0  [-2245.92, -5614.79, -1392.47, -920.83, -1010....   \n",
       "1  [-1122.96, -2245.92, -2245.92, -2245.92, -2245...   \n",
       "2  [-2245.92, -449.18, -1122.96, -6288.56, -1122....   \n",
       "\n",
       "                                         tr_datetime  \\\n",
       "0  [0, 13328582400, 3317241600, 9680601600, 14449...   \n",
       "1  [17673984000, 30168547200, 48592051200, 487840...   \n",
       "2  [42837984000, 79248240000, 79340169600, 0, 0, ...   \n",
       "\n",
       "                                             tr_type  \\\n",
       "0  [1030, 1030, 1010, 1010, 1010, 1010, 1010, 101...   \n",
       "1  [1030, 1030, 1030, 1030, 1030, 1010, 1010, 101...   \n",
       "2  [1030, 1030, 1030, 1110, 1110, 1110, 1110, 101...   \n",
       "\n",
       "                                     mcc_description  \\\n",
       "0  [[-0.102810316, -0.12563597, -0.11075681, -0.0...   \n",
       "1  [[-0.102810316, -0.12563597, -0.11075681, -0.0...   \n",
       "2  [[-0.102810316, -0.12563597, -0.11075681, -0.0...   \n",
       "\n",
       "                                      tr_description  \\\n",
       "0  [[0.07799721, 0.21862344, 0.1882922, -0.185160...   \n",
       "1  [[0.07799721, 0.21862344, 0.1882922, -0.185160...   \n",
       "2  [[0.07799721, 0.21862344, 0.1882922, -0.185160...   \n",
       "\n",
       "                                             term_id  customer_id  week  \\\n",
       "0  [311690, 311690, 311690, 311690, 311690, 31169...   39026145.0     0   \n",
       "1  [311690, 311690, 311690, 311690, 311690, 31169...   39026145.0     1   \n",
       "2  [311690, 311690, 311690, 311690, 311690, 31169...   39026145.0     2   \n",
       "\n",
       "                                              gender  \n",
       "0  [1.0, 1.0, 1.0, 1.0, 1.0, 1.0, 1.0, 1.0, 1.0, ...  \n",
       "1  [1.0, 1.0, 1.0, 1.0, 1.0, 1.0, 1.0, 1.0, 1.0, ...  \n",
       "2  [1.0, 1.0, 1.0, 1.0, 1.0, 1.0, 1.0, 1.0, 1.0, ...  "
      ]
     },
     "execution_count": 8,
     "metadata": {},
     "output_type": "execute_result"
    }
   ],
   "source": [
    "df_week.head(3)"
   ]
  },
  {
   "cell_type": "code",
   "execution_count": 9,
   "metadata": {},
   "outputs": [
    {
     "data": {
      "text/plain": [
       "(598, 10)"
      ]
     },
     "execution_count": 9,
     "metadata": {},
     "output_type": "execute_result"
    }
   ],
   "source": [
    "MIN_LEN = 20\n",
    "MAX_LEN = 50\n",
    "\n",
    "lens = df_week.transactions.apply(lambda x: len(x))\n",
    "df_week = df_week[(lens >= MIN_LEN) & (lens <= MAX_LEN)]\n",
    "df_week.shape"
   ]
  },
  {
   "cell_type": "code",
   "execution_count": 10,
   "metadata": {},
   "outputs": [],
   "source": [
    "features = ['transactions', 'amounts', 'tr_datetime', 'tr_type', 'term_id', 'mcc_description', 'tr_description'] \n",
    "desc_cols = ['mcc_description', 'tr_description']\n",
    "\n",
    "INPUT_SIZE = len(list(set(features) - set(desc_cols)))\n",
    "if 'mcc_description' in features:\n",
    "    INPUT_SIZE += len(df['mcc_description'].iloc[0])\n",
    "if 'tr_description' in features:\n",
    "    INPUT_SIZE += len(df['tr_description'].iloc[0])\n",
    "    \n",
    "EPOCHS = 10\n",
    "N_SPLITS = 5"
   ]
  },
  {
   "cell_type": "code",
   "execution_count": 11,
   "metadata": {},
   "outputs": [
    {
     "data": {
      "text/plain": [
       "605"
      ]
     },
     "execution_count": 11,
     "metadata": {},
     "output_type": "execute_result"
    }
   ],
   "source": [
    "INPUT_SIZE"
   ]
  },
  {
   "cell_type": "markdown",
   "metadata": {},
   "source": [
    "# GRU"
   ]
  },
  {
   "cell_type": "code",
   "execution_count": 12,
   "metadata": {},
   "outputs": [],
   "source": [
    "base_model = utils.RNN(\n",
    "    input_size=INPUT_SIZE,\n",
    "    output_size=1,\n",
    "    hidden_rnn_size=16,\n",
    "    base_type=\"GRU\"\n",
    ")"
   ]
  },
  {
   "cell_type": "code",
   "execution_count": 13,
   "metadata": {},
   "outputs": [
    {
     "name": "stderr",
     "output_type": "stream",
     "text": [
      "GPU available: True, used: True\n",
      "TPU available: False, using: 0 TPU cores\n",
      "LOCAL_RANK: 0 - CUDA_VISIBLE_DEVICES: [0,1]\n",
      "\n",
      "  | Name          | Type    | Params\n",
      "------------------------------------------\n",
      "0 | model         | RNN     | 29.9 K\n",
      "1 | loss_function | BCELoss | 0     \n",
      "------------------------------------------\n",
      "29.9 K    Trainable params\n",
      "0         Non-trainable params\n",
      "29.9 K    Total params\n",
      "0.120     Total estimated model params size (MB)\n"
     ]
    },
    {
     "data": {
      "application/vnd.jupyter.widget-view+json": {
       "model_id": "8f28280ac3ce4418a951fa657a140d8b",
       "version_major": 2,
       "version_minor": 0
      },
      "text/plain": [
       "Validation sanity check: 0it [00:00, ?it/s]"
      ]
     },
     "metadata": {},
     "output_type": "display_data"
    },
    {
     "data": {
      "application/vnd.jupyter.widget-view+json": {
       "model_id": "cbe0805751ed4020887ece41d0275d74",
       "version_major": 2,
       "version_minor": 0
      },
      "text/plain": [
       "Training: 0it [00:00, ?it/s]"
      ]
     },
     "metadata": {},
     "output_type": "display_data"
    },
    {
     "data": {
      "application/vnd.jupyter.widget-view+json": {
       "model_id": "799ac0f42a7e466d84d758618a8d08c1",
       "version_major": 2,
       "version_minor": 0
      },
      "text/plain": [
       "Validating: 0it [00:00, ?it/s]"
      ]
     },
     "metadata": {},
     "output_type": "display_data"
    },
    {
     "data": {
      "application/vnd.jupyter.widget-view+json": {
       "model_id": "f0dcf9fe811748ccbe0b9bbf4b5ad8da",
       "version_major": 2,
       "version_minor": 0
      },
      "text/plain": [
       "Validating: 0it [00:00, ?it/s]"
      ]
     },
     "metadata": {},
     "output_type": "display_data"
    },
    {
     "data": {
      "application/vnd.jupyter.widget-view+json": {
       "model_id": "aede44a7871b491faf1f8f7c9ae3c944",
       "version_major": 2,
       "version_minor": 0
      },
      "text/plain": [
       "Validating: 0it [00:00, ?it/s]"
      ]
     },
     "metadata": {},
     "output_type": "display_data"
    },
    {
     "data": {
      "application/vnd.jupyter.widget-view+json": {
       "model_id": "f50e97f3370847deabd077235c85d8f2",
       "version_major": 2,
       "version_minor": 0
      },
      "text/plain": [
       "Validating: 0it [00:00, ?it/s]"
      ]
     },
     "metadata": {},
     "output_type": "display_data"
    },
    {
     "data": {
      "application/vnd.jupyter.widget-view+json": {
       "model_id": "6c99f5189ae240a69e75bab4c63ec55c",
       "version_major": 2,
       "version_minor": 0
      },
      "text/plain": [
       "Validating: 0it [00:00, ?it/s]"
      ]
     },
     "metadata": {},
     "output_type": "display_data"
    },
    {
     "data": {
      "application/vnd.jupyter.widget-view+json": {
       "model_id": "44f9914c92144980ba5aa0f0f90ea49c",
       "version_major": 2,
       "version_minor": 0
      },
      "text/plain": [
       "Validating: 0it [00:00, ?it/s]"
      ]
     },
     "metadata": {},
     "output_type": "display_data"
    },
    {
     "data": {
      "application/vnd.jupyter.widget-view+json": {
       "model_id": "60731dc15fd446e9af59587ac438de7e",
       "version_major": 2,
       "version_minor": 0
      },
      "text/plain": [
       "Validating: 0it [00:00, ?it/s]"
      ]
     },
     "metadata": {},
     "output_type": "display_data"
    },
    {
     "data": {
      "application/vnd.jupyter.widget-view+json": {
       "model_id": "8eb577c04ee2425ca4e7a09248d0e4a8",
       "version_major": 2,
       "version_minor": 0
      },
      "text/plain": [
       "Validating: 0it [00:00, ?it/s]"
      ]
     },
     "metadata": {},
     "output_type": "display_data"
    },
    {
     "data": {
      "application/vnd.jupyter.widget-view+json": {
       "model_id": "649ae35d90884836a961df65ef762ea1",
       "version_major": 2,
       "version_minor": 0
      },
      "text/plain": [
       "Validating: 0it [00:00, ?it/s]"
      ]
     },
     "metadata": {},
     "output_type": "display_data"
    },
    {
     "data": {
      "application/vnd.jupyter.widget-view+json": {
       "model_id": "514ebb6a900842478432a9b6a40ddfe2",
       "version_major": 2,
       "version_minor": 0
      },
      "text/plain": [
       "Validating: 0it [00:00, ?it/s]"
      ]
     },
     "metadata": {},
     "output_type": "display_data"
    },
    {
     "name": "stdout",
     "output_type": "stream",
     "text": [
      "-------------------------------------------------------  ------------  ------------  ------------  ------------  ------------  ------------  ------------  ------------  ------------  ------------  ------------  ------------  ------------  ------------  \n",
      "                                                   Name    Self CPU %      Self CPU   CPU total %     CPU total  CPU time avg     Self CUDA   Self CUDA %    CUDA total  CUDA time avg       CPU Mem  Self CPU Mem      CUDA Mem  Self CUDA Mem    # of Calls  \n",
      "-------------------------------------------------------  ------------  ------------  ------------  ------------  ------------  ------------  ------------  ------------  ------------  ------------  ------------  ------------  ------------  ------------  \n",
      "                                            aten::zeros         0.01%       3.816ms         0.02%       9.627ms      90.821us       0.000us         0.00%      33.000us       0.311us         372 b           0 b       1.32 Mb           0 b           106  \n",
      "                                            aten::empty         0.03%      20.607ms         0.06%      36.524ms      27.075us       0.000us         0.00%       0.000us       0.000us       6.28 Kb       6.28 Kb       2.95 Gb       2.95 Gb          1349  \n",
      "                                            aten::zero_         0.01%       3.168ms         0.02%       9.686ms      40.025us       0.000us         0.00%     141.000us       0.583us           0 b           0 b           0 b           0 b           242  \n",
      "                                         model_training        28.55%       17.661s        99.67%       61.651s       61.651s     712.000us         0.32%     190.397ms     190.397ms     233.91 Kb    -550.36 Mb     430.58 Mb    -193.57 Mb             1  \n",
      "                                     cudaGetDeviceCount         0.00%       3.000us         0.00%       3.000us       0.750us       0.000us         0.00%       0.000us       0.000us           0 b           0 b           0 b           0 b             4  \n",
      "                                cudaGetDeviceProperties         0.00%       1.673ms         0.00%       1.673ms     418.250us       0.000us         0.00%       0.000us       0.000us           0 b           0 b           0 b           0 b             4  \n",
      "                                aten::is_floating_point         0.00%     382.000us         0.00%     382.000us       2.000us       0.000us         0.00%       0.000us       0.000us           0 b           0 b           0 b           0 b           191  \n",
      "                                               aten::to         0.01%       6.316ms        61.68%       38.151s      70.913ms       0.000us         0.00%     139.371ms     259.054us     240.05 Kb           0 b     551.56 Mb           0 b           538  \n",
      "                                    aten::empty_strided         0.02%       9.855ms        61.04%       37.756s      79.654ms       0.000us         0.00%       0.000us       0.000us     240.05 Kb     240.05 Kb     551.94 Mb     551.94 Mb           474  \n",
      "                                             cudaMalloc        61.06%       37.768s        61.06%       37.768s        1.111s       0.000us         0.00%       0.000us       0.000us           0 b           0 b           0 b           0 b            34  \n",
      "                                            aten::copy_         0.03%      15.580ms         0.64%     398.252ms     770.313us     144.392ms        64.72%     144.392ms     279.288us           0 b           0 b           0 b           0 b           517  \n",
      "                                        cudaMemcpyAsync         0.34%     209.175ms         0.34%     209.175ms     249.612us       0.000us         0.00%       0.000us       0.000us           0 b           0 b           0 b           0 b           838  \n",
      "                       Memcpy HtoD (Pageable -> Device)         0.00%       0.000us         0.00%       0.000us       0.000us     139.094ms        62.35%     139.094ms     623.740us           0 b           0 b           0 b           0 b           223  \n",
      "                                  cudaStreamSynchronize         0.36%     219.646ms         0.36%     219.646ms     411.322us       0.000us         0.00%       0.000us       0.000us           0 b           0 b           0 b           0 b           534  \n",
      "                aten::_has_compatible_shallow_copy_type         0.00%     129.000us         0.00%     129.000us       3.583us       0.000us         0.00%       0.000us       0.000us           0 b           0 b           0 b           0 b            36  \n",
      "                                         aten::set_data         0.00%     306.000us         0.00%     363.000us      20.167us       0.000us         0.00%       0.000us       0.000us           0 b           0 b    -236.50 Kb    -236.50 Kb            18  \n",
      "                    aten::_use_cudnn_rnn_flatten_weight         0.00%       3.000us         0.00%       3.000us       3.000us       0.000us         0.00%       0.000us       0.000us           0 b           0 b           0 b           0 b             1  \n",
      "                        aten::_cudnn_rnn_flatten_weight         0.00%     884.000us         0.01%       6.945ms       6.945ms       8.000us         0.00%      13.000us      13.000us           0 b           0 b        -512 b           0 b             1  \n",
      "                                 cudaDeviceGetAttribute         0.00%      11.000us         0.00%      11.000us       0.139us       0.000us         0.00%       0.000us       0.000us           0 b           0 b           0 b           0 b            79  \n",
      "                              cudaStreamCreateWithFlags         0.00%       2.659ms         0.00%       2.659ms     166.188us       0.000us         0.00%       0.000us       0.000us           0 b           0 b           0 b           0 b            16  \n",
      "                       cudaDeviceGetStreamPriorityRange         0.00%       4.000us         0.00%       4.000us       2.000us       0.000us         0.00%       0.000us       0.000us           0 b           0 b           0 b           0 b             2  \n",
      "                           cudaStreamCreateWithPriority         0.00%       1.809ms         0.00%       1.809ms      12.739us       0.000us         0.00%       0.000us       0.000us           0 b           0 b           0 b           0 b           142  \n",
      "                                        cudaMemsetAsync         0.00%     200.000us         0.00%     200.000us      25.000us       0.000us         0.00%       0.000us       0.000us           0 b           0 b           0 b           0 b             8  \n",
      "                               cudaEventCreateWithFlags         0.03%      18.392ms         0.03%      18.392ms       1.107us       0.000us         0.00%       0.000us       0.000us           0 b           0 b           0 b           0 b         16614  \n",
      "                                          cudaHostAlloc         0.00%       1.509ms         0.00%       1.509ms     754.500us       0.000us         0.00%       0.000us       0.000us           0 b           0 b           0 b           0 b             2  \n",
      "                                        Memset (Device)         0.00%       0.000us         0.00%       0.000us       0.000us      12.000us         0.01%      12.000us       1.500us           0 b           0 b           0 b           0 b             8  \n",
      "                               cudaHostGetDevicePointer         0.00%       4.000us         0.00%       4.000us       2.000us       0.000us         0.00%       0.000us       0.000us           0 b           0 b           0 b           0 b             2  \n",
      "                                               cudaFree         0.01%       7.590ms         0.01%       7.590ms     330.000us       0.000us         0.00%       0.000us       0.000us           0 b           0 b           0 b           0 b            23  \n",
      "                                             cudaMemcpy         0.00%     327.000us         0.00%     327.000us      81.750us       0.000us         0.00%       0.000us       0.000us           0 b           0 b           0 b           0 b             4  \n",
      "                                   cudaFuncSetAttribute         0.00%       1.081ms         0.00%       1.081ms       1.599us       0.000us         0.00%       0.000us       0.000us           0 b           0 b           0 b           0 b           676  \n",
      "                                        cudaEventRecord         0.03%      17.487ms         0.03%      17.487ms       0.943us       0.000us         0.00%       0.000us       0.000us           0 b           0 b           0 b           0 b         18548  \n",
      "                                            aten::fill_         0.00%       2.731ms         0.01%       6.960ms      31.927us     149.000us         0.07%     149.000us       0.683us           0 b           0 b           0 b           0 b           218  \n",
      "                                       cudaLaunchKernel         0.38%     233.473ms         0.38%     233.473ms      10.368us       0.000us         0.00%       0.000us       0.000us           0 b           0 b           0 b           0 b         22518  \n",
      "                                             aten::set_         0.02%      10.299ms         0.02%      10.299ms      12.046us       0.000us         0.00%       0.000us       0.000us           0 b           0 b    -117.50 Kb    -117.50 Kb           855  \n",
      "                                          aten::view_as         0.00%      42.000us         0.00%      71.000us       8.875us       0.000us         0.00%       0.000us       0.000us           0 b           0 b           0 b           0 b             8  \n",
      "                                             aten::view         0.00%     205.000us         0.00%     205.000us       7.321us       0.000us         0.00%       0.000us       0.000us           0 b           0 b           0 b           0 b            28  \n",
      "void at::native::vectorized_elementwise_kernel<4, at...         0.00%       0.000us         0.00%       0.000us       0.000us     149.000us         0.07%     149.000us       0.837us           0 b           0 b           0 b           0 b           178  \n",
      "                         Memcpy DtoD (Device -> Device)         0.00%       0.000us         0.00%       0.000us       0.000us     271.000us         0.12%     271.000us       1.034us           0 b           0 b           0 b           0 b           262  \n",
      "                                          aten::random_         0.00%       1.176ms         0.00%       1.176ms      37.935us       0.000us         0.00%       0.000us       0.000us           0 b           0 b           0 b           0 b            31  \n",
      "                                             aten::item         0.00%       2.560ms         0.08%      48.602ms     216.009us       0.000us         0.00%     311.000us       1.382us           0 b           0 b           0 b           0 b           225  \n",
      "                              aten::_local_scalar_dense         0.01%       8.878ms         0.07%      46.042ms     204.631us     311.000us         0.14%     311.000us       1.382us           0 b           0 b           0 b           0 b           225  \n",
      "enumerate(DataLoader)#_MultiProcessingDataLoaderIter...         8.23%        5.088s         8.23%        5.091s     121.212ms       0.000us         0.00%       0.000us       0.000us     550.35 Mb     550.34 Mb           0 b           0 b            42  \n",
      "                                          aten::detach_         0.00%       1.388ms         0.00%       2.103ms       9.873us       0.000us         0.00%       0.000us       0.000us           0 b           0 b           0 b           0 b           213  \n",
      "                                                detach_         0.00%     715.000us         0.00%     715.000us       3.357us       0.000us         0.00%       0.000us       0.000us           0 b           0 b           0 b           0 b           213  \n",
      "                                              aten::gru         0.00%       2.202ms         0.48%     298.304ms      14.205ms       0.000us         0.00%      48.363ms       2.303ms           0 b           0 b      72.23 Mb           0 b            21  \n",
      "                              aten::cudnn_is_acceptable         0.00%      94.000us         0.00%      94.000us       4.476us       0.000us         0.00%       0.000us       0.000us           0 b           0 b           0 b           0 b            21  \n",
      "                                       aten::_cudnn_rnn         0.18%     108.721ms         0.48%     295.170ms      14.056ms      46.222ms        20.72%      48.363ms       2.303ms           0 b           0 b      72.23 Mb      -1.08 Gb            21  \n",
      "                                        aten::transpose         0.00%       1.757ms         0.00%       2.369ms      15.586us       0.000us         0.00%       0.000us       0.000us           0 b           0 b           0 b           0 b           152  \n",
      "                                       aten::as_strided         0.00%       2.228ms         0.00%       2.228ms       3.107us       0.000us         0.00%       0.000us       0.000us           0 b           0 b           0 b           0 b           717  \n",
      "                                       aten::contiguous         0.00%       1.157ms         0.02%      13.629ms     267.235us       0.000us         0.00%       4.980ms      97.647us           0 b           0 b       1.26 Gb           0 b            51  \n",
      "                                       aten::empty_like         0.00%       1.406ms         0.03%      15.767ms     138.307us       0.000us         0.00%       0.000us       0.000us           0 b           0 b       1.27 Gb           0 b           114  \n",
      "                                           aten::select         0.00%       1.110ms         0.00%       1.391ms      13.637us       0.000us         0.00%       0.000us       0.000us           0 b           0 b           0 b           0 b           102  \n",
      "void at::native::unrolled_elementwise_kernel<at::nat...         0.00%       0.000us         0.00%       0.000us       0.000us       5.039ms         2.26%       5.039ms      69.986us           0 b           0 b           0 b           0 b            72  \n",
      "                                       cudaStreamCreate         0.00%       1.368ms         0.00%       1.368ms      26.824us       0.000us         0.00%       0.000us       0.000us           0 b           0 b           0 b           0 b            51  \n",
      "                                    cudaStreamWaitEvent         0.02%      13.172ms         0.02%      13.172ms       0.960us       0.000us         0.00%       0.000us       0.000us           0 b           0 b           0 b           0 b         13715  \n",
      "cudaOccupancyMaxActiveBlocksPerMultiprocessorWithFla...         0.02%       9.296ms         0.02%       9.296ms       0.838us       0.000us         0.00%       0.000us       0.000us           0 b           0 b           0 b           0 b         11088  \n",
      "                                         cudaEventQuery         0.00%       2.664ms         0.00%       2.664ms       1.269us       0.000us         0.00%       0.000us       0.000us           0 b           0 b           0 b           0 b          2100  \n",
      "void transpose_readWrite_alignment_kernel<float, flo...         0.00%       0.000us         0.00%       0.000us       0.000us     142.000us         0.06%     142.000us       3.381us           0 b           0 b           0 b           0 b            42  \n",
      "                         volta_sgemm_64x32_sliced1x4_nn         0.00%       0.000us         0.00%       0.000us       0.000us       3.461ms         1.55%       3.461ms       8.068us           0 b           0 b           0 b           0 b           429  \n",
      "                                  volta_sgemm_128x32_nn         0.00%       0.000us         0.00%       0.000us       0.000us      23.704ms        10.62%      23.704ms       4.132us           0 b           0 b           0 b           0 b          5737  \n",
      "void splitKreduce_kernel<float, float, float>(cublas...         0.00%       0.000us         0.00%       0.000us       0.000us       4.813ms         2.16%       4.813ms       2.325us           0 b           0 b           0 b           0 b          2070  \n",
      "void GRU_elementWise_fp<float, float, float, (cudnnR...         0.00%       0.000us         0.00%       0.000us       0.000us       7.872ms         3.53%       7.872ms       1.594us           0 b           0 b           0 b           0 b          4937  \n",
      "                                       cudaEventDestroy         0.01%       4.961ms         0.01%       4.961ms       0.300us       0.000us         0.00%       0.000us       0.000us           0 b           0 b           0 b           0 b         16513  \n",
      "                                      cudaStreamDestroy         0.00%       1.170ms         0.00%       1.170ms       6.324us       0.000us         0.00%       0.000us       0.000us           0 b           0 b           0 b           0 b           185  \n",
      "                                       aten::transpose_         0.00%     523.000us         0.00%     664.000us      21.419us       0.000us         0.00%       0.000us       0.000us           0 b           0 b           0 b           0 b            31  \n",
      "                                      aten::as_strided_         0.00%     141.000us         0.00%     141.000us       4.548us       0.000us         0.00%       0.000us       0.000us           0 b           0 b           0 b           0 b            31  \n",
      "                                          aten::squeeze         0.00%       2.185ms         0.00%       2.552ms      17.243us       0.000us         0.00%       0.000us       0.000us           0 b           0 b           0 b           0 b           148  \n",
      "                                           aten::linear         0.00%     650.000us         0.01%       8.348ms     397.524us       0.000us         0.00%     123.000us       5.857us           0 b           0 b      10.50 Kb           0 b            21  \n",
      "                                                aten::t         0.00%       2.368ms         0.01%       3.355ms      55.000us       0.000us         0.00%       0.000us       0.000us           0 b           0 b           0 b           0 b            61  \n",
      "                                            aten::addmm         0.00%       2.738ms         0.01%       5.829ms     277.571us     123.000us         0.06%     123.000us       5.857us           0 b           0 b      10.50 Kb           0 b            21  \n",
      "                                           aten::expand         0.00%     293.000us         0.00%     389.000us      12.548us       0.000us         0.00%       0.000us       0.000us           0 b           0 b           0 b           0 b            31  \n",
      "                                          aten::resize_         0.00%       2.311ms         0.00%       2.311ms       9.834us       0.000us         0.00%       0.000us       0.000us          80 b          80 b      72.00 Kb      72.00 Kb           235  \n",
      "                         volta_sgemm_32x32_sliced1x4_nn         0.00%       0.000us         0.00%       0.000us       0.000us      26.717ms        11.98%      26.717ms       5.519us           0 b           0 b           0 b           0 b          4841  \n",
      "                                          aten::sigmoid         0.00%     889.000us         0.00%       1.953ms      93.000us      42.000us         0.02%      42.000us       2.000us           0 b           0 b      10.50 Kb           0 b            21  \n",
      "                             aten::binary_cross_entropy         0.00%       1.807ms         0.01%       6.582ms     313.429us      63.000us         0.03%     187.000us       8.905us           0 b           0 b      10.50 Kb     -10.50 Kb            21  \n",
      "                                             aten::mean         0.01%       3.561ms         0.02%      10.663ms     104.539us     258.000us         0.12%     258.000us       2.529us         160 b           0 b      31.00 Kb           0 b           102  \n",
      "                                       aten::resize_as_         0.00%     490.000us         0.00%     689.000us      11.295us       0.000us         0.00%       0.000us       0.000us           0 b           0 b           0 b           0 b            61  \n",
      "                                               aten::gt         0.00%       1.638ms         0.01%       5.170ms     123.095us      23.000us         0.01%      46.000us       1.095us           0 b           0 b      21.00 Kb           0 b            42  \n",
      "                                               aten::eq         0.00%       1.057ms         0.01%       3.631ms      86.452us      63.000us         0.03%     126.000us       3.000us           0 b           0 b      21.00 Kb           0 b            42  \n",
      "void gemv2T_kernel_val<int, int, float, float, float...         0.00%       0.000us         0.00%       0.000us       0.000us      63.000us         0.03%      63.000us       3.000us           0 b           0 b           0 b           0 b            21  \n",
      "void at::native::vectorized_elementwise_kernel<4, at...         0.00%       0.000us         0.00%       0.000us       0.000us      42.000us         0.02%      42.000us       2.000us           0 b           0 b           0 b           0 b            21  \n",
      "void at::native::unrolled_elementwise_kernel<at::nat...         0.00%       0.000us         0.00%       0.000us       0.000us     164.000us         0.07%     164.000us       2.000us           0 b           0 b           0 b           0 b            82  \n",
      "void at::native::vectorized_elementwise_kernel<4, at...         0.00%       0.000us         0.00%       0.000us       0.000us      63.000us         0.03%      63.000us       3.000us           0 b           0 b           0 b           0 b            21  \n",
      "void at::native::reduce_kernel<512, 1, at::native::R...         0.00%       0.000us         0.00%       0.000us       0.000us     258.000us         0.12%     258.000us       4.161us           0 b           0 b           0 b           0 b            62  \n",
      "void at::native::vectorized_elementwise_kernel<4, at...         0.00%       0.000us         0.00%       0.000us       0.000us      23.000us         0.01%      23.000us       1.095us           0 b           0 b           0 b           0 b            21  \n",
      "void at::native::unrolled_elementwise_kernel<at::nat...         0.00%       0.000us         0.00%       0.000us       0.000us      63.000us         0.03%      63.000us       3.000us           0 b           0 b           0 b           0 b            21  \n",
      "                                           aten::detach         0.00%       1.594ms         0.00%       2.576ms       9.541us       0.000us         0.00%       0.000us       0.000us           0 b           0 b           0 b           0 b           270  \n",
      "                                                 detach         0.00%     982.000us         0.00%     982.000us       3.637us       0.000us         0.00%       0.000us       0.000us           0 b           0 b           0 b           0 b           270  \n",
      "                       Memcpy DtoH (Device -> Pageable)         0.00%       0.000us         0.00%       0.000us       0.000us     994.000us         0.45%     994.000us       2.784us           0 b           0 b           0 b           0 b           357  \n",
      "                                              aten::cat         0.00%       1.417ms         0.02%      10.249ms     142.347us       0.000us         0.00%      62.000us       0.861us          80 b           0 b      31.00 Kb           0 b            72  \n",
      "                                             aten::_cat         0.01%       3.610ms         0.01%       8.832ms     122.667us      62.000us         0.03%      62.000us       0.861us          80 b           0 b      31.00 Kb           0 b            72  \n",
      "                                           aten::narrow         0.00%     588.000us         0.00%       1.478ms      20.528us       0.000us         0.00%       0.000us       0.000us           0 b           0 b           0 b           0 b            72  \n",
      "                                            aten::slice         0.00%       1.520ms         0.00%       1.875ms      16.741us       0.000us         0.00%       0.000us       0.000us           0 b           0 b           0 b           0 b           112  \n",
      "                                         aten::randperm         0.00%       1.135ms         0.00%       2.483ms     124.150us       0.000us         0.00%       0.000us       0.000us       3.83 Kb         -80 b           0 b           0 b            20  \n",
      "                                    aten::scalar_tensor         0.00%     187.000us         0.00%     187.000us      18.700us       0.000us         0.00%       0.000us       0.000us          80 b          80 b           0 b           0 b            10  \n",
      "                               Optimizer.step#Adam.step         0.40%     248.850ms         0.96%     595.971ms      59.597ms       0.000us         0.00%     131.913ms      13.191ms          40 b        -120 b     430.71 Mb      -2.18 Mb            10  \n",
      "                                              aten::div         0.01%       3.857ms         0.02%       9.707ms      97.070us     120.000us         0.05%     120.000us       1.200us           0 b           0 b       1.18 Mb           0 b           100  \n",
      "                                            aten::clone         0.00%     263.000us         0.00%     853.000us      85.300us       0.000us         0.00%      10.000us       1.000us           0 b           0 b       5.00 Kb           0 b            10  \n",
      "void at::native::vectorized_elementwise_kernel<4, at...         0.00%       0.000us         0.00%       0.000us       0.000us     218.000us         0.10%     218.000us       1.038us           0 b           0 b           0 b           0 b           210  \n",
      "                     Optimizer.zero_grad#Adam.zero_grad         0.00%       1.594ms         0.01%       3.946ms     394.600us       0.000us         0.00%      37.000us       3.700us         -40 b        -200 b           0 b           0 b            10  \n",
      "-------------------------------------------------------  ------------  ------------  ------------  ------------  ------------  ------------  ------------  ------------  ------------  ------------  ------------  ------------  ------------  ------------  \n",
      "Self CPU time total: 61.857s\n",
      "Self CUDA time total: 223.100ms\n",
      "\n"
     ]
    },
    {
     "data": {
      "image/png": "[encoded data removed]",
      "text/plain": [
       "<Figure size 1728x576 with 2 Axes>"
      ]
     },
     "metadata": {
      "needs_background": "light"
     },
     "output_type": "display_data"
    },
    {
     "name": "stdout",
     "output_type": "stream",
     "text": [
      "-------------------------------------------------------  ------------  ------------  ------------  ------------  ------------  ------------  ------------  ------------  \n",
      "                                                   Name    Self CPU %      Self CPU   CPU total %     CPU total  CPU time avg       CPU Mem  Self CPU Mem    # of Calls  \n",
      "-------------------------------------------------------  ------------  ------------  ------------  ------------  ------------  ------------  ------------  ------------  \n",
      "                                            aten::zeros         0.02%     244.000us         0.25%       3.116ms     779.000us       3.14 Kb           0 b             4  \n",
      "                                            aten::empty         0.48%       5.907ms         0.48%       5.907ms      15.710us      15.68 Mb      15.68 Mb           376  \n",
      "                                            aten::zero_         0.00%      16.000us         0.00%      16.000us       4.000us           0 b           0 b             4  \n",
      "                                          model_testing        71.65%     878.609ms        99.77%        1.223s        1.223s          -4 b     -30.63 Mb             1  \n",
      "                                          aten::random_         0.00%      31.000us         0.00%      31.000us      31.000us           0 b           0 b             1  \n",
      "                                aten::is_floating_point         0.00%       2.000us         0.00%       2.000us       2.000us           0 b           0 b             1  \n",
      "                                             aten::item         0.00%      13.000us         0.00%      23.000us      23.000us           0 b           0 b             1  \n",
      "                              aten::_local_scalar_dense         0.00%      10.000us         0.00%      10.000us      10.000us           0 b           0 b             1  \n",
      "enumerate(DataLoader)#_MultiProcessingDataLoaderIter...        18.84%     231.016ms        18.86%     231.237ms     115.618ms      13.85 Mb      13.85 Mb             2  \n",
      "                                               aten::to         0.00%      15.000us         0.00%      15.000us       3.750us           0 b           0 b             4  \n",
      "                                          aten::detach_         0.01%      77.000us         0.01%      97.000us      48.500us           0 b           0 b             2  \n",
      "                                                detach_         0.00%      20.000us         0.00%      20.000us      10.000us           0 b           0 b             2  \n",
      "                                             aten::set_         0.00%      59.000us         0.00%      59.000us      29.500us           0 b           0 b             2  \n",
      "                                              aten::gru         0.58%       7.068ms         9.21%     112.881ms     112.881ms      16.78 Mb      -1.10 Mb             1  \n",
      "                              aten::cudnn_is_acceptable         0.00%       3.000us         0.00%       3.000us       3.000us           0 b           0 b             1  \n",
      "                                        aten::transpose         0.09%       1.118ms         0.11%       1.343ms      10.919us           0 b           0 b           123  \n",
      "                                       aten::as_strided         0.31%       3.780ms         0.31%       3.780ms       3.129us           0 b           0 b          1208  \n",
      "                                           aten::unbind         0.12%       1.416ms         0.48%       5.871ms       2.936ms           0 b           0 b             2  \n",
      "                                           aten::select         0.24%       2.983ms         0.36%       4.455ms      36.818us           0 b           0 b           121  \n",
      "                                           aten::linear         0.12%       1.448ms         3.26%      40.025ms     328.074us      16.04 Mb           0 b           122  \n",
      "                                                aten::t         0.15%       1.863ms         0.25%       3.054ms      25.033us           0 b           0 b           122  \n",
      "                                           aten::matmul         0.02%     248.000us         1.79%      21.895ms      21.895ms      14.95 Mb           0 b             1  \n",
      "                                       aten::contiguous         0.00%      58.000us         1.20%      14.745ms      14.745ms      13.85 Mb           0 b             1  \n",
      "                                       aten::empty_like         0.09%       1.080ms         0.20%       2.417ms      19.975us      14.21 Mb           0 b           121  \n",
      "                                            aten::copy_         1.45%      17.807ms         1.45%      17.807ms      49.191us           0 b           0 b           362  \n",
      "                                             aten::view         0.01%      88.000us         0.01%      88.000us      29.333us           0 b           0 b             3  \n",
      "                                               aten::mm         0.54%       6.671ms         0.55%       6.804ms       6.804ms       1.10 Mb           0 b             1  \n",
      "                                     aten::_unsafe_view         0.00%      36.000us         0.01%      66.000us      66.000us           0 b           0 b             1  \n",
      "                                             aten::add_         0.75%       9.170ms         0.75%       9.170ms      25.402us           0 b           0 b           361  \n",
      "                                     aten::unsafe_chunk         0.10%       1.186ms         1.62%      19.824ms      82.600us           0 b           0 b           240  \n",
      "                                     aten::unsafe_split         0.70%       8.525ms         1.52%      18.638ms      77.658us           0 b           0 b           240  \n",
      "                                           aten::narrow         0.28%       3.419ms         0.83%      10.126ms      14.044us           0 b           0 b           721  \n",
      "                                            aten::slice         0.42%       5.105ms         0.55%       6.707ms       9.302us           0 b           0 b           721  \n",
      "                                            aten::addmm         0.53%       6.457ms         0.78%       9.534ms      78.793us       1.10 Mb       1.10 Mb           121  \n",
      "                                           aten::expand         0.07%     857.000us         0.09%       1.134ms       9.372us           0 b           0 b           121  \n",
      "                                         aten::sigmoid_         0.33%       4.006ms         0.43%       5.273ms      21.971us           0 b           0 b           240  \n",
      "                                          aten::sigmoid         0.11%       1.317ms         0.11%       1.326ms       5.502us         200 b           0 b           241  \n",
      "                                             aten::mul_         0.43%       5.273ms         1.40%      17.170ms      35.771us     750.00 Kb           0 b           480  \n",
      "                                            aten::clone         0.47%       5.797ms         0.88%      10.784ms      44.933us     750.00 Kb           0 b           240  \n",
      "                                              aten::add         0.24%       2.976ms         0.24%       2.976ms      24.800us     375.00 Kb     375.00 Kb           120  \n",
      "                                            aten::tanh_         0.27%       3.341ms         0.35%       4.311ms      35.925us           0 b           0 b           120  \n",
      "                                             aten::tanh         0.08%     970.000us         0.08%     970.000us       8.083us           0 b           0 b           120  \n",
      "                                              aten::sub         0.25%       3.040ms         0.34%       4.219ms      35.158us     375.00 Kb           0 b           120  \n",
      "                                    aten::empty_strided         0.09%       1.076ms         0.09%       1.076ms       8.967us     375.00 Kb     375.00 Kb           120  \n",
      "                                            aten::stack         0.06%     765.000us         0.18%       2.200ms       1.100ms     378.12 Kb           0 b             2  \n",
      "                                        aten::unsqueeze         0.06%     722.000us         0.08%     924.000us       7.636us           0 b           0 b           121  \n",
      "                                              aten::cat         0.00%      43.000us         0.04%     511.000us     255.500us     378.12 Kb           0 b             2  \n",
      "                                             aten::_cat         0.03%     426.000us         0.04%     468.000us     234.000us     378.12 Kb           0 b             2  \n",
      "                                          aten::resize_         0.00%      24.000us         0.00%      24.000us      12.000us     378.12 Kb     378.12 Kb             2  \n",
      "                                       aten::transpose_         0.00%      23.000us         0.00%      25.000us      25.000us           0 b           0 b             1  \n",
      "                                      aten::as_strided_         0.00%       2.000us         0.00%       2.000us       2.000us           0 b           0 b             1  \n",
      "                                          aten::squeeze         0.00%      26.000us         0.00%      28.000us      28.000us           0 b           0 b             1  \n",
      "                                          aten::flatten         0.00%      20.000us         0.00%      46.000us      23.000us           0 b           0 b             2  \n",
      "                                           aten::detach         0.00%      14.000us         0.00%      22.000us      11.000us           0 b           0 b             2  \n",
      "                                                 detach         0.00%       8.000us         0.00%       8.000us       4.000us           0 b           0 b             2  \n",
      "-------------------------------------------------------  ------------  ------------  ------------  ------------  ------------  ------------  ------------  ------------  \n",
      "Self CPU time total: 1.226s\n",
      "\n"
     ]
    },
    {
     "name": "stderr",
     "output_type": "stream",
     "text": [
      "GPU available: True, used: True\n",
      "TPU available: False, using: 0 TPU cores\n",
      "LOCAL_RANK: 0 - CUDA_VISIBLE_DEVICES: [0,1]\n",
      "\n",
      "  | Name          | Type    | Params\n",
      "------------------------------------------\n",
      "0 | model         | RNN     | 29.9 K\n",
      "1 | loss_function | BCELoss | 0     \n",
      "------------------------------------------\n",
      "29.9 K    Trainable params\n",
      "0         Non-trainable params\n",
      "29.9 K    Total params\n",
      "0.120     Total estimated model params size (MB)\n"
     ]
    },
    {
     "data": {
      "application/vnd.jupyter.widget-view+json": {
       "model_id": "8eb0ed5f19ff48d78a59324a0206c4c9",
       "version_major": 2,
       "version_minor": 0
      },
      "text/plain": [
       "Validation sanity check: 0it [00:00, ?it/s]"
      ]
     },
     "metadata": {},
     "output_type": "display_data"
    },
    {
     "data": {
      "application/vnd.jupyter.widget-view+json": {
       "model_id": "0f7b536a1ad84b1ea345cda3d6013a90",
       "version_major": 2,
       "version_minor": 0
      },
      "text/plain": [
       "Training: 0it [00:00, ?it/s]"
      ]
     },
     "metadata": {},
     "output_type": "display_data"
    },
    {
     "data": {
      "application/vnd.jupyter.widget-view+json": {
       "model_id": "fbf9ae1e86864751adbc4b10cd4a74ed",
       "version_major": 2,
       "version_minor": 0
      },
      "text/plain": [
       "Validating: 0it [00:00, ?it/s]"
      ]
     },
     "metadata": {},
     "output_type": "display_data"
    },
    {
     "data": {
      "application/vnd.jupyter.widget-view+json": {
       "model_id": "9a02f8ed0778404ea4b795c2630597c8",
       "version_major": 2,
       "version_minor": 0
      },
      "text/plain": [
       "Validating: 0it [00:00, ?it/s]"
      ]
     },
     "metadata": {},
     "output_type": "display_data"
    },
    {
     "data": {
      "application/vnd.jupyter.widget-view+json": {
       "model_id": "428399646a9f45e7a961db297233f133",
       "version_major": 2,
       "version_minor": 0
      },
      "text/plain": [
       "Validating: 0it [00:00, ?it/s]"
      ]
     },
     "metadata": {},
     "output_type": "display_data"
    },
    {
     "data": {
      "application/vnd.jupyter.widget-view+json": {
       "model_id": "30f826a7ff4c4e4e9c34837e5b7f3078",
       "version_major": 2,
       "version_minor": 0
      },
      "text/plain": [
       "Validating: 0it [00:00, ?it/s]"
      ]
     },
     "metadata": {},
     "output_type": "display_data"
    },
    {
     "data": {
      "application/vnd.jupyter.widget-view+json": {
       "model_id": "e26ef93830bb423a9da6d78588d615fc",
       "version_major": 2,
       "version_minor": 0
      },
      "text/plain": [
       "Validating: 0it [00:00, ?it/s]"
      ]
     },
     "metadata": {},
     "output_type": "display_data"
    },
    {
     "data": {
      "application/vnd.jupyter.widget-view+json": {
       "model_id": "9a470b9a724b4b77af4e7793f78cd90f",
       "version_major": 2,
       "version_minor": 0
      },
      "text/plain": [
       "Validating: 0it [00:00, ?it/s]"
      ]
     },
     "metadata": {},
     "output_type": "display_data"
    },
    {
     "data": {
      "application/vnd.jupyter.widget-view+json": {
       "model_id": "2fff41a810d54bdfa3fa48c5ffaafcdc",
       "version_major": 2,
       "version_minor": 0
      },
      "text/plain": [
       "Validating: 0it [00:00, ?it/s]"
      ]
     },
     "metadata": {},
     "output_type": "display_data"
    },
    {
     "data": {
      "application/vnd.jupyter.widget-view+json": {
       "model_id": "df63748495f447068b1e6f46d83646bf",
       "version_major": 2,
       "version_minor": 0
      },
      "text/plain": [
       "Validating: 0it [00:00, ?it/s]"
      ]
     },
     "metadata": {},
     "output_type": "display_data"
    },
    {
     "data": {
      "application/vnd.jupyter.widget-view+json": {
       "model_id": "684935a4a3bc4c4e838429391c6f9917",
       "version_major": 2,
       "version_minor": 0
      },
      "text/plain": [
       "Validating: 0it [00:00, ?it/s]"
      ]
     },
     "metadata": {},
     "output_type": "display_data"
    },
    {
     "data": {
      "application/vnd.jupyter.widget-view+json": {
       "model_id": "e80ed4ef9cfd418c9669d1d4ce607508",
       "version_major": 2,
       "version_minor": 0
      },
      "text/plain": [
       "Validating: 0it [00:00, ?it/s]"
      ]
     },
     "metadata": {},
     "output_type": "display_data"
    },
    {
     "name": "stdout",
     "output_type": "stream",
     "text": [
      "-------------------------------------------------------  ------------  ------------  ------------  ------------  ------------  ------------  ------------  ------------  ------------  ------------  ------------  ------------  ------------  ------------  \n",
      "                                                   Name    Self CPU %      Self CPU   CPU total %     CPU total  CPU time avg     Self CUDA   Self CUDA %    CUDA total  CUDA time avg       CPU Mem  Self CPU Mem      CUDA Mem  Self CUDA Mem    # of Calls  \n",
      "-------------------------------------------------------  ------------  ------------  ------------  ------------  ------------  ------------  ------------  ------------  ------------  ------------  ------------  ------------  ------------  ------------  \n",
      "                                            aten::zeros         0.03%       6.923ms         0.09%      21.960ms     207.170us       0.000us         0.00%      32.000us       0.302us         372 b           0 b       1.32 Mb           0 b           106  \n",
      "                                            aten::empty         0.08%      19.284ms         0.27%      68.292ms      50.964us       0.000us         0.00%       0.000us       0.000us       6.36 Kb       6.36 Kb       3.24 Gb       3.24 Gb          1340  \n",
      "                                            aten::zero_         0.02%       5.819ms         0.09%      21.857ms      86.051us       0.000us         0.00%     124.000us       0.488us           0 b           0 b           0 b           0 b           254  \n",
      "                                         model_training        72.52%       18.410s        99.10%       25.156s       25.156s     179.000us         0.08%     191.315ms     191.315ms         156 b    -544.50 Mb     507.01 Mb    -128.73 Mb             1  \n",
      "                                aten::is_floating_point         0.00%     413.000us         0.00%     413.000us       2.197us       0.000us         0.00%       0.000us       0.000us           0 b           0 b           0 b           0 b           188  \n",
      "                                               aten::to         0.03%       8.545ms         1.30%     330.315ms     607.197us       0.000us         0.00%     142.234ms     261.460us     239.54 Kb           0 b     545.54 Mb           0 b           544  \n",
      "                                    aten::empty_strided         0.04%      11.256ms         0.08%      19.825ms      41.825us       0.000us         0.00%       0.000us       0.000us     239.54 Kb     239.54 Kb     545.80 Mb     545.80 Mb           474  \n",
      "                                            aten::copy_         0.06%      15.143ms         1.22%     309.019ms     597.716us     147.646ms        65.24%     147.646ms     285.582us           0 b           0 b           0 b           0 b           517  \n",
      "                                        cudaMemcpyAsync         0.75%     189.387ms         0.75%     189.387ms     280.158us       0.000us         0.00%       0.000us       0.000us           0 b           0 b           0 b           0 b           676  \n",
      "                       Memcpy HtoD (Pageable -> Device)         0.00%       0.000us         0.00%       0.000us       0.000us     141.980ms        62.73%     141.980ms     631.022us           0 b           0 b           0 b           0 b           225  \n",
      "                                  cudaStreamSynchronize         0.48%     122.467ms         0.48%     122.467ms     323.987us       0.000us         0.00%       0.000us       0.000us           0 b           0 b           0 b           0 b           378  \n",
      "                aten::_has_compatible_shallow_copy_type         0.00%     155.000us         0.00%     155.000us       3.229us       0.000us         0.00%       0.000us       0.000us           0 b           0 b           0 b           0 b            48  \n",
      "                                         aten::set_data         0.00%     312.000us         0.00%     372.000us      15.500us       0.000us         0.00%       0.000us       0.000us    -233.76 Kb    -233.76 Kb    -236.50 Kb    -236.50 Kb            24  \n",
      "                    aten::_use_cudnn_rnn_flatten_weight         0.00%       3.000us         0.00%       3.000us       3.000us       0.000us         0.00%       0.000us       0.000us           0 b           0 b           0 b           0 b             1  \n",
      "                        aten::_cudnn_rnn_flatten_weight         0.00%     215.000us         0.03%       8.541ms       8.541ms       0.000us         0.00%       5.000us       5.000us           0 b           0 b        -512 b           0 b             1  \n",
      "                                        cudaEventRecord         0.11%      27.642ms         0.11%      27.642ms       1.424us       0.000us         0.00%       0.000us       0.000us           0 b           0 b           0 b           0 b         19411  \n",
      "                                            aten::fill_         0.01%       3.474ms         0.07%      16.610ms      72.217us     129.000us         0.06%     129.000us       0.561us           0 b           0 b           0 b           0 b           230  \n",
      "                                       cudaLaunchKernel         1.19%     303.160ms         1.19%     303.160ms      12.857us       0.000us         0.00%       0.000us       0.000us           0 b           0 b           0 b           0 b         23579  \n",
      "                                             aten::set_         0.04%       9.704ms         0.04%       9.704ms      17.115us       0.000us         0.00%       0.000us       0.000us           0 b           0 b    -117.50 Kb    -117.50 Kb           567  \n",
      "                                          aten::view_as         0.00%      46.000us         0.00%      65.000us       8.125us       0.000us         0.00%       0.000us       0.000us           0 b           0 b           0 b           0 b             8  \n",
      "                                             aten::view         0.00%     202.000us         0.00%     202.000us       7.214us       0.000us         0.00%       0.000us       0.000us           0 b           0 b           0 b           0 b            28  \n",
      "void at::native::vectorized_elementwise_kernel<4, at...         0.00%       0.000us         0.00%       0.000us       0.000us     129.000us         0.06%     129.000us       0.679us           0 b           0 b           0 b           0 b           190  \n",
      "                         Memcpy DtoD (Device -> Device)         0.00%       0.000us         0.00%       0.000us       0.000us     256.000us         0.11%     256.000us       1.000us           0 b           0 b           0 b           0 b           256  \n",
      "                                          aten::random_         0.02%       3.925ms         0.02%       3.925ms     126.613us       0.000us         0.00%       0.000us       0.000us           0 b           0 b           0 b           0 b            31  \n",
      "                                             aten::item         0.01%       2.941ms         0.11%      27.533ms     133.010us       0.000us         0.00%     235.000us       1.135us           0 b           0 b           0 b           0 b           207  \n",
      "                              aten::_local_scalar_dense         0.04%      10.479ms         0.10%      24.592ms     118.802us     235.000us         0.10%     235.000us       1.135us           0 b           0 b           0 b           0 b           207  \n",
      "enumerate(DataLoader)#_MultiProcessingDataLoaderIter...        21.55%        5.470s        21.56%        5.474s     130.329ms       0.000us         0.00%       0.000us       0.000us     544.49 Mb     544.49 Mb           0 b           0 b            42  \n",
      "                                          aten::detach_         0.01%       1.952ms         0.01%       2.851ms      13.385us       0.000us         0.00%       0.000us       0.000us           0 b           0 b           0 b           0 b           213  \n",
      "                                                detach_         0.00%     899.000us         0.00%     899.000us       4.221us       0.000us         0.00%       0.000us       0.000us           0 b           0 b           0 b           0 b           213  \n",
      "                                             cudaMalloc         0.23%      57.577ms         0.23%      57.577ms       7.197ms       0.000us         0.00%       0.000us       0.000us           0 b           0 b           0 b           0 b             8  \n",
      "                                              aten::gru         0.01%       3.168ms         1.84%     466.593ms      22.219ms       0.000us         0.00%      47.103ms       2.243ms           0 b           0 b      89.97 Mb           0 b            21  \n",
      "                              aten::cudnn_is_acceptable         0.00%     106.000us         0.00%     106.000us       5.048us       0.000us         0.00%       0.000us       0.000us           0 b           0 b           0 b           0 b            21  \n",
      "                                       aten::_cudnn_rnn         0.60%     152.713ms         1.82%     461.863ms      21.993ms      44.991ms        19.88%      47.103ms       2.243ms           0 b           0 b      89.97 Mb      -1.07 Gb            21  \n",
      "                                        aten::transpose         0.01%       2.357ms         0.01%       3.025ms      19.901us       0.000us         0.00%       0.000us       0.000us           0 b           0 b           0 b           0 b           152  \n",
      "                                       aten::as_strided         0.01%       2.838ms         0.01%       2.838ms       3.958us       0.000us         0.00%       0.000us       0.000us           0 b           0 b           0 b           0 b           717  \n",
      "                                       aten::contiguous         0.01%       1.441ms         0.05%      13.886ms     272.275us       0.000us         0.00%       5.377ms     105.431us           0 b           0 b       1.37 Gb           0 b            51  \n",
      "                                       aten::empty_like         0.01%       2.041ms         0.04%      11.295ms      99.079us       0.000us         0.00%       0.000us       0.000us           0 b           0 b       1.38 Gb           0 b           114  \n",
      "void at::native::unrolled_elementwise_kernel<at::nat...         0.00%       0.000us         0.00%       0.000us       0.000us       5.426ms         2.40%       5.426ms      75.361us           0 b           0 b           0 b           0 b            72  \n",
      "                                           aten::select         0.01%       1.547ms         0.01%       1.947ms      19.088us       0.000us         0.00%       0.000us       0.000us           0 b           0 b           0 b           0 b           102  \n",
      "                               cudaEventCreateWithFlags         0.12%      29.887ms         0.12%      29.887ms       1.728us       0.000us         0.00%       0.000us       0.000us           0 b           0 b           0 b           0 b         17294  \n",
      "                                       cudaStreamCreate         0.01%       2.014ms         0.01%       2.014ms      39.490us       0.000us         0.00%       0.000us       0.000us           0 b           0 b           0 b           0 b            51  \n",
      "                           cudaStreamCreateWithPriority         0.00%       1.113ms         0.00%       1.113ms       8.306us       0.000us         0.00%       0.000us       0.000us           0 b           0 b           0 b           0 b           134  \n",
      "                                    cudaStreamWaitEvent         0.07%      18.240ms         0.07%      18.240ms       1.288us       0.000us         0.00%       0.000us       0.000us           0 b           0 b           0 b           0 b         14159  \n",
      "cudaOccupancyMaxActiveBlocksPerMultiprocessorWithFla...         0.06%      14.353ms         0.06%      14.353ms       1.231us       0.000us         0.00%       0.000us       0.000us           0 b           0 b           0 b           0 b         11664  \n",
      "                                         cudaEventQuery         0.02%       4.605ms         0.02%       4.605ms       2.104us       0.000us         0.00%       0.000us       0.000us           0 b           0 b           0 b           0 b          2189  \n",
      "void transpose_readWrite_alignment_kernel<float, flo...         0.00%       0.000us         0.00%       0.000us       0.000us     124.000us         0.05%     124.000us       2.952us           0 b           0 b           0 b           0 b            42  \n",
      "                                  volta_sgemm_128x32_nn         0.00%       0.000us         0.00%       0.000us       0.000us      23.659ms        10.45%      23.659ms       4.076us           0 b           0 b           0 b           0 b          5804  \n",
      "                         volta_sgemm_64x32_sliced1x4_nn         0.00%       0.000us         0.00%       0.000us       0.000us       2.289ms         1.01%       2.289ms       7.432us           0 b           0 b           0 b           0 b           308  \n",
      "void splitKreduce_kernel<float, float, float>(cublas...         0.00%       0.000us         0.00%       0.000us       0.000us       4.781ms         2.11%       4.781ms       2.214us           0 b           0 b           0 b           0 b          2159  \n",
      "void GRU_elementWise_fp<float, float, float, (cudnnR...         0.00%       0.000us         0.00%       0.000us       0.000us       7.219ms         3.19%       7.219ms       1.475us           0 b           0 b           0 b           0 b          4894  \n",
      "                         volta_sgemm_32x32_sliced1x4_nn         0.00%       0.000us         0.00%       0.000us       0.000us      28.898ms        12.77%      28.898ms       5.282us           0 b           0 b           0 b           0 b          5471  \n",
      "                                       cudaEventDestroy         0.06%      14.698ms         0.06%      14.698ms       0.850us       0.000us         0.00%       0.000us       0.000us           0 b           0 b           0 b           0 b         17294  \n",
      "                                      cudaStreamDestroy         0.01%       2.065ms         0.01%       2.065ms      11.162us       0.000us         0.00%       0.000us       0.000us           0 b           0 b           0 b           0 b           185  \n",
      "                                       aten::transpose_         0.01%       1.277ms         0.01%       1.499ms      48.355us       0.000us         0.00%       0.000us       0.000us           0 b           0 b           0 b           0 b            31  \n",
      "                                      aten::as_strided_         0.00%     222.000us         0.00%     222.000us       7.161us       0.000us         0.00%       0.000us       0.000us           0 b           0 b           0 b           0 b            31  \n",
      "                                          aten::squeeze         0.01%       3.149ms         0.01%       3.702ms      25.014us       0.000us         0.00%       0.000us       0.000us           0 b           0 b           0 b           0 b           148  \n",
      "                                           aten::linear         0.00%       1.013ms         0.03%       8.281ms     394.333us       0.000us         0.00%     112.000us       5.333us           0 b           0 b      10.50 Kb           0 b            21  \n",
      "                                                aten::t         0.01%       1.356ms         0.01%       2.428ms      39.803us       0.000us         0.00%       0.000us       0.000us           0 b           0 b           0 b           0 b            61  \n",
      "                                            aten::addmm         0.01%       3.299ms         0.02%       6.211ms     295.762us     112.000us         0.05%     112.000us       5.333us           0 b           0 b      10.50 Kb           0 b            21  \n",
      "                                           aten::expand         0.00%     405.000us         0.00%     645.000us      20.806us       0.000us         0.00%       0.000us       0.000us           0 b           0 b           0 b           0 b            31  \n",
      "                                          aten::resize_         0.01%       2.693ms         0.01%       2.693ms      11.916us       0.000us         0.00%       0.000us       0.000us          80 b          80 b      67.50 Kb      67.50 Kb           226  \n",
      "                                          aten::sigmoid         0.00%       1.154ms         0.01%       2.447ms     116.524us      42.000us         0.02%      42.000us       2.000us           0 b           0 b      10.50 Kb           0 b            21  \n",
      "void gemv2T_kernel_val<int, int, float, float, float...         0.00%       0.000us         0.00%       0.000us       0.000us      63.000us         0.03%      63.000us       3.000us           0 b           0 b           0 b           0 b            21  \n",
      "void at::native::vectorized_elementwise_kernel<4, at...         0.00%       0.000us         0.00%       0.000us       0.000us      42.000us         0.02%      42.000us       2.000us           0 b           0 b           0 b           0 b            21  \n",
      "void at::native::unrolled_elementwise_kernel<at::nat...         0.00%       0.000us         0.00%       0.000us       0.000us     153.000us         0.07%     153.000us       1.866us           0 b           0 b           0 b           0 b            82  \n",
      "                             aten::binary_cross_entropy         0.01%       2.466ms         0.06%      14.509ms     690.905us      63.000us         0.03%     185.000us       8.810us           0 b           0 b      10.50 Kb     -10.50 Kb            21  \n",
      "                                             aten::mean         0.02%       4.799ms         0.05%      13.178ms     129.196us     253.000us         0.11%     253.000us       2.480us         160 b           0 b      31.00 Kb           0 b           102  \n",
      "                                       aten::resize_as_         0.03%       6.399ms         0.03%       6.722ms     110.197us       0.000us         0.00%       0.000us       0.000us           0 b           0 b           0 b           0 b            61  \n",
      "                                               aten::gt         0.01%       2.223ms         0.03%       6.487ms     154.452us      21.000us         0.01%      42.000us       1.000us           0 b           0 b      21.00 Kb           0 b            42  \n",
      "void at::native::vectorized_elementwise_kernel<4, at...         0.00%       0.000us         0.00%       0.000us       0.000us      63.000us         0.03%      63.000us       3.000us           0 b           0 b           0 b           0 b            21  \n",
      "void at::native::reduce_kernel<512, 1, at::native::R...         0.00%       0.000us         0.00%       0.000us       0.000us     253.000us         0.11%     253.000us       4.081us           0 b           0 b           0 b           0 b            62  \n",
      "                                               aten::eq         0.01%       1.474ms         0.02%       4.669ms     111.167us      63.000us         0.03%     126.000us       3.000us           0 b           0 b      21.00 Kb           0 b            42  \n",
      "void at::native::vectorized_elementwise_kernel<4, at...         0.00%       0.000us         0.00%       0.000us       0.000us      21.000us         0.01%      21.000us       1.000us           0 b           0 b           0 b           0 b            21  \n",
      "void at::native::unrolled_elementwise_kernel<at::nat...         0.00%       0.000us         0.00%       0.000us       0.000us      63.000us         0.03%      63.000us       3.000us           0 b           0 b           0 b           0 b            21  \n",
      "                                           aten::detach         0.01%       2.517ms         0.01%       3.467ms      16.051us       0.000us         0.00%       0.000us       0.000us           0 b           0 b           0 b           0 b           216  \n",
      "                                                 detach         0.00%     950.000us         0.00%     950.000us       4.398us       0.000us         0.00%       0.000us       0.000us           0 b           0 b           0 b           0 b           216  \n",
      "                       Memcpy DtoH (Device -> Pageable)         0.00%       0.000us         0.00%       0.000us       0.000us     377.000us         0.17%     377.000us       1.933us           0 b           0 b           0 b           0 b           195  \n",
      "                                              aten::cat         0.01%       1.421ms         0.04%      10.635ms     147.708us       0.000us         0.00%      62.000us       0.861us          80 b           0 b      31.00 Kb           0 b            72  \n",
      "                                             aten::_cat         0.02%       4.004ms         0.04%       9.214ms     127.972us      62.000us         0.03%      62.000us       0.861us          80 b           0 b      31.00 Kb           0 b            72  \n",
      "                                           aten::narrow         0.00%     613.000us         0.01%       1.593ms      22.125us       0.000us         0.00%       0.000us       0.000us           0 b           0 b           0 b           0 b            72  \n",
      "                                            aten::slice         0.01%       1.848ms         0.01%       2.247ms      20.062us       0.000us         0.00%       0.000us       0.000us           0 b           0 b           0 b           0 b           112  \n",
      "                                               cudaFree         0.02%       6.226ms         0.02%       6.226ms     778.250us       0.000us         0.00%       0.000us       0.000us           0 b           0 b           0 b           0 b             8  \n",
      "                                         aten::randperm         0.01%       1.831ms         0.02%       3.953ms     197.650us       0.000us         0.00%       0.000us       0.000us       3.91 Kb         -80 b           0 b           0 b            20  \n",
      "                                    aten::scalar_tensor         0.00%     334.000us         0.00%     334.000us      33.400us       0.000us         0.00%       0.000us       0.000us          80 b          80 b           0 b           0 b            10  \n",
      "                               Optimizer.step#Adam.step         1.10%     279.926ms         3.12%     791.237ms      79.124ms       0.000us         0.00%     149.527ms      14.953ms          40 b        -120 b     507.02 Mb      -2.30 Mb            10  \n",
      "                                              aten::div         0.02%       4.972ms         0.04%       9.177ms      91.770us     116.000us         0.05%     116.000us       1.160us           0 b           0 b       1.18 Mb           0 b           100  \n",
      "                                            aten::clone         0.00%     339.000us         0.00%       1.045ms     104.500us       0.000us         0.00%      10.000us       1.000us           0 b           0 b       5.00 Kb           0 b            10  \n",
      "void at::native::vectorized_elementwise_kernel<4, at...         0.00%       0.000us         0.00%       0.000us       0.000us     210.000us         0.09%     210.000us       1.000us           0 b           0 b           0 b           0 b           210  \n",
      "                     Optimizer.zero_grad#Adam.zero_grad         0.01%       2.306ms         0.03%       7.435ms     743.500us       0.000us         0.00%      27.000us       2.700us         -40 b        -200 b           0 b           0 b            10  \n",
      "                                        aten::ones_like         0.00%     244.000us         0.00%       1.053ms     105.300us       0.000us         0.00%       5.000us       0.500us           0 b           0 b       5.00 Kb           0 b            10  \n",
      "                                           DivBackward0         0.00%     671.000us         0.01%       2.383ms     238.300us       0.000us         0.00%      10.000us       1.000us           0 b           0 b       5.00 Kb           0 b            10  \n",
      "                                             aten::conj         0.00%     198.000us         0.00%     198.000us       6.600us       0.000us         0.00%       0.000us       0.000us           0 b           0 b           0 b           0 b            30  \n",
      "                             BinaryCrossEntropyBackward         0.00%     212.000us         0.01%       2.822ms     282.200us       0.000us         0.00%      40.000us       4.000us           0 b           0 b       5.00 Kb           0 b            10  \n",
      "                    aten::binary_cross_entropy_backward         0.00%     760.000us         0.01%       2.610ms     261.000us      30.000us         0.01%      40.000us       4.000us           0 b           0 b       5.00 Kb           0 b            10  \n",
      "                                        aten::expand_as         0.00%     100.000us         0.00%     268.000us      26.800us       0.000us         0.00%       0.000us       0.000us           0 b           0 b           0 b           0 b            10  \n",
      "                                             aten::div_         0.01%       2.797ms         0.02%       4.367ms      87.340us      10.000us         0.00%      10.000us       0.200us           0 b        -160 b           0 b           0 b            50  \n",
      "                                       SqueezeBackward0         0.00%     239.000us         0.00%     808.000us      40.400us       0.000us         0.00%       0.000us       0.000us           0 b           0 b           0 b           0 b            20  \n",
      "                                        aten::unsqueeze         0.00%     921.000us         0.00%       1.164ms      16.629us       0.000us         0.00%       0.000us       0.000us           0 b           0 b           0 b           0 b            70  \n",
      "                                        SigmoidBackward         0.00%     181.000us         0.00%       1.166ms     116.600us       0.000us         0.00%      10.000us       1.000us           0 b           0 b       5.00 Kb           0 b            10  \n",
      "                                 aten::sigmoid_backward         0.00%     443.000us         0.00%     985.000us      98.500us      10.000us         0.00%      10.000us       1.000us           0 b           0 b       5.00 Kb           0 b            10  \n",
      "-------------------------------------------------------  ------------  ------------  ------------  ------------  ------------  ------------  ------------  ------------  ------------  ------------  ------------  ------------  ------------  ------------  \n",
      "Self CPU time total: 25.386s\n",
      "Self CUDA time total: 226.325ms\n",
      "\n"
     ]
    },
    {
     "data": {
      "image/png": "[encoded data removed]",
      "text/plain": [
       "<Figure size 1728x576 with 2 Axes>"
      ]
     },
     "metadata": {
      "needs_background": "light"
     },
     "output_type": "display_data"
    },
    {
     "name": "stdout",
     "output_type": "stream",
     "text": [
      "-------------------------------------------------------  ------------  ------------  ------------  ------------  ------------  ------------  ------------  ------------  \n",
      "                                                   Name    Self CPU %      Self CPU   CPU total %     CPU total  CPU time avg       CPU Mem  Self CPU Mem    # of Calls  \n",
      "-------------------------------------------------------  ------------  ------------  ------------  ------------  ------------  ------------  ------------  ------------  \n",
      "                                            aten::zeros         0.45%       4.768ms         0.55%       5.895ms       1.474ms       3.07 Kb           0 b             4  \n",
      "                                            aten::empty         0.55%       5.806ms         0.55%       5.806ms      15.441us      15.37 Mb      15.37 Mb           376  \n",
      "                                            aten::zero_         0.00%      15.000us         0.00%      15.000us       3.750us           0 b           0 b             4  \n",
      "                                          model_testing        67.07%     713.706ms        99.55%        1.059s        1.059s          -4 b     -30.02 Mb             1  \n",
      "                                          aten::random_         0.00%      27.000us         0.00%      27.000us      27.000us           0 b           0 b             1  \n",
      "                                aten::is_floating_point         0.00%       2.000us         0.00%       2.000us       2.000us           0 b           0 b             1  \n",
      "                                             aten::item         0.00%      11.000us         0.02%     212.000us     212.000us           0 b           0 b             1  \n",
      "                              aten::_local_scalar_dense         0.02%     201.000us         0.02%     201.000us     201.000us           0 b           0 b             1  \n",
      "enumerate(DataLoader)#_MultiProcessingDataLoaderIter...        20.52%     218.324ms        20.54%     218.603ms     109.302ms      13.57 Mb      13.57 Mb             2  \n",
      "                                               aten::to         0.00%      11.000us         0.00%      11.000us       2.750us           0 b           0 b             4  \n",
      "                                          aten::detach_         0.01%      99.000us         0.01%     119.000us      59.500us           0 b           0 b             2  \n",
      "                                                detach_         0.00%      20.000us         0.00%      20.000us      10.000us           0 b           0 b             2  \n",
      "                                             aten::set_         0.01%     114.000us         0.01%     114.000us      57.000us           0 b           0 b             2  \n",
      "                                              aten::gru         0.83%       8.831ms        11.78%     125.369ms     125.369ms      16.44 Mb      -1.08 Mb             1  \n",
      "                              aten::cudnn_is_acceptable         0.00%       3.000us         0.00%       3.000us       3.000us           0 b           0 b             1  \n",
      "                                        aten::transpose         0.12%       1.233ms         0.14%       1.526ms      12.407us           0 b           0 b           123  \n",
      "                                       aten::as_strided         0.34%       3.670ms         0.34%       3.670ms       3.038us           0 b           0 b          1208  \n",
      "                                           aten::unbind         0.37%       3.966ms         0.94%      10.047ms       5.024ms           0 b           0 b             2  \n",
      "                                           aten::select         0.49%       5.237ms         0.57%       6.081ms      50.256us           0 b           0 b           121  \n",
      "                                           aten::linear         0.16%       1.675ms         3.57%      37.991ms     311.402us      15.72 Mb           0 b           122  \n",
      "                                                aten::t         0.21%       2.228ms         0.34%       3.582ms      29.361us           0 b           0 b           122  \n",
      "                                           aten::matmul         0.03%     273.000us         1.66%      17.662ms      17.662ms      14.65 Mb           0 b             1  \n",
      "                                       aten::contiguous         0.01%      85.000us         0.72%       7.681ms       7.681ms      13.57 Mb           0 b             1  \n",
      "                                       aten::empty_like         0.12%       1.237ms         0.40%       4.304ms      35.570us      13.93 Mb           0 b           121  \n",
      "                                            aten::copy_         0.86%       9.194ms         0.86%       9.194ms      25.398us           0 b           0 b           362  \n",
      "                                             aten::view         0.01%      77.000us         0.01%      77.000us      25.667us           0 b           0 b             3  \n",
      "                                               aten::mm         0.88%       9.368ms         0.89%       9.439ms       9.439ms       1.08 Mb           0 b             1  \n",
      "                                     aten::_unsafe_view         0.02%     207.000us         0.02%     225.000us     225.000us           0 b           0 b             1  \n",
      "                                             aten::add_         0.99%      10.558ms         0.99%      10.558ms      29.247us           0 b           0 b           361  \n",
      "                                     aten::unsafe_chunk         0.14%       1.481ms         2.27%      24.187ms     100.779us           0 b           0 b           240  \n",
      "                                     aten::unsafe_split         0.92%       9.757ms         2.13%      22.706ms      94.608us           0 b           0 b           240  \n",
      "                                           aten::narrow         0.42%       4.507ms         1.22%      12.965ms      17.982us           0 b           0 b           721  \n",
      "                                            aten::slice         0.61%       6.522ms         0.79%       8.458ms      11.731us           0 b           0 b           721  \n",
      "                                            aten::addmm         0.65%       6.939ms         0.98%      10.450ms      86.364us       1.08 Mb       1.08 Mb           121  \n",
      "                                           aten::expand         0.10%       1.115ms         0.14%       1.465ms      12.107us           0 b           0 b           121  \n",
      "                                         aten::sigmoid_         0.48%       5.085ms         0.62%       6.598ms      27.492us           0 b           0 b           240  \n",
      "                                          aten::sigmoid         0.15%       1.544ms         0.15%       1.549ms       6.427us         196 b           0 b           241  \n",
      "                                             aten::mul_         0.56%       5.989ms         1.79%      19.018ms      39.621us     735.00 Kb           0 b           480  \n",
      "                                            aten::clone         0.61%       6.488ms         1.11%      11.819ms      49.246us     735.00 Kb           0 b           240  \n",
      "                                              aten::add         0.27%       2.926ms         0.27%       2.926ms      24.383us     367.50 Kb     367.50 Kb           120  \n",
      "                                            aten::tanh_         0.37%       3.907ms         0.46%       4.932ms      41.100us           0 b           0 b           120  \n",
      "                                             aten::tanh         0.10%       1.025ms         0.10%       1.025ms       8.542us           0 b           0 b           120  \n",
      "                                              aten::sub         0.26%       2.737ms         0.37%       3.892ms      32.433us     367.50 Kb           0 b           120  \n",
      "                                    aten::empty_strided         0.11%       1.134ms         0.11%       1.134ms       9.450us     367.50 Kb     367.50 Kb           120  \n",
      "                                            aten::stack         0.07%     707.000us         0.20%       2.128ms       1.064ms     370.56 Kb           0 b             2  \n",
      "                                        aten::unsqueeze         0.06%     611.000us         0.08%     855.000us       7.066us           0 b           0 b           121  \n",
      "                                              aten::cat         0.00%      42.000us         0.05%     566.000us     283.000us     370.56 Kb           0 b             2  \n",
      "                                             aten::_cat         0.04%     474.000us         0.05%     524.000us     262.000us     370.56 Kb           0 b             2  \n",
      "                                          aten::resize_         0.00%      29.000us         0.00%      29.000us      14.500us     370.56 Kb     370.56 Kb             2  \n",
      "                                       aten::transpose_         0.00%      27.000us         0.00%      30.000us      30.000us           0 b           0 b             1  \n",
      "                                      aten::as_strided_         0.00%       3.000us         0.00%       3.000us       3.000us           0 b           0 b             1  \n",
      "                                          aten::squeeze         0.00%      24.000us         0.00%      27.000us      27.000us           0 b           0 b             1  \n",
      "                                          aten::flatten         0.00%      11.000us         0.00%      26.000us      13.000us           0 b           0 b             2  \n",
      "                                           aten::detach         0.00%      11.000us         0.00%      16.000us       8.000us           0 b           0 b             2  \n",
      "                                                 detach         0.00%       5.000us         0.00%       5.000us       2.500us           0 b           0 b             2  \n",
      "-------------------------------------------------------  ------------  ------------  ------------  ------------  ------------  ------------  ------------  ------------  \n",
      "Self CPU time total: 1.064s\n",
      "\n"
     ]
    },
    {
     "name": "stderr",
     "output_type": "stream",
     "text": [
      "GPU available: True, used: True\n",
      "TPU available: False, using: 0 TPU cores\n",
      "LOCAL_RANK: 0 - CUDA_VISIBLE_DEVICES: [0,1]\n",
      "\n",
      "  | Name          | Type    | Params\n",
      "------------------------------------------\n",
      "0 | model         | RNN     | 29.9 K\n",
      "1 | loss_function | BCELoss | 0     \n",
      "------------------------------------------\n",
      "29.9 K    Trainable params\n",
      "0         Non-trainable params\n",
      "29.9 K    Total params\n",
      "0.120     Total estimated model params size (MB)\n"
     ]
    },
    {
     "data": {
      "application/vnd.jupyter.widget-view+json": {
       "model_id": "9ba79180b3214aa3b119b27b63ec08e1",
       "version_major": 2,
       "version_minor": 0
      },
      "text/plain": [
       "Validation sanity check: 0it [00:00, ?it/s]"
      ]
     },
     "metadata": {},
     "output_type": "display_data"
    },
    {
     "data": {
      "application/vnd.jupyter.widget-view+json": {
       "model_id": "c3e25cd4ef5b44309a176dd48039fce8",
       "version_major": 2,
       "version_minor": 0
      },
      "text/plain": [
       "Training: 0it [00:00, ?it/s]"
      ]
     },
     "metadata": {},
     "output_type": "display_data"
    },
    {
     "data": {
      "application/vnd.jupyter.widget-view+json": {
       "model_id": "f5d2a2e9e8714d3096e812d778cda28a",
       "version_major": 2,
       "version_minor": 0
      },
      "text/plain": [
       "Validating: 0it [00:00, ?it/s]"
      ]
     },
     "metadata": {},
     "output_type": "display_data"
    },
    {
     "data": {
      "application/vnd.jupyter.widget-view+json": {
       "model_id": "5741f2d145e346baaf2e0b1b7d8a6586",
       "version_major": 2,
       "version_minor": 0
      },
      "text/plain": [
       "Validating: 0it [00:00, ?it/s]"
      ]
     },
     "metadata": {},
     "output_type": "display_data"
    },
    {
     "data": {
      "application/vnd.jupyter.widget-view+json": {
       "model_id": "dfea2e2846db46a6847de250a1123621",
       "version_major": 2,
       "version_minor": 0
      },
      "text/plain": [
       "Validating: 0it [00:00, ?it/s]"
      ]
     },
     "metadata": {},
     "output_type": "display_data"
    },
    {
     "data": {
      "application/vnd.jupyter.widget-view+json": {
       "model_id": "acfd24c8b53a4230ae5b729b06a8df04",
       "version_major": 2,
       "version_minor": 0
      },
      "text/plain": [
       "Validating: 0it [00:00, ?it/s]"
      ]
     },
     "metadata": {},
     "output_type": "display_data"
    },
    {
     "data": {
      "application/vnd.jupyter.widget-view+json": {
       "model_id": "c10d6f85ed104a8c9869c3331e23ff59",
       "version_major": 2,
       "version_minor": 0
      },
      "text/plain": [
       "Validating: 0it [00:00, ?it/s]"
      ]
     },
     "metadata": {},
     "output_type": "display_data"
    },
    {
     "data": {
      "application/vnd.jupyter.widget-view+json": {
       "model_id": "68d863dfc57c4b3f89d47f8794315cbd",
       "version_major": 2,
       "version_minor": 0
      },
      "text/plain": [
       "Validating: 0it [00:00, ?it/s]"
      ]
     },
     "metadata": {},
     "output_type": "display_data"
    },
    {
     "data": {
      "application/vnd.jupyter.widget-view+json": {
       "model_id": "48d263bb6d004d449cd3e69875ee790a",
       "version_major": 2,
       "version_minor": 0
      },
      "text/plain": [
       "Validating: 0it [00:00, ?it/s]"
      ]
     },
     "metadata": {},
     "output_type": "display_data"
    },
    {
     "data": {
      "application/vnd.jupyter.widget-view+json": {
       "model_id": "40bc02ae1e9646f2aacb3438f61a2f4e",
       "version_major": 2,
       "version_minor": 0
      },
      "text/plain": [
       "Validating: 0it [00:00, ?it/s]"
      ]
     },
     "metadata": {},
     "output_type": "display_data"
    },
    {
     "data": {
      "application/vnd.jupyter.widget-view+json": {
       "model_id": "2fec9ebc2c0d40989ca38ecf2b0d49f3",
       "version_major": 2,
       "version_minor": 0
      },
      "text/plain": [
       "Validating: 0it [00:00, ?it/s]"
      ]
     },
     "metadata": {},
     "output_type": "display_data"
    },
    {
     "data": {
      "application/vnd.jupyter.widget-view+json": {
       "model_id": "904c7a450c71423bab40c6fb8ecb6754",
       "version_major": 2,
       "version_minor": 0
      },
      "text/plain": [
       "Validating: 0it [00:00, ?it/s]"
      ]
     },
     "metadata": {},
     "output_type": "display_data"
    },
    {
     "name": "stdout",
     "output_type": "stream",
     "text": [
      "-------------------------------------------------------  ------------  ------------  ------------  ------------  ------------  ------------  ------------  ------------  ------------  ------------  ------------  ------------  ------------  ------------  \n",
      "                                                   Name    Self CPU %      Self CPU   CPU total %     CPU total  CPU time avg     Self CUDA   Self CUDA %    CUDA total  CUDA time avg       CPU Mem  Self CPU Mem      CUDA Mem  Self CUDA Mem    # of Calls  \n",
      "-------------------------------------------------------  ------------  ------------  ------------  ------------  ------------  ------------  ------------  ------------  ------------  ------------  ------------  ------------  ------------  ------------  \n",
      "                                            aten::zeros         0.02%       5.966ms         0.09%      21.345ms     201.368us       0.000us         0.00%      32.000us       0.302us         372 b           0 b       1.32 Mb           0 b           106  \n",
      "                                            aten::empty         0.07%      16.090ms         0.15%      35.039ms      26.149us       0.000us         0.00%       0.000us       0.000us       6.36 Kb       6.36 Kb       3.54 Gb       3.54 Gb          1340  \n",
      "                                            aten::zero_         0.02%       4.605ms         0.09%      20.731ms      81.618us       0.000us         0.00%     132.000us       0.520us           0 b           0 b           0 b           0 b           254  \n",
      "                                         model_training        73.44%       17.543s        99.16%       23.688s       23.688s     202.000us         0.09%     184.759ms     184.759ms         156 b    -547.37 Mb     567.95 Mb     -76.50 Mb             1  \n",
      "                                aten::is_floating_point         0.00%     373.000us         0.00%     373.000us       1.984us       0.000us         0.00%       0.000us       0.000us           0 b           0 b           0 b           0 b           188  \n",
      "                                               aten::to         0.03%       7.139ms         1.40%     334.557ms     614.994us       0.000us         0.00%     133.623ms     245.631us     239.54 Kb           0 b     554.60 Mb           0 b           544  \n",
      "                                    aten::empty_strided         0.04%       9.657ms         0.06%      15.092ms      31.840us       0.000us         0.00%       0.000us       0.000us     239.54 Kb     239.54 Kb     554.86 Mb     554.86 Mb           474  \n",
      "                                            aten::copy_         0.05%      12.828ms         1.33%     318.174ms     615.424us     139.469ms        61.97%     139.469ms     269.766us           0 b           0 b           0 b           0 b           517  \n",
      "                                        cudaMemcpyAsync         0.77%     183.685ms         0.77%     183.685ms     271.723us       0.000us         0.00%       0.000us       0.000us           0 b           0 b           0 b           0 b           676  \n",
      "                                  cudaStreamSynchronize         0.59%     140.447ms         0.59%     140.447ms     371.553us       0.000us         0.00%       0.000us       0.000us           0 b           0 b           0 b           0 b           378  \n",
      "                       Memcpy HtoD (Pageable -> Device)         0.00%       0.000us         0.00%       0.000us       0.000us     133.326ms        59.24%     133.326ms     592.560us           0 b           0 b           0 b           0 b           225  \n",
      "                aten::_has_compatible_shallow_copy_type         0.00%     157.000us         0.00%     157.000us       3.271us       0.000us         0.00%       0.000us       0.000us           0 b           0 b           0 b           0 b            48  \n",
      "                                         aten::set_data         0.00%     334.000us         0.00%     397.000us      16.542us       0.000us         0.00%       0.000us       0.000us    -233.76 Kb    -233.76 Kb    -236.50 Kb    -236.50 Kb            24  \n",
      "                    aten::_use_cudnn_rnn_flatten_weight         0.00%       3.000us         0.00%       3.000us       3.000us       0.000us         0.00%       0.000us       0.000us           0 b           0 b           0 b           0 b             1  \n",
      "                        aten::_cudnn_rnn_flatten_weight         0.00%     283.000us         0.04%      10.346ms      10.346ms       0.000us         0.00%       5.000us       5.000us           0 b           0 b        -512 b           0 b             1  \n",
      "                                        cudaEventRecord         0.07%      17.097ms         0.07%      17.097ms       0.841us       0.000us         0.00%       0.000us       0.000us           0 b           0 b           0 b           0 b         20337  \n",
      "                                            aten::fill_         0.01%       2.781ms         0.07%      16.585ms      72.109us     139.000us         0.06%     139.000us       0.604us           0 b           0 b           0 b           0 b           230  \n",
      "                                       cudaLaunchKernel         1.04%     248.094ms         1.04%     248.094ms      10.035us       0.000us         0.00%       0.000us       0.000us           0 b           0 b           0 b           0 b         24723  \n",
      "                                             aten::set_         0.04%       8.776ms         0.04%       8.776ms      15.478us       0.000us         0.00%       0.000us       0.000us           0 b           0 b    -117.50 Kb    -117.50 Kb           567  \n",
      "void at::native::vectorized_elementwise_kernel<4, at...         0.00%       0.000us         0.00%       0.000us       0.000us     139.000us         0.06%     139.000us       0.732us           0 b           0 b           0 b           0 b           190  \n",
      "                                          aten::view_as         0.00%      65.000us         0.00%      93.000us      11.625us       0.000us         0.00%       0.000us       0.000us           0 b           0 b           0 b           0 b             8  \n",
      "                                             aten::view         0.00%     178.000us         0.00%     178.000us       6.357us       0.000us         0.00%       0.000us       0.000us           0 b           0 b           0 b           0 b            28  \n",
      "                         Memcpy DtoD (Device -> Device)         0.00%       0.000us         0.00%       0.000us       0.000us     284.000us         0.13%     284.000us       1.109us           0 b           0 b           0 b           0 b           256  \n",
      "                                          aten::random_         0.02%       4.673ms         0.02%       4.673ms     150.742us       0.000us         0.00%       0.000us       0.000us           0 b           0 b           0 b           0 b            31  \n",
      "                                             aten::item         0.01%       2.610ms         0.11%      26.260ms     126.860us       0.000us         0.00%     316.000us       1.527us           0 b           0 b           0 b           0 b           207  \n",
      "                              aten::_local_scalar_dense         0.04%       8.420ms         0.10%      23.650ms     114.251us     316.000us         0.14%     316.000us       1.527us           0 b           0 b           0 b           0 b           207  \n",
      "enumerate(DataLoader)#_MultiProcessingDataLoaderIter...        21.14%        5.050s        21.16%        5.054s     120.336ms       0.000us         0.00%       0.000us       0.000us     547.36 Mb     547.36 Mb           0 b           0 b            42  \n",
      "                                          aten::detach_         0.01%       1.729ms         0.01%       2.523ms      11.845us       0.000us         0.00%       0.000us       0.000us           0 b           0 b           0 b           0 b           213  \n",
      "                                                detach_         0.00%     794.000us         0.00%     794.000us       3.728us       0.000us         0.00%       0.000us       0.000us           0 b           0 b           0 b           0 b           213  \n",
      "                                             cudaMalloc         0.10%      24.384ms         0.10%      24.384ms       3.483ms       0.000us         0.00%       0.000us       0.000us           0 b           0 b           0 b           0 b             7  \n",
      "                                              aten::gru         0.01%       2.514ms         1.40%     333.975ms      15.904ms       0.000us         0.00%      49.010ms       2.334ms           0 b           0 b      89.62 Mb           0 b            21  \n",
      "                              aten::cudnn_is_acceptable         0.00%      99.000us         0.00%      99.000us       4.714us       0.000us         0.00%       0.000us       0.000us           0 b           0 b           0 b           0 b            21  \n",
      "                                       aten::_cudnn_rnn         0.49%     117.514ms         1.38%     330.306ms      15.729ms      46.881ms        20.83%      49.010ms       2.334ms           0 b           0 b      89.62 Mb      -1.08 Gb            21  \n",
      "                                        aten::transpose         0.01%       1.863ms         0.01%       2.424ms      15.947us       0.000us         0.00%       0.000us       0.000us           0 b           0 b           0 b           0 b           152  \n",
      "                                       aten::as_strided         0.01%       2.360ms         0.01%       2.360ms       3.291us       0.000us         0.00%       0.000us       0.000us           0 b           0 b           0 b           0 b           717  \n",
      "                                       aten::contiguous         0.00%       1.129ms         0.04%       8.738ms     171.333us       0.000us         0.00%       5.805ms     113.824us           0 b           0 b       1.49 Gb           0 b            51  \n",
      "                                       aten::empty_like         0.01%       1.519ms         0.03%       6.644ms      58.281us       0.000us         0.00%       0.000us       0.000us           0 b           0 b       1.50 Gb           0 b           114  \n",
      "                                           aten::select         0.01%       1.361ms         0.01%       1.693ms      16.598us       0.000us         0.00%       0.000us       0.000us           0 b           0 b           0 b           0 b           102  \n",
      "void at::native::unrolled_elementwise_kernel<at::nat...         0.00%       0.000us         0.00%       0.000us       0.000us       5.858ms         2.60%       5.858ms      81.361us           0 b           0 b           0 b           0 b            72  \n",
      "                               cudaEventCreateWithFlags         0.12%      29.010ms         0.12%      29.010ms       1.601us       0.000us         0.00%       0.000us       0.000us           0 b           0 b           0 b           0 b         18122  \n",
      "                                       cudaStreamCreate         0.01%       1.533ms         0.01%       1.533ms      30.059us       0.000us         0.00%       0.000us       0.000us           0 b           0 b           0 b           0 b            51  \n",
      "                           cudaStreamCreateWithPriority         0.00%       1.070ms         0.00%       1.070ms       7.985us       0.000us         0.00%       0.000us       0.000us           0 b           0 b           0 b           0 b           134  \n",
      "                                    cudaStreamWaitEvent         0.05%      12.714ms         0.05%      12.714ms       0.868us       0.000us         0.00%       0.000us       0.000us           0 b           0 b           0 b           0 b         14647  \n",
      "cudaOccupancyMaxActiveBlocksPerMultiprocessorWithFla...         0.04%       8.649ms         0.04%       8.649ms       0.703us       0.000us         0.00%       0.000us       0.000us           0 b           0 b           0 b           0 b         12296  \n",
      "                                         cudaEventQuery         0.01%       3.448ms         0.01%       3.448ms       1.508us       0.000us         0.00%       0.000us       0.000us           0 b           0 b           0 b           0 b          2287  \n",
      "void transpose_readWrite_alignment_kernel<float, flo...         0.00%       0.000us         0.00%       0.000us       0.000us     122.000us         0.05%     122.000us       2.905us           0 b           0 b           0 b           0 b            42  \n",
      "                         volta_sgemm_64x32_sliced1x4_nn         0.00%       0.000us         0.00%       0.000us       0.000us       1.487ms         0.66%       1.487ms       7.952us           0 b           0 b           0 b           0 b           187  \n",
      "                                  volta_sgemm_128x32_nn         0.00%       0.000us         0.00%       0.000us       0.000us      25.042ms        11.13%      25.042ms       4.268us           0 b           0 b           0 b           0 b          5868  \n",
      "void splitKreduce_kernel<float, float, float>(cublas...         0.00%       0.000us         0.00%       0.000us       0.000us       4.978ms         2.21%       4.978ms       2.206us           0 b           0 b           0 b           0 b          2257  \n",
      "void GRU_elementWise_fp<float, float, float, (cudnnR...         0.00%       0.000us         0.00%       0.000us       0.000us       7.571ms         3.36%       7.571ms       1.562us           0 b           0 b           0 b           0 b          4848  \n",
      "                                       cudaEventDestroy         0.02%       4.236ms         0.02%       4.236ms       0.234us       0.000us         0.00%       0.000us       0.000us           0 b           0 b           0 b           0 b         18118  \n",
      "                                      cudaStreamDestroy         0.00%       1.178ms         0.00%       1.178ms       6.368us       0.000us         0.00%       0.000us       0.000us           0 b           0 b           0 b           0 b           185  \n",
      "                                       aten::transpose_         0.00%     720.000us         0.00%     840.000us      27.097us       0.000us         0.00%       0.000us       0.000us           0 b           0 b           0 b           0 b            31  \n",
      "                                      aten::as_strided_         0.00%     120.000us         0.00%     120.000us       3.871us       0.000us         0.00%       0.000us       0.000us           0 b           0 b           0 b           0 b            31  \n",
      "                                          aten::squeeze         0.01%       2.480ms         0.01%       2.951ms      19.939us       0.000us         0.00%       0.000us       0.000us           0 b           0 b           0 b           0 b           148  \n",
      "                                           aten::linear         0.00%     695.000us         0.02%       5.555ms     264.524us       0.000us         0.00%     116.000us       5.524us           0 b           0 b      10.50 Kb           0 b            21  \n",
      "                                                aten::t         0.00%       1.169ms         0.01%       2.067ms      33.885us       0.000us         0.00%       0.000us       0.000us           0 b           0 b           0 b           0 b            61  \n",
      "                                            aten::addmm         0.01%       2.229ms         0.02%       4.178ms     198.952us     116.000us         0.05%     116.000us       5.524us           0 b           0 b      10.50 Kb           0 b            21  \n",
      "                                           aten::expand         0.00%     288.000us         0.00%     432.000us      13.935us       0.000us         0.00%       0.000us       0.000us           0 b           0 b           0 b           0 b            31  \n",
      "                                          aten::resize_         0.01%       2.252ms         0.01%       2.252ms       9.965us       0.000us         0.00%       0.000us       0.000us          80 b          80 b      67.50 Kb      67.50 Kb           226  \n",
      "                                          aten::sigmoid         0.00%     872.000us         0.01%       2.024ms      96.381us      42.000us         0.02%      42.000us       2.000us           0 b           0 b      10.50 Kb           0 b            21  \n",
      "void gemv2T_kernel_val<int, int, float, float, float...         0.00%       0.000us         0.00%       0.000us       0.000us      63.000us         0.03%      63.000us       3.000us           0 b           0 b           0 b           0 b            21  \n",
      "void at::native::vectorized_elementwise_kernel<4, at...         0.00%       0.000us         0.00%       0.000us       0.000us      42.000us         0.02%      42.000us       2.000us           0 b           0 b           0 b           0 b            21  \n",
      "                             aten::binary_cross_entropy         0.02%       4.684ms         0.06%      14.683ms     699.190us      63.000us         0.03%     194.000us       9.238us           0 b           0 b      10.50 Kb     -10.50 Kb            21  \n",
      "void at::native::unrolled_elementwise_kernel<at::nat...         0.00%       0.000us         0.00%       0.000us       0.000us     166.000us         0.07%     166.000us       2.024us           0 b           0 b           0 b           0 b            82  \n",
      "                                             aten::mean         0.02%       3.997ms         0.05%      11.223ms     110.029us     275.000us         0.12%     275.000us       2.696us         160 b           0 b      31.00 Kb           0 b           102  \n",
      "void at::native::vectorized_elementwise_kernel<4, at...         0.00%       0.000us         0.00%       0.000us       0.000us      63.000us         0.03%      63.000us       3.000us           0 b           0 b           0 b           0 b            21  \n",
      "                                       aten::resize_as_         0.02%       4.907ms         0.02%       5.107ms      83.721us       0.000us         0.00%       0.000us       0.000us           0 b           0 b           0 b           0 b            61  \n",
      "                                               aten::gt         0.01%       1.894ms         0.02%       5.646ms     134.429us      21.000us         0.01%      42.000us       1.000us           0 b           0 b      21.00 Kb           0 b            42  \n",
      "                                               aten::eq         0.01%       1.200ms         0.02%       4.065ms      96.786us      63.000us         0.03%     126.000us       3.000us           0 b           0 b      21.00 Kb           0 b            42  \n",
      "void at::native::reduce_kernel<512, 1, at::native::R...         0.00%       0.000us         0.00%       0.000us       0.000us     275.000us         0.12%     275.000us       4.435us           0 b           0 b           0 b           0 b            62  \n",
      "void at::native::vectorized_elementwise_kernel<4, at...         0.00%       0.000us         0.00%       0.000us       0.000us      21.000us         0.01%      21.000us       1.000us           0 b           0 b           0 b           0 b            21  \n",
      "void at::native::unrolled_elementwise_kernel<at::nat...         0.00%       0.000us         0.00%       0.000us       0.000us      63.000us         0.03%      63.000us       3.000us           0 b           0 b           0 b           0 b            21  \n",
      "                                           aten::detach         0.01%       1.767ms         0.01%       2.548ms      11.796us       0.000us         0.00%       0.000us       0.000us           0 b           0 b           0 b           0 b           216  \n",
      "                                                 detach         0.00%     781.000us         0.00%     781.000us       3.616us       0.000us         0.00%       0.000us       0.000us           0 b           0 b           0 b           0 b           216  \n",
      "                       Memcpy DtoH (Device -> Pageable)         0.00%       0.000us         0.00%       0.000us       0.000us     489.000us         0.22%     489.000us       2.508us           0 b           0 b           0 b           0 b           195  \n",
      "                                              aten::cat         0.01%       1.350ms         0.04%      10.095ms     140.208us       0.000us         0.00%      62.000us       0.861us          80 b           0 b      31.00 Kb           0 b            72  \n",
      "                                             aten::_cat         0.02%       3.670ms         0.04%       8.745ms     121.458us      62.000us         0.03%      62.000us       0.861us          80 b           0 b      31.00 Kb           0 b            72  \n",
      "                                           aten::narrow         0.00%     540.000us         0.01%       1.436ms      19.944us       0.000us         0.00%       0.000us       0.000us           0 b           0 b           0 b           0 b            72  \n",
      "                                            aten::slice         0.01%       1.521ms         0.01%       1.878ms      16.768us       0.000us         0.00%       0.000us       0.000us           0 b           0 b           0 b           0 b           112  \n",
      "                                               cudaFree         0.04%       9.412ms         0.04%       9.412ms       1.345ms       0.000us         0.00%       0.000us       0.000us           0 b           0 b           0 b           0 b             7  \n",
      "                                         aten::randperm         0.01%       1.348ms         0.01%       2.975ms     148.750us       0.000us         0.00%       0.000us       0.000us       3.91 Kb         -80 b           0 b           0 b            20  \n",
      "                                    aten::scalar_tensor         0.00%     249.000us         0.00%     249.000us      24.900us       0.000us         0.00%       0.000us       0.000us          80 b          80 b           0 b           0 b            10  \n",
      "                               Optimizer.step#Adam.step         1.02%     243.684ms         2.89%     689.724ms      68.972ms       0.000us         0.00%     161.646ms      16.165ms          40 b        -120 b     567.96 Mb      -2.30 Mb            10  \n",
      "                         volta_sgemm_32x32_sliced1x4_nn         0.00%       0.000us         0.00%       0.000us       0.000us      32.598ms        14.48%      32.598ms       5.292us           0 b           0 b           0 b           0 b          6160  \n",
      "                                              aten::div         0.02%       4.352ms         0.03%       8.088ms      80.880us     120.000us         0.05%     120.000us       1.200us           0 b           0 b       1.18 Mb           0 b           100  \n",
      "                                            aten::clone         0.00%     237.000us         0.00%     784.000us      78.400us       0.000us         0.00%      10.000us       1.000us           0 b           0 b       5.00 Kb           0 b            10  \n",
      "void at::native::vectorized_elementwise_kernel<4, at...         0.00%       0.000us         0.00%       0.000us       0.000us     215.000us         0.10%     215.000us       1.024us           0 b           0 b           0 b           0 b           210  \n",
      "                     Optimizer.zero_grad#Adam.zero_grad         0.01%       1.665ms         0.02%       5.400ms     540.000us       0.000us         0.00%      29.000us       2.900us         -40 b        -200 b           0 b           0 b            10  \n",
      "                                        aten::ones_like         0.00%     164.000us         0.00%     745.000us      74.500us       0.000us         0.00%       7.000us       0.700us           0 b           0 b       5.00 Kb           0 b            10  \n",
      "                                           DivBackward0         0.00%     684.000us         0.01%       2.325ms     232.500us       0.000us         0.00%      10.000us       1.000us           0 b           0 b       5.00 Kb           0 b            10  \n",
      "                                             aten::conj         0.00%     230.000us         0.00%     230.000us       7.667us       0.000us         0.00%       0.000us       0.000us           0 b           0 b           0 b           0 b            30  \n",
      "                             BinaryCrossEntropyBackward         0.00%     197.000us         0.01%       2.770ms     277.000us       0.000us         0.00%      40.000us       4.000us           0 b           0 b       5.00 Kb           0 b            10  \n",
      "                    aten::binary_cross_entropy_backward         0.00%     706.000us         0.01%       2.573ms     257.300us      30.000us         0.01%      40.000us       4.000us           0 b           0 b       5.00 Kb           0 b            10  \n",
      "                                        aten::expand_as         0.00%      82.000us         0.00%     227.000us      22.700us       0.000us         0.00%       0.000us       0.000us           0 b           0 b           0 b           0 b            10  \n",
      "                                             aten::div_         0.01%       2.532ms         0.02%       3.949ms      78.980us      10.000us         0.00%      10.000us       0.200us           0 b        -160 b           0 b           0 b            50  \n",
      "                                       SqueezeBackward0         0.00%     255.000us         0.00%     796.000us      39.800us       0.000us         0.00%       0.000us       0.000us           0 b           0 b           0 b           0 b            20  \n",
      "                                        aten::unsqueeze         0.00%     873.000us         0.00%       1.072ms      15.314us       0.000us         0.00%       0.000us       0.000us           0 b           0 b           0 b           0 b            70  \n",
      "                                        SigmoidBackward         0.00%     179.000us         0.01%       1.221ms     122.100us       0.000us         0.00%      11.000us       1.100us           0 b           0 b       5.00 Kb           0 b            10  \n",
      "                                 aten::sigmoid_backward         0.00%     478.000us         0.00%       1.042ms     104.200us      11.000us         0.00%      11.000us       1.100us           0 b           0 b       5.00 Kb           0 b            10  \n",
      "-------------------------------------------------------  ------------  ------------  ------------  ------------  ------------  ------------  ------------  ------------  ------------  ------------  ------------  ------------  ------------  ------------  \n",
      "Self CPU time total: 23.888s\n",
      "Self CUDA time total: 225.076ms\n",
      "\n"
     ]
    },
    {
     "data": {
      "image/png": "[encoded data removed]",
      "text/plain": [
       "<Figure size 1728x576 with 2 Axes>"
      ]
     },
     "metadata": {
      "needs_background": "light"
     },
     "output_type": "display_data"
    },
    {
     "name": "stdout",
     "output_type": "stream",
     "text": [
      "-------------------------------------------------------  ------------  ------------  ------------  ------------  ------------  ------------  ------------  ------------  \n",
      "                                                   Name    Self CPU %      Self CPU   CPU total %     CPU total  CPU time avg       CPU Mem  Self CPU Mem    # of Calls  \n",
      "-------------------------------------------------------  ------------  ------------  ------------  ------------  ------------  ------------  ------------  ------------  \n",
      "                                            aten::zeros         0.11%       1.257ms         0.21%       2.401ms     600.250us       2.95 Kb           0 b             4  \n",
      "                                            aten::empty         0.29%       3.391ms         0.29%       3.391ms       9.019us      14.74 Mb      14.74 Mb           376  \n",
      "                                            aten::zero_         0.00%      16.000us         0.00%      16.000us       4.000us           0 b           0 b             4  \n",
      "                                          model_testing        67.35%     778.119ms        99.91%        1.154s        1.154s          -4 b     -28.79 Mb             1  \n",
      "                                          aten::random_         0.00%      40.000us         0.00%      40.000us      40.000us           0 b           0 b             1  \n",
      "                                aten::is_floating_point         0.00%       2.000us         0.00%       2.000us       2.000us           0 b           0 b             1  \n",
      "                                             aten::item         0.00%      30.000us         0.01%     156.000us     156.000us           0 b           0 b             1  \n",
      "                              aten::_local_scalar_dense         0.01%     126.000us         0.01%     126.000us     126.000us           0 b           0 b             1  \n",
      "enumerate(DataLoader)#_MultiProcessingDataLoaderIter...        21.45%     247.818ms        21.47%     248.060ms     124.030ms      13.02 Mb      13.02 Mb             2  \n",
      "                                               aten::to         0.00%      11.000us         0.00%      11.000us       2.750us           0 b           0 b             4  \n",
      "                                          aten::detach_         0.01%     106.000us         0.01%     124.000us      62.000us           0 b           0 b             2  \n",
      "                                                detach_         0.00%      18.000us         0.00%      18.000us       9.000us           0 b           0 b             2  \n",
      "                                             aten::set_         0.01%      71.000us         0.01%      71.000us      35.500us           0 b           0 b             2  \n",
      "                                              aten::gru         0.65%       7.460ms        10.93%     126.267ms     126.267ms      15.77 Mb      -1.03 Mb             1  \n",
      "                              aten::cudnn_is_acceptable         0.00%       4.000us         0.00%       4.000us       4.000us           0 b           0 b             1  \n",
      "                                        aten::transpose         0.10%       1.161ms         0.12%       1.394ms      11.333us           0 b           0 b           123  \n",
      "                                       aten::as_strided         0.27%       3.084ms         0.27%       3.084ms       2.553us           0 b           0 b          1208  \n",
      "                                           aten::unbind         0.14%       1.566ms         0.48%       5.571ms       2.785ms           0 b           0 b             2  \n",
      "                                           aten::select         0.29%       3.377ms         0.35%       4.005ms      33.099us           0 b           0 b           121  \n",
      "                                           aten::linear         0.13%       1.557ms         4.81%      55.550ms     455.328us      15.08 Mb           0 b           122  \n",
      "                                                aten::t         0.16%       1.894ms         0.27%       3.096ms      25.377us           0 b           0 b           122  \n",
      "                                           aten::matmul         0.02%     178.000us         2.97%      34.326ms      34.326ms      14.05 Mb           0 b             1  \n",
      "                                       aten::contiguous         0.01%      85.000us         2.31%      26.718ms      26.718ms      13.02 Mb           0 b             1  \n",
      "                                       aten::empty_like         0.09%       1.086ms         0.18%       2.102ms      17.372us      13.36 Mb           0 b           121  \n",
      "                                            aten::copy_         2.57%      29.662ms         2.57%      29.662ms      81.939us           0 b           0 b           362  \n",
      "                                             aten::view         0.01%      86.000us         0.01%      86.000us      28.667us           0 b           0 b             3  \n",
      "                                               aten::mm         0.63%       7.226ms         0.63%       7.256ms       7.256ms       1.03 Mb           0 b             1  \n",
      "                                     aten::_unsafe_view         0.01%     101.000us         0.01%     135.000us     135.000us           0 b           0 b             1  \n",
      "                                             aten::add_         1.08%      12.532ms         1.08%      12.532ms      34.715us           0 b           0 b           361  \n",
      "                                     aten::unsafe_chunk         0.11%       1.297ms         1.76%      20.368ms      84.867us           0 b           0 b           240  \n",
      "                                     aten::unsafe_split         0.71%       8.221ms         1.65%      19.071ms      79.463us           0 b           0 b           240  \n",
      "                                           aten::narrow         0.33%       3.848ms         0.94%      10.863ms      15.067us           0 b           0 b           721  \n",
      "                                            aten::slice         0.46%       5.283ms         0.61%       7.015ms       9.730us           0 b           0 b           721  \n",
      "                                            aten::addmm         0.51%       5.879ms         0.79%       9.093ms      75.149us       1.03 Mb       1.03 Mb           121  \n",
      "                                           aten::expand         0.09%       1.038ms         0.12%       1.335ms      11.033us           0 b           0 b           121  \n",
      "                                         aten::sigmoid_         0.36%       4.179ms         0.46%       5.350ms      22.292us           0 b           0 b           240  \n",
      "                                          aten::sigmoid         0.10%       1.212ms         0.11%       1.217ms       5.050us         188 b           0 b           241  \n",
      "                                             aten::mul_         0.43%       4.955ms         1.39%      16.032ms      33.400us     705.00 Kb           0 b           480  \n",
      "                                            aten::clone         0.49%       5.688ms         0.87%      10.101ms      42.087us     705.00 Kb           0 b           240  \n",
      "                                              aten::add         0.23%       2.605ms         0.23%       2.605ms      21.708us     352.50 Kb     352.50 Kb           120  \n",
      "                                            aten::tanh_         0.29%       3.366ms         0.37%       4.221ms      35.175us           0 b           0 b           120  \n",
      "                                             aten::tanh         0.07%     855.000us         0.07%     855.000us       7.125us           0 b           0 b           120  \n",
      "                                              aten::sub         0.21%       2.400ms         0.28%       3.231ms      26.925us     352.50 Kb           0 b           120  \n",
      "                                    aten::empty_strided         0.07%     843.000us         0.07%     843.000us       7.025us     352.50 Kb     352.50 Kb           120  \n",
      "                                            aten::stack         0.06%     679.000us         0.15%       1.692ms     846.000us     355.44 Kb           0 b             2  \n",
      "                                        aten::unsqueeze         0.05%     593.000us         0.07%     784.000us       6.479us           0 b           0 b           121  \n",
      "                                              aten::cat         0.00%      32.000us         0.02%     229.000us     114.500us     355.44 Kb           0 b             2  \n",
      "                                             aten::_cat         0.01%     164.000us         0.02%     197.000us      98.500us     355.44 Kb           0 b             2  \n",
      "                                          aten::resize_         0.00%      16.000us         0.00%      16.000us       8.000us     355.44 Kb     355.44 Kb             2  \n",
      "                                       aten::transpose_         0.00%      24.000us         0.00%      26.000us      26.000us           0 b           0 b             1  \n",
      "                                      aten::as_strided_         0.00%       2.000us         0.00%       2.000us       2.000us           0 b           0 b             1  \n",
      "                                          aten::squeeze         0.00%      20.000us         0.00%      23.000us      23.000us           0 b           0 b             1  \n",
      "                                          aten::flatten         0.00%      11.000us         0.00%      24.000us      12.000us           0 b           0 b             2  \n",
      "                                           aten::detach         0.00%      13.000us         0.00%      17.000us       8.500us           0 b           0 b             2  \n",
      "                                                 detach         0.00%       4.000us         0.00%       4.000us       2.000us           0 b           0 b             2  \n",
      "-------------------------------------------------------  ------------  ------------  ------------  ------------  ------------  ------------  ------------  ------------  \n",
      "Self CPU time total: 1.155s\n",
      "\n"
     ]
    },
    {
     "name": "stderr",
     "output_type": "stream",
     "text": [
      "GPU available: True, used: True\n",
      "TPU available: False, using: 0 TPU cores\n",
      "LOCAL_RANK: 0 - CUDA_VISIBLE_DEVICES: [0,1]\n",
      "\n",
      "  | Name          | Type    | Params\n",
      "------------------------------------------\n",
      "0 | model         | RNN     | 29.9 K\n",
      "1 | loss_function | BCELoss | 0     \n",
      "------------------------------------------\n",
      "29.9 K    Trainable params\n",
      "0         Non-trainable params\n",
      "29.9 K    Total params\n",
      "0.120     Total estimated model params size (MB)\n"
     ]
    },
    {
     "data": {
      "application/vnd.jupyter.widget-view+json": {
       "model_id": "7997bc2910614284929a2b51f9a50e98",
       "version_major": 2,
       "version_minor": 0
      },
      "text/plain": [
       "Validation sanity check: 0it [00:00, ?it/s]"
      ]
     },
     "metadata": {},
     "output_type": "display_data"
    },
    {
     "data": {
      "application/vnd.jupyter.widget-view+json": {
       "model_id": "620df2958261499f8a0a7678d7116d08",
       "version_major": 2,
       "version_minor": 0
      },
      "text/plain": [
       "Training: 0it [00:00, ?it/s]"
      ]
     },
     "metadata": {},
     "output_type": "display_data"
    },
    {
     "data": {
      "application/vnd.jupyter.widget-view+json": {
       "model_id": "4f4b8a36fc6e46b89af18bf386550ec3",
       "version_major": 2,
       "version_minor": 0
      },
      "text/plain": [
       "Validating: 0it [00:00, ?it/s]"
      ]
     },
     "metadata": {},
     "output_type": "display_data"
    },
    {
     "data": {
      "application/vnd.jupyter.widget-view+json": {
       "model_id": "1719ccfc0399444aa076a6d7fad6021f",
       "version_major": 2,
       "version_minor": 0
      },
      "text/plain": [
       "Validating: 0it [00:00, ?it/s]"
      ]
     },
     "metadata": {},
     "output_type": "display_data"
    },
    {
     "data": {
      "application/vnd.jupyter.widget-view+json": {
       "model_id": "84cf42e649ab4a858e8233fc9731a88b",
       "version_major": 2,
       "version_minor": 0
      },
      "text/plain": [
       "Validating: 0it [00:00, ?it/s]"
      ]
     },
     "metadata": {},
     "output_type": "display_data"
    },
    {
     "data": {
      "application/vnd.jupyter.widget-view+json": {
       "model_id": "5708af94df5f4795b51185649513889d",
       "version_major": 2,
       "version_minor": 0
      },
      "text/plain": [
       "Validating: 0it [00:00, ?it/s]"
      ]
     },
     "metadata": {},
     "output_type": "display_data"
    },
    {
     "data": {
      "application/vnd.jupyter.widget-view+json": {
       "model_id": "0db1dff21dec4da9a0f7288b035da849",
       "version_major": 2,
       "version_minor": 0
      },
      "text/plain": [
       "Validating: 0it [00:00, ?it/s]"
      ]
     },
     "metadata": {},
     "output_type": "display_data"
    },
    {
     "data": {
      "application/vnd.jupyter.widget-view+json": {
       "model_id": "e1d74eeca66b44d9bc290db4dc3a5784",
       "version_major": 2,
       "version_minor": 0
      },
      "text/plain": [
       "Validating: 0it [00:00, ?it/s]"
      ]
     },
     "metadata": {},
     "output_type": "display_data"
    },
    {
     "data": {
      "application/vnd.jupyter.widget-view+json": {
       "model_id": "ba6fd50e01054a1a8f4ba61dd16ddb18",
       "version_major": 2,
       "version_minor": 0
      },
      "text/plain": [
       "Validating: 0it [00:00, ?it/s]"
      ]
     },
     "metadata": {},
     "output_type": "display_data"
    },
    {
     "data": {
      "application/vnd.jupyter.widget-view+json": {
       "model_id": "c6177e6902c044e69026e55961727049",
       "version_major": 2,
       "version_minor": 0
      },
      "text/plain": [
       "Validating: 0it [00:00, ?it/s]"
      ]
     },
     "metadata": {},
     "output_type": "display_data"
    },
    {
     "data": {
      "application/vnd.jupyter.widget-view+json": {
       "model_id": "c2aa0d158b2743e8822718d3195c396a",
       "version_major": 2,
       "version_minor": 0
      },
      "text/plain": [
       "Validating: 0it [00:00, ?it/s]"
      ]
     },
     "metadata": {},
     "output_type": "display_data"
    },
    {
     "data": {
      "application/vnd.jupyter.widget-view+json": {
       "model_id": "75fe8d67652d442eb8b0666e6333a0cc",
       "version_major": 2,
       "version_minor": 0
      },
      "text/plain": [
       "Validating: 0it [00:00, ?it/s]"
      ]
     },
     "metadata": {},
     "output_type": "display_data"
    },
    {
     "name": "stdout",
     "output_type": "stream",
     "text": [
      "-------------------------------------------------------  ------------  ------------  ------------  ------------  ------------  ------------  ------------  ------------  ------------  ------------  ------------  ------------  ------------  ------------  \n",
      "                                                   Name    Self CPU %      Self CPU   CPU total %     CPU total  CPU time avg     Self CUDA   Self CUDA %    CUDA total  CUDA time avg       CPU Mem  Self CPU Mem      CUDA Mem  Self CUDA Mem    # of Calls  \n",
      "-------------------------------------------------------  ------------  ------------  ------------  ------------  ------------  ------------  ------------  ------------  ------------  ------------  ------------  ------------  ------------  ------------  \n",
      "                                            aten::zeros         0.03%       7.611ms         0.11%      25.377ms     239.406us       0.000us         0.00%      32.000us       0.302us         372 b           0 b       1.32 Mb           0 b           106  \n",
      "                                            aten::empty         0.08%      18.756ms         0.17%      39.605ms      29.556us       0.000us         0.00%       0.000us       0.000us       6.36 Kb       6.36 Kb       3.24 Gb       3.24 Gb          1340  \n",
      "                                            aten::zero_         0.02%       5.637ms         0.10%      23.839ms      93.854us       0.000us         0.00%     141.000us       0.555us           0 b           0 b           0 b           0 b           254  \n",
      "                                         model_training        72.34%       17.067s        99.04%       23.366s       23.366s     226.000us         0.10%     182.130ms     182.130ms         156 b    -545.16 Mb     496.63 Mb    -137.01 Mb             1  \n",
      "                                aten::is_floating_point         0.00%     376.000us         0.00%     376.000us       2.000us       0.000us         0.00%       0.000us       0.000us           0 b           0 b           0 b           0 b           188  \n",
      "                                               aten::to         0.03%       8.220ms         1.70%     402.111ms     739.175us       0.000us         0.00%     131.426ms     241.592us     239.54 Kb           0 b     553.55 Mb           0 b           544  \n",
      "                                    aten::empty_strided         0.05%      10.622ms         0.10%      23.178ms      48.899us       0.000us         0.00%       0.000us       0.000us     239.54 Kb     239.54 Kb     553.80 Mb     553.80 Mb           474  \n",
      "                                            aten::copy_         0.06%      14.171ms         1.60%     377.078ms     729.358us     136.781ms        62.85%     136.781ms     264.567us           0 b           0 b           0 b           0 b           517  \n",
      "                                        cudaMemcpyAsync         0.77%     181.986ms         0.77%     181.986ms     269.210us       0.000us         0.00%       0.000us       0.000us           0 b           0 b           0 b           0 b           676  \n",
      "                       Memcpy HtoD (Pageable -> Device)         0.00%       0.000us         0.00%       0.000us       0.000us     131.180ms        60.27%     131.180ms     583.022us           0 b           0 b           0 b           0 b           225  \n",
      "                                  cudaStreamSynchronize         0.86%     203.166ms         0.86%     203.166ms     537.476us       0.000us         0.00%       0.000us       0.000us           0 b           0 b           0 b           0 b           378  \n",
      "                aten::_has_compatible_shallow_copy_type         0.00%     190.000us         0.00%     190.000us       3.958us       0.000us         0.00%       0.000us       0.000us           0 b           0 b           0 b           0 b            48  \n",
      "                                         aten::set_data         0.00%     372.000us         0.00%     458.000us      19.083us       0.000us         0.00%       0.000us       0.000us    -233.76 Kb    -233.76 Kb    -236.50 Kb    -236.50 Kb            24  \n",
      "                    aten::_use_cudnn_rnn_flatten_weight         0.00%       4.000us         0.00%       4.000us       4.000us       0.000us         0.00%       0.000us       0.000us           0 b           0 b           0 b           0 b             1  \n",
      "                        aten::_cudnn_rnn_flatten_weight         0.00%     376.000us         0.05%      12.260ms      12.260ms       0.000us         0.00%       5.000us       5.000us           0 b           0 b        -512 b           0 b             1  \n",
      "                                        cudaEventRecord         0.10%      22.711ms         0.10%      22.711ms       1.177us       0.000us         0.00%       0.000us       0.000us           0 b           0 b           0 b           0 b         19299  \n",
      "                                            aten::fill_         0.01%       3.023ms         0.08%      18.707ms      81.335us     148.000us         0.07%     148.000us       0.643us           0 b           0 b           0 b           0 b           230  \n",
      "                                       cudaLaunchKernel         1.20%     282.099ms         1.20%     282.099ms      12.030us       0.000us         0.00%       0.000us       0.000us           0 b           0 b           0 b           0 b         23449  \n",
      "                                             aten::set_         0.04%      10.090ms         0.04%      10.090ms      17.795us       0.000us         0.00%       0.000us       0.000us           0 b           0 b    -117.50 Kb    -117.50 Kb           567  \n",
      "void at::native::vectorized_elementwise_kernel<4, at...         0.00%       0.000us         0.00%       0.000us       0.000us     148.000us         0.07%     148.000us       0.779us           0 b           0 b           0 b           0 b           190  \n",
      "                                          aten::view_as         0.00%      70.000us         0.00%     107.000us      13.375us       0.000us         0.00%       0.000us       0.000us           0 b           0 b           0 b           0 b             8  \n",
      "                                             aten::view         0.00%     208.000us         0.00%     208.000us       7.429us       0.000us         0.00%       0.000us       0.000us           0 b           0 b           0 b           0 b            28  \n",
      "                         Memcpy DtoD (Device -> Device)         0.00%       0.000us         0.00%       0.000us       0.000us     268.000us         0.12%     268.000us       1.047us           0 b           0 b           0 b           0 b           256  \n",
      "                                          aten::random_         0.01%       3.311ms         0.01%       3.311ms     106.806us       0.000us         0.00%       0.000us       0.000us           0 b           0 b           0 b           0 b            31  \n",
      "                                             aten::item         0.01%       2.960ms         0.13%      30.597ms     147.812us       0.000us         0.00%     290.000us       1.401us           0 b           0 b           0 b           0 b           207  \n",
      "                              aten::_local_scalar_dense         0.04%       9.126ms         0.12%      27.637ms     133.512us     290.000us         0.13%     290.000us       1.401us           0 b           0 b           0 b           0 b           207  \n",
      "enumerate(DataLoader)#_MultiProcessingDataLoaderIter...        21.34%        5.036s        21.36%        5.040s     120.002ms       0.000us         0.00%       0.000us       0.000us     545.15 Mb     545.14 Mb           0 b           0 b            42  \n",
      "                                          aten::detach_         0.01%       2.291ms         0.01%       3.062ms      14.376us       0.000us         0.00%       0.000us       0.000us           0 b           0 b           0 b           0 b           213  \n",
      "                                                detach_         0.00%     771.000us         0.00%     771.000us       3.620us       0.000us         0.00%       0.000us       0.000us           0 b           0 b           0 b           0 b           213  \n",
      "                                             cudaMalloc         0.14%      33.405ms         0.14%      33.405ms       4.176ms       0.000us         0.00%       0.000us       0.000us           0 b           0 b           0 b           0 b             8  \n",
      "                                              aten::gru         0.01%       2.843ms         1.68%     395.510ms      18.834ms       0.000us         0.00%      48.576ms       2.313ms           0 b           0 b      79.86 Mb           0 b            21  \n",
      "                              aten::cudnn_is_acceptable         0.00%      86.000us         0.00%      86.000us       4.095us       0.000us         0.00%       0.000us       0.000us           0 b           0 b           0 b           0 b            21  \n",
      "                                       aten::_cudnn_rnn         0.57%     135.375ms         1.66%     391.195ms      18.628ms      46.461ms        21.35%      48.576ms       2.313ms           0 b           0 b      79.86 Mb      -1.08 Gb            21  \n",
      "                                        aten::transpose         0.01%       2.154ms         0.01%       2.782ms      18.303us       0.000us         0.00%       0.000us       0.000us           0 b           0 b           0 b           0 b           152  \n",
      "                                       aten::as_strided         0.01%       2.566ms         0.01%       2.566ms       3.579us       0.000us         0.00%       0.000us       0.000us           0 b           0 b           0 b           0 b           717  \n",
      "                                       aten::contiguous         0.01%       1.260ms         0.04%       8.836ms     173.255us       0.000us         0.00%       5.320ms     104.314us           0 b           0 b       1.37 Gb           0 b            51  \n",
      "                                       aten::empty_like         0.01%       2.015ms         0.03%       6.881ms      60.360us       0.000us         0.00%       0.000us       0.000us           0 b           0 b       1.38 Gb           0 b           114  \n",
      "                                           aten::select         0.01%       1.584ms         0.01%       1.947ms      19.088us       0.000us         0.00%       0.000us       0.000us           0 b           0 b           0 b           0 b           102  \n",
      "                               cudaEventCreateWithFlags         0.16%      37.926ms         0.16%      37.926ms       2.207us       0.000us         0.00%       0.000us       0.000us           0 b           0 b           0 b           0 b         17187  \n",
      "void at::native::unrolled_elementwise_kernel<at::nat...         0.00%       0.000us         0.00%       0.000us       0.000us       5.377ms         2.47%       5.377ms      74.681us           0 b           0 b           0 b           0 b            72  \n",
      "                                       cudaStreamCreate         0.01%       1.431ms         0.01%       1.431ms      28.059us       0.000us         0.00%       0.000us       0.000us           0 b           0 b           0 b           0 b            51  \n",
      "                           cudaStreamCreateWithPriority         0.01%       1.234ms         0.01%       1.234ms       9.209us       0.000us         0.00%       0.000us       0.000us           0 b           0 b           0 b           0 b           134  \n",
      "                                    cudaStreamWaitEvent         0.08%      19.416ms         0.08%      19.416ms       1.376us       0.000us         0.00%       0.000us       0.000us           0 b           0 b           0 b           0 b         14115  \n",
      "cudaOccupancyMaxActiveBlocksPerMultiprocessorWithFla...         0.05%      12.273ms         0.05%      12.273ms       1.059us       0.000us         0.00%       0.000us       0.000us           0 b           0 b           0 b           0 b         11594  \n",
      "                                         cudaEventQuery         0.02%       3.803ms         0.02%       3.803ms       1.744us       0.000us         0.00%       0.000us       0.000us           0 b           0 b           0 b           0 b          2181  \n",
      "void transpose_readWrite_alignment_kernel<float, flo...         0.00%       0.000us         0.00%       0.000us       0.000us     139.000us         0.06%     139.000us       3.310us           0 b           0 b           0 b           0 b            42  \n",
      "                                  volta_sgemm_128x32_nn         0.00%       0.000us         0.00%       0.000us       0.000us      24.263ms        11.15%      24.263ms       4.182us           0 b           0 b           0 b           0 b          5802  \n",
      "                         volta_sgemm_64x32_sliced1x4_nn         0.00%       0.000us         0.00%       0.000us       0.000us       2.575ms         1.18%       2.575ms       7.803us           0 b           0 b           0 b           0 b           330  \n",
      "void splitKreduce_kernel<float, float, float>(cublas...         0.00%       0.000us         0.00%       0.000us       0.000us       4.817ms         2.21%       4.817ms       2.239us           0 b           0 b           0 b           0 b          2151  \n",
      "void GRU_elementWise_fp<float, float, float, (cudnnR...         0.00%       0.000us         0.00%       0.000us       0.000us       7.625ms         3.50%       7.625ms       1.552us           0 b           0 b           0 b           0 b          4912  \n",
      "                                       cudaEventDestroy         0.04%       9.577ms         0.04%       9.577ms       0.557us       0.000us         0.00%       0.000us       0.000us           0 b           0 b           0 b           0 b         17189  \n",
      "                                      cudaStreamDestroy         0.01%       1.462ms         0.01%       1.462ms       7.903us       0.000us         0.00%       0.000us       0.000us           0 b           0 b           0 b           0 b           185  \n",
      "                                       aten::transpose_         0.00%       1.138ms         0.01%       1.316ms      42.452us       0.000us         0.00%       0.000us       0.000us           0 b           0 b           0 b           0 b            31  \n",
      "                                      aten::as_strided_         0.00%     178.000us         0.00%     178.000us       5.742us       0.000us         0.00%       0.000us       0.000us           0 b           0 b           0 b           0 b            31  \n",
      "                                          aten::squeeze         0.01%       3.026ms         0.02%       3.547ms      23.966us       0.000us         0.00%       0.000us       0.000us           0 b           0 b           0 b           0 b           148  \n",
      "                                           aten::linear         0.00%     784.000us         0.03%       6.335ms     301.667us       0.000us         0.00%     120.000us       5.714us           0 b           0 b      10.50 Kb           0 b            21  \n",
      "                                                aten::t         0.00%       1.163ms         0.01%       2.117ms      34.705us       0.000us         0.00%       0.000us       0.000us           0 b           0 b           0 b           0 b            61  \n",
      "                                            aten::addmm         0.01%       2.496ms         0.02%       4.768ms     227.048us     120.000us         0.06%     120.000us       5.714us           0 b           0 b      10.50 Kb           0 b            21  \n",
      "                                           aten::expand         0.00%     415.000us         0.00%     551.000us      17.774us       0.000us         0.00%       0.000us       0.000us           0 b           0 b           0 b           0 b            31  \n",
      "                                          aten::resize_         0.01%       2.523ms         0.01%       2.523ms      11.164us       0.000us         0.00%       0.000us       0.000us          80 b          80 b      67.50 Kb      67.50 Kb           226  \n",
      "                         volta_sgemm_32x32_sliced1x4_nn         0.00%       0.000us         0.00%       0.000us       0.000us      29.289ms        13.46%      29.289ms       5.443us           0 b           0 b           0 b           0 b          5381  \n",
      "void gemv2T_kernel_val<int, int, float, float, float...         0.00%       0.000us         0.00%       0.000us       0.000us      63.000us         0.03%      63.000us       3.000us           0 b           0 b           0 b           0 b            21  \n",
      "                                          aten::sigmoid         0.00%     970.000us         0.01%       2.138ms     101.810us      42.000us         0.02%      42.000us       2.000us           0 b           0 b      10.50 Kb           0 b            21  \n",
      "                             aten::binary_cross_entropy         0.01%       2.536ms         0.06%      13.004ms     619.238us      63.000us         0.03%     188.000us       8.952us           0 b           0 b      10.50 Kb     -10.50 Kb            21  \n",
      "                                             aten::mean         0.02%       4.378ms         0.05%      11.796ms     115.647us     269.000us         0.12%     269.000us       2.637us         160 b           0 b      31.00 Kb           0 b           102  \n",
      "                                       aten::resize_as_         0.02%       4.901ms         0.02%       5.142ms      84.295us       0.000us         0.00%       0.000us       0.000us           0 b           0 b           0 b           0 b            61  \n",
      "                                               aten::gt         0.01%       2.112ms         0.03%       6.233ms     148.405us      29.000us         0.01%      58.000us       1.381us           0 b           0 b      21.00 Kb           0 b            42  \n",
      "                                               aten::eq         0.01%       1.418ms         0.02%       4.475ms     106.548us      63.000us         0.03%     126.000us       3.000us           0 b           0 b      21.00 Kb           0 b            42  \n",
      "                                           aten::detach         0.01%       2.338ms         0.01%       3.235ms      14.977us       0.000us         0.00%       0.000us       0.000us           0 b           0 b           0 b           0 b           216  \n",
      "                                                 detach         0.00%     897.000us         0.00%     897.000us       4.153us       0.000us         0.00%       0.000us       0.000us           0 b           0 b           0 b           0 b           216  \n",
      "void at::native::vectorized_elementwise_kernel<4, at...         0.00%       0.000us         0.00%       0.000us       0.000us      42.000us         0.02%      42.000us       2.000us           0 b           0 b           0 b           0 b            21  \n",
      "void at::native::unrolled_elementwise_kernel<at::nat...         0.00%       0.000us         0.00%       0.000us       0.000us     159.000us         0.07%     159.000us       1.939us           0 b           0 b           0 b           0 b            82  \n",
      "void at::native::vectorized_elementwise_kernel<4, at...         0.00%       0.000us         0.00%       0.000us       0.000us      63.000us         0.03%      63.000us       3.000us           0 b           0 b           0 b           0 b            21  \n",
      "void at::native::reduce_kernel<512, 1, at::native::R...         0.00%       0.000us         0.00%       0.000us       0.000us     269.000us         0.12%     269.000us       4.339us           0 b           0 b           0 b           0 b            62  \n",
      "void at::native::vectorized_elementwise_kernel<4, at...         0.00%       0.000us         0.00%       0.000us       0.000us      29.000us         0.01%      29.000us       1.381us           0 b           0 b           0 b           0 b            21  \n",
      "void at::native::unrolled_elementwise_kernel<at::nat...         0.00%       0.000us         0.00%       0.000us       0.000us      63.000us         0.03%      63.000us       3.000us           0 b           0 b           0 b           0 b            21  \n",
      "                       Memcpy DtoH (Device -> Pageable)         0.00%       0.000us         0.00%       0.000us       0.000us     453.000us         0.21%     453.000us       2.323us           0 b           0 b           0 b           0 b           195  \n",
      "                                              aten::cat         0.01%       1.408ms         0.05%      10.778ms     149.694us       0.000us         0.00%      62.000us       0.861us          80 b           0 b      31.00 Kb           0 b            72  \n",
      "                                             aten::_cat         0.02%       4.024ms         0.04%       9.370ms     130.139us      62.000us         0.03%      62.000us       0.861us          80 b           0 b      31.00 Kb           0 b            72  \n",
      "                                           aten::narrow         0.00%     645.000us         0.01%       1.717ms      23.847us       0.000us         0.00%       0.000us       0.000us           0 b           0 b           0 b           0 b            72  \n",
      "                                            aten::slice         0.01%       1.756ms         0.01%       2.141ms      19.116us       0.000us         0.00%       0.000us       0.000us           0 b           0 b           0 b           0 b           112  \n",
      "                                               cudaFree         0.03%       6.300ms         0.03%       6.300ms     787.500us       0.000us         0.00%       0.000us       0.000us           0 b           0 b           0 b           0 b             8  \n",
      "                                         aten::randperm         0.01%       2.100ms         0.02%       4.633ms     231.650us       0.000us         0.00%       0.000us       0.000us       3.91 Kb         -80 b           0 b           0 b            20  \n",
      "                                    aten::scalar_tensor         0.00%     378.000us         0.00%     378.000us      37.800us       0.000us         0.00%       0.000us       0.000us          80 b          80 b           0 b           0 b            10  \n",
      "                               Optimizer.step#Adam.step         1.15%     270.982ms         3.07%     723.427ms      72.343ms       0.000us         0.00%     143.071ms      14.307ms          40 b        -120 b     496.64 Mb      -2.30 Mb            10  \n",
      "                                              aten::div         0.02%       4.717ms         0.04%       9.838ms      98.380us     120.000us         0.06%     120.000us       1.200us           0 b           0 b       1.18 Mb           0 b           100  \n",
      "                                            aten::clone         0.00%     295.000us         0.00%     953.000us      95.300us       0.000us         0.00%      10.000us       1.000us           0 b           0 b       5.00 Kb           0 b            10  \n",
      "                     Optimizer.zero_grad#Adam.zero_grad         0.01%       1.756ms         0.03%       6.102ms     610.200us       0.000us         0.00%      39.000us       3.900us         -40 b        -200 b           0 b           0 b            10  \n",
      "                                        aten::ones_like         0.00%     213.000us         0.00%     896.000us      89.600us       0.000us         0.00%       7.000us       0.700us           0 b           0 b       5.00 Kb           0 b            10  \n",
      "                                           DivBackward0         0.00%     712.000us         0.02%       3.604ms     360.400us       0.000us         0.00%      10.000us       1.000us           0 b           0 b       5.00 Kb           0 b            10  \n",
      "                                             aten::conj         0.00%     195.000us         0.00%     195.000us       6.500us       0.000us         0.00%       0.000us       0.000us           0 b           0 b           0 b           0 b            30  \n",
      "void at::native::vectorized_elementwise_kernel<4, at...         0.00%       0.000us         0.00%       0.000us       0.000us     214.000us         0.10%     214.000us       1.019us           0 b           0 b           0 b           0 b           210  \n",
      "                             BinaryCrossEntropyBackward         0.00%     194.000us         0.01%       2.734ms     273.400us       0.000us         0.00%      40.000us       4.000us           0 b           0 b       5.00 Kb           0 b            10  \n",
      "                    aten::binary_cross_entropy_backward         0.00%     718.000us         0.01%       2.540ms     254.000us      30.000us         0.01%      40.000us       4.000us           0 b           0 b       5.00 Kb           0 b            10  \n",
      "                                        aten::expand_as         0.00%      96.000us         0.00%     272.000us      27.200us       0.000us         0.00%       0.000us       0.000us           0 b           0 b           0 b           0 b            10  \n",
      "                                             aten::div_         0.01%       2.485ms         0.02%       3.849ms      76.980us      10.000us         0.00%      10.000us       0.200us           0 b        -160 b           0 b           0 b            50  \n",
      "                                       SqueezeBackward0         0.00%     258.000us         0.00%     804.000us      40.200us       0.000us         0.00%       0.000us       0.000us           0 b           0 b           0 b           0 b            20  \n",
      "                                        aten::unsqueeze         0.00%     928.000us         0.00%       1.140ms      16.286us       0.000us         0.00%       0.000us       0.000us           0 b           0 b           0 b           0 b            70  \n",
      "                                        SigmoidBackward         0.00%     168.000us         0.00%       1.132ms     113.200us       0.000us         0.00%      13.000us       1.300us           0 b           0 b       5.00 Kb           0 b            10  \n",
      "                                 aten::sigmoid_backward         0.00%     441.000us         0.00%     964.000us      96.400us      13.000us         0.01%      13.000us       1.300us           0 b           0 b       5.00 Kb           0 b            10  \n",
      "-------------------------------------------------------  ------------  ------------  ------------  ------------  ------------  ------------  ------------  ------------  ------------  ------------  ------------  ------------  ------------  ------------  \n",
      "Self CPU time total: 23.592s\n",
      "Self CUDA time total: 217.642ms\n",
      "\n"
     ]
    },
    {
     "data": {
      "image/png": "[encoded data removed]",
      "text/plain": [
       "<Figure size 1728x576 with 2 Axes>"
      ]
     },
     "metadata": {
      "needs_background": "light"
     },
     "output_type": "display_data"
    },
    {
     "name": "stdout",
     "output_type": "stream",
     "text": [
      "-------------------------------------------------------  ------------  ------------  ------------  ------------  ------------  ------------  ------------  ------------  \n",
      "                                                   Name    Self CPU %      Self CPU   CPU total %     CPU total  CPU time avg       CPU Mem  Self CPU Mem    # of Calls  \n",
      "-------------------------------------------------------  ------------  ------------  ------------  ------------  ------------  ------------  ------------  ------------  \n",
      "                                            aten::zeros         0.02%     257.000us         0.13%       1.480ms     370.000us       2.64 Kb           0 b             4  \n",
      "                                            aten::empty         0.38%       4.430ms         0.38%       4.430ms      11.877us      13.06 Mb      13.06 Mb           373  \n",
      "                                            aten::zero_         0.00%      13.000us         0.00%      13.000us       3.250us           0 b           0 b             4  \n",
      "                                          model_testing        64.30%     750.624ms        99.90%        1.166s        1.166s          -4 b     -25.52 Mb             1  \n",
      "                                          aten::random_         0.00%      31.000us         0.00%      31.000us      31.000us           0 b           0 b             1  \n",
      "                                aten::is_floating_point         0.00%       2.000us         0.00%       2.000us       2.000us           0 b           0 b             1  \n",
      "                                             aten::item         0.00%      13.000us         0.02%     244.000us     244.000us           0 b           0 b             1  \n",
      "                              aten::_local_scalar_dense         0.02%     231.000us         0.02%     231.000us     231.000us           0 b           0 b             1  \n",
      "enumerate(DataLoader)#_MultiProcessingDataLoaderIter...        22.29%     260.235ms        22.30%     260.391ms     130.196ms      11.54 Mb      11.54 Mb             2  \n",
      "                                               aten::to         0.00%      12.000us         0.00%      12.000us       3.000us           0 b           0 b             4  \n",
      "                                          aten::detach_         0.00%      55.000us         0.01%      65.000us      32.500us           0 b           0 b             2  \n",
      "                                                detach_         0.00%      10.000us         0.00%      10.000us       5.000us           0 b           0 b             2  \n",
      "                                             aten::set_         0.00%      37.000us         0.00%      37.000us      18.500us           0 b           0 b             2  \n",
      "                                              aten::gru         1.30%      15.120ms        13.22%     154.373ms     154.373ms      13.98 Mb    -937.12 Kb             1  \n",
      "                              aten::cudnn_is_acceptable         0.00%       2.000us         0.00%       2.000us       2.000us           0 b           0 b             1  \n",
      "                                        aten::transpose         0.14%       1.667ms         0.18%       2.073ms      16.992us           0 b           0 b           122  \n",
      "                                       aten::as_strided         0.39%       4.573ms         0.39%       4.573ms       3.817us           0 b           0 b          1198  \n",
      "                                           aten::unbind         0.15%       1.783ms         0.56%       6.510ms       3.255ms           0 b           0 b             2  \n",
      "                                           aten::select         0.32%       3.733ms         0.40%       4.727ms      39.392us           0 b           0 b           120  \n",
      "                                           aten::linear         0.20%       2.288ms         3.55%      41.396ms     342.116us      13.37 Mb           0 b           121  \n",
      "                                                aten::t         0.25%       2.943ms         0.42%       4.918ms      40.645us           0 b           0 b           121  \n",
      "                                           aten::matmul         0.01%     136.000us         1.41%      16.489ms      16.489ms      12.45 Mb           0 b             1  \n",
      "                                       aten::contiguous         0.00%      34.000us         0.74%       8.591ms       8.591ms      11.53 Mb           0 b             1  \n",
      "                                       aten::empty_like         0.16%       1.853ms         0.29%       3.373ms      28.108us      11.84 Mb           0 b           120  \n",
      "                                            aten::copy_         1.11%      12.904ms         1.11%      12.904ms      35.944us           0 b           0 b           359  \n",
      "                                             aten::view         0.00%      53.000us         0.00%      53.000us      17.667us           0 b           0 b             3  \n",
      "                                               aten::mm         0.66%       7.659ms         0.66%       7.703ms       7.703ms     937.12 Kb           0 b             1  \n",
      "                                     aten::_unsafe_view         0.00%      25.000us         0.00%      33.000us      33.000us           0 b           0 b             1  \n",
      "                                             aten::add_         1.04%      12.111ms         1.04%      12.111ms      33.830us           0 b           0 b           358  \n",
      "                                     aten::unsafe_chunk         0.19%       2.179ms         2.87%      33.543ms     140.937us           0 b           0 b           238  \n",
      "                                     aten::unsafe_split         0.88%      10.289ms         2.69%      31.364ms     131.782us           0 b           0 b           238  \n",
      "                                           aten::narrow         0.82%       9.626ms         1.81%      21.099ms      29.509us           0 b           0 b           715  \n",
      "                                            aten::slice         0.77%       9.033ms         0.98%      11.473ms      16.046us           0 b           0 b           715  \n",
      "                                            aten::addmm         0.79%       9.238ms         1.18%      13.723ms     114.358us     937.29 Kb     937.29 Kb           120  \n",
      "                                           aten::expand         0.13%       1.560ms         0.17%       2.003ms      16.692us           0 b           0 b           120  \n",
      "                                         aten::sigmoid_         0.54%       6.318ms         0.71%       8.315ms      34.937us           0 b           0 b           238  \n",
      "                                          aten::sigmoid         0.18%       2.046ms         0.18%       2.053ms       8.590us         168 b           0 b           239  \n",
      "                                             aten::mul_         0.74%       8.622ms         2.25%      26.213ms      55.069us     624.75 Kb           0 b           476  \n",
      "                                            aten::clone         0.79%       9.226ms         1.37%      15.996ms      67.210us     624.75 Kb           0 b           238  \n",
      "                                              aten::add         0.34%       3.969ms         0.34%       3.969ms      33.353us     312.38 Kb     312.38 Kb           119  \n",
      "                                            aten::tanh_         0.30%       3.534ms         0.42%       4.906ms      41.227us           0 b           0 b           119  \n",
      "                                             aten::tanh         0.12%       1.372ms         0.12%       1.372ms      11.529us           0 b           0 b           119  \n",
      "                                              aten::sub         0.34%       3.998ms         0.44%       5.163ms      43.387us     312.38 Kb           0 b           119  \n",
      "                                    aten::empty_strided         0.10%       1.114ms         0.10%       1.114ms       9.361us     312.38 Kb     312.38 Kb           119  \n",
      "                                            aten::stack         0.10%       1.177ms         0.23%       2.712ms       1.356ms     315.00 Kb           0 b             2  \n",
      "                                        aten::unsqueeze         0.08%     912.000us         0.10%       1.198ms       9.983us           0 b           0 b           120  \n",
      "                                              aten::cat         0.00%      51.000us         0.03%     337.000us     168.500us     315.00 Kb           0 b             2  \n",
      "                                             aten::_cat         0.02%     225.000us         0.02%     286.000us     143.000us     315.00 Kb           0 b             2  \n",
      "                                          aten::resize_         0.00%      30.000us         0.00%      30.000us      15.000us     315.00 Kb     315.00 Kb             2  \n",
      "                                       aten::transpose_         0.00%      47.000us         0.00%      50.000us      50.000us           0 b           0 b             1  \n",
      "                                      aten::as_strided_         0.00%       3.000us         0.00%       3.000us       3.000us           0 b           0 b             1  \n",
      "                                          aten::squeeze         0.00%      29.000us         0.00%      33.000us      33.000us           0 b           0 b             1  \n",
      "                                          aten::flatten         0.00%      15.000us         0.00%      34.000us      17.000us           0 b           0 b             2  \n",
      "                                           aten::detach         0.00%      11.000us         0.00%      19.000us       9.500us           0 b           0 b             2  \n",
      "                                                 detach         0.00%       8.000us         0.00%       8.000us       4.000us           0 b           0 b             2  \n",
      "-------------------------------------------------------  ------------  ------------  ------------  ------------  ------------  ------------  ------------  ------------  \n",
      "Self CPU time total: 1.167s\n",
      "\n"
     ]
    },
    {
     "name": "stderr",
     "output_type": "stream",
     "text": [
      "GPU available: True, used: True\n",
      "TPU available: False, using: 0 TPU cores\n",
      "LOCAL_RANK: 0 - CUDA_VISIBLE_DEVICES: [0,1]\n",
      "\n",
      "  | Name          | Type    | Params\n",
      "------------------------------------------\n",
      "0 | model         | RNN     | 29.9 K\n",
      "1 | loss_function | BCELoss | 0     \n",
      "------------------------------------------\n",
      "29.9 K    Trainable params\n",
      "0         Non-trainable params\n",
      "29.9 K    Total params\n",
      "0.120     Total estimated model params size (MB)\n"
     ]
    },
    {
     "data": {
      "application/vnd.jupyter.widget-view+json": {
       "model_id": "8469672c813c45108eae2250318a64aa",
       "version_major": 2,
       "version_minor": 0
      },
      "text/plain": [
       "Validation sanity check: 0it [00:00, ?it/s]"
      ]
     },
     "metadata": {},
     "output_type": "display_data"
    },
    {
     "data": {
      "application/vnd.jupyter.widget-view+json": {
       "model_id": "74db5a17b00a4f779d70bd0c7a162cbf",
       "version_major": 2,
       "version_minor": 0
      },
      "text/plain": [
       "Training: 0it [00:00, ?it/s]"
      ]
     },
     "metadata": {},
     "output_type": "display_data"
    },
    {
     "data": {
      "application/vnd.jupyter.widget-view+json": {
       "model_id": "9c7de505366d406cb7a1389e27e1d151",
       "version_major": 2,
       "version_minor": 0
      },
      "text/plain": [
       "Validating: 0it [00:00, ?it/s]"
      ]
     },
     "metadata": {},
     "output_type": "display_data"
    },
    {
     "data": {
      "application/vnd.jupyter.widget-view+json": {
       "model_id": "393957fde3cf4e49bc9a90bebb8f6d33",
       "version_major": 2,
       "version_minor": 0
      },
      "text/plain": [
       "Validating: 0it [00:00, ?it/s]"
      ]
     },
     "metadata": {},
     "output_type": "display_data"
    },
    {
     "data": {
      "application/vnd.jupyter.widget-view+json": {
       "model_id": "5841b4b963d8443ab11aa0bf002bebc6",
       "version_major": 2,
       "version_minor": 0
      },
      "text/plain": [
       "Validating: 0it [00:00, ?it/s]"
      ]
     },
     "metadata": {},
     "output_type": "display_data"
    },
    {
     "data": {
      "application/vnd.jupyter.widget-view+json": {
       "model_id": "cc3e546e9fee412f9db099f9bcb37733",
       "version_major": 2,
       "version_minor": 0
      },
      "text/plain": [
       "Validating: 0it [00:00, ?it/s]"
      ]
     },
     "metadata": {},
     "output_type": "display_data"
    },
    {
     "data": {
      "application/vnd.jupyter.widget-view+json": {
       "model_id": "8719b347b151463396055691e9dc6b15",
       "version_major": 2,
       "version_minor": 0
      },
      "text/plain": [
       "Validating: 0it [00:00, ?it/s]"
      ]
     },
     "metadata": {},
     "output_type": "display_data"
    },
    {
     "data": {
      "application/vnd.jupyter.widget-view+json": {
       "model_id": "3b1202a7a8bc468eb2da1970d9f6fa9c",
       "version_major": 2,
       "version_minor": 0
      },
      "text/plain": [
       "Validating: 0it [00:00, ?it/s]"
      ]
     },
     "metadata": {},
     "output_type": "display_data"
    },
    {
     "data": {
      "application/vnd.jupyter.widget-view+json": {
       "model_id": "b82a31b481a44e1495ffc1a17d5b8ee1",
       "version_major": 2,
       "version_minor": 0
      },
      "text/plain": [
       "Validating: 0it [00:00, ?it/s]"
      ]
     },
     "metadata": {},
     "output_type": "display_data"
    },
    {
     "data": {
      "application/vnd.jupyter.widget-view+json": {
       "model_id": "c0db35b19ced4404a82b95ef7c726400",
       "version_major": 2,
       "version_minor": 0
      },
      "text/plain": [
       "Validating: 0it [00:00, ?it/s]"
      ]
     },
     "metadata": {},
     "output_type": "display_data"
    },
    {
     "data": {
      "application/vnd.jupyter.widget-view+json": {
       "model_id": "c45516b0bd194cf280e5bd89aabb8097",
       "version_major": 2,
       "version_minor": 0
      },
      "text/plain": [
       "Validating: 0it [00:00, ?it/s]"
      ]
     },
     "metadata": {},
     "output_type": "display_data"
    },
    {
     "data": {
      "application/vnd.jupyter.widget-view+json": {
       "model_id": "8385bc1a452b4979a5f336eac6fffa37",
       "version_major": 2,
       "version_minor": 0
      },
      "text/plain": [
       "Validating: 0it [00:00, ?it/s]"
      ]
     },
     "metadata": {},
     "output_type": "display_data"
    },
    {
     "name": "stdout",
     "output_type": "stream",
     "text": [
      "-------------------------------------------------------  ------------  ------------  ------------  ------------  ------------  ------------  ------------  ------------  ------------  ------------  ------------  ------------  ------------  ------------  \n",
      "                                                   Name    Self CPU %      Self CPU   CPU total %     CPU total  CPU time avg     Self CUDA   Self CUDA %    CUDA total  CUDA time avg       CPU Mem  Self CPU Mem      CUDA Mem  Self CUDA Mem    # of Calls  \n",
      "-------------------------------------------------------  ------------  ------------  ------------  ------------  ------------  ------------  ------------  ------------  ------------  ------------  ------------  ------------  ------------  ------------  \n",
      "                                            aten::zeros         0.04%       9.070ms         0.10%      24.458ms     230.736us       0.000us         0.00%      52.000us       0.491us         372 b           0 b       1.32 Mb           0 b           106  \n",
      "                                            aten::empty         0.09%      22.430ms         0.11%      25.201ms      18.807us       0.000us         0.00%       0.000us       0.000us       6.36 Kb       6.36 Kb       2.95 Gb       2.95 Gb          1340  \n",
      "                                            aten::zero_         0.03%       6.128ms         0.09%      21.104ms      83.087us       0.000us         0.00%     172.000us       0.677us           0 b           0 b           0 b           0 b           254  \n",
      "                                         model_training        73.14%       17.462s        99.21%       23.686s       23.686s     200.000us         0.09%     196.462ms     196.462ms         156 b    -559.51 Mb     425.94 Mb    -210.96 Mb             1  \n",
      "                                aten::is_floating_point         0.00%     389.000us         0.00%     389.000us       2.069us       0.000us         0.00%       0.000us       0.000us           0 b           0 b           0 b           0 b           188  \n",
      "                                               aten::to         0.04%       9.860ms         1.53%     365.878ms     672.570us       0.000us         0.00%     147.235ms     270.653us     240.05 Kb           0 b     565.59 Mb           0 b           544  \n",
      "                                    aten::empty_strided         0.06%      13.323ms         0.08%      19.062ms      40.215us       0.000us         0.00%       0.000us       0.000us     240.05 Kb     240.05 Kb     565.85 Mb     565.85 Mb           474  \n",
      "                                            aten::copy_         0.07%      16.398ms         1.44%     343.271ms     663.967us     152.223ms        66.92%     152.223ms     294.435us           0 b           0 b           0 b           0 b           517  \n",
      "                                        cudaMemcpyAsync         0.82%     195.353ms         0.82%     195.353ms     288.984us       0.000us         0.00%       0.000us       0.000us           0 b           0 b           0 b           0 b           676  \n",
      "                                  cudaStreamSynchronize         0.64%     152.421ms         0.64%     152.421ms     403.230us       0.000us         0.00%       0.000us       0.000us           0 b           0 b           0 b           0 b           378  \n",
      "                       Memcpy HtoD (Pageable -> Device)         0.00%       0.000us         0.00%       0.000us       0.000us     146.977ms        64.62%     146.977ms     653.231us           0 b           0 b           0 b           0 b           225  \n",
      "                aten::_has_compatible_shallow_copy_type         0.00%     137.000us         0.00%     137.000us       2.854us       0.000us         0.00%       0.000us       0.000us           0 b           0 b           0 b           0 b            48  \n",
      "                                         aten::set_data         0.00%     338.000us         0.00%     403.000us      16.792us       0.000us         0.00%       0.000us       0.000us    -233.76 Kb    -233.76 Kb    -236.50 Kb    -236.50 Kb            24  \n",
      "                    aten::_use_cudnn_rnn_flatten_weight         0.00%       2.000us         0.00%       2.000us       2.000us       0.000us         0.00%       0.000us       0.000us           0 b           0 b           0 b           0 b             1  \n",
      "                        aten::_cudnn_rnn_flatten_weight         0.00%     188.000us         0.03%       7.913ms       7.913ms       0.000us         0.00%       5.000us       5.000us           0 b           0 b        -512 b           0 b             1  \n",
      "                                        cudaEventRecord         0.08%      19.792ms         0.08%      19.792ms       1.083us       0.000us         0.00%       0.000us       0.000us           0 b           0 b           0 b           0 b         18281  \n",
      "                                            aten::fill_         0.01%       3.299ms         0.06%      15.478ms      67.296us     179.000us         0.08%     179.000us       0.778us           0 b           0 b           0 b           0 b           230  \n",
      "                                       cudaLaunchKernel         1.06%     252.685ms         1.06%     252.685ms      11.391us       0.000us         0.00%       0.000us       0.000us           0 b           0 b           0 b           0 b         22183  \n",
      "                                             aten::set_         0.05%      12.801ms         0.05%      12.801ms      22.577us       0.000us         0.00%       0.000us       0.000us           0 b           0 b    -117.50 Kb    -117.50 Kb           567  \n",
      "void at::native::vectorized_elementwise_kernel<4, at...         0.00%       0.000us         0.00%       0.000us       0.000us     179.000us         0.08%     179.000us       0.942us           0 b           0 b           0 b           0 b           190  \n",
      "                                          aten::view_as         0.00%      41.000us         0.00%      58.000us       7.250us       0.000us         0.00%       0.000us       0.000us           0 b           0 b           0 b           0 b             8  \n",
      "                                             aten::view         0.00%     223.000us         0.00%     223.000us       7.964us       0.000us         0.00%       0.000us       0.000us           0 b           0 b           0 b           0 b            28  \n",
      "                         Memcpy DtoD (Device -> Device)         0.00%       0.000us         0.00%       0.000us       0.000us     266.000us         0.12%     266.000us       1.039us           0 b           0 b           0 b           0 b           256  \n",
      "                                          aten::random_         0.03%       6.039ms         0.03%       6.039ms     194.806us       0.000us         0.00%       0.000us       0.000us           0 b           0 b           0 b           0 b            31  \n",
      "                                             aten::item         0.02%       4.101ms         0.14%      33.688ms     162.744us       0.000us         0.00%     212.000us       1.024us           0 b           0 b           0 b           0 b           207  \n",
      "                              aten::_local_scalar_dense         0.05%      12.812ms         0.12%      29.587ms     142.932us     212.000us         0.09%     212.000us       1.024us           0 b           0 b           0 b           0 b           207  \n",
      "enumerate(DataLoader)#_MultiProcessingDataLoaderIter...        21.05%        5.025s        21.08%        5.033s     119.828ms       0.000us         0.00%       0.000us       0.000us     559.50 Mb     559.50 Mb           0 b           0 b            42  \n",
      "                                          aten::detach_         0.02%       4.657ms         0.02%       5.444ms      25.559us       0.000us         0.00%       0.000us       0.000us           0 b           0 b           0 b           0 b           213  \n",
      "                                                detach_         0.00%     787.000us         0.00%     787.000us       3.695us       0.000us         0.00%       0.000us       0.000us           0 b           0 b           0 b           0 b           213  \n",
      "                                             cudaMalloc         0.04%       8.510ms         0.04%       8.510ms     945.556us       0.000us         0.00%       0.000us       0.000us           0 b           0 b           0 b           0 b             9  \n",
      "                                              aten::gru         0.01%       3.420ms         1.55%     369.333ms      17.587ms       0.000us         0.00%      47.158ms       2.246ms           0 b           0 b      71.08 Mb           0 b            21  \n",
      "                              aten::cudnn_is_acceptable         0.00%      90.000us         0.00%      90.000us       4.286us       0.000us         0.00%       0.000us       0.000us           0 b           0 b           0 b           0 b            21  \n",
      "                                       aten::_cudnn_rnn         0.55%     131.608ms         1.52%     363.900ms      17.329ms      44.984ms        19.78%      47.158ms       2.246ms           0 b           0 b      71.08 Mb      -1.11 Gb            21  \n",
      "                                        aten::transpose         0.02%       3.592ms         0.02%       4.397ms      28.928us       0.000us         0.00%       0.000us       0.000us           0 b           0 b           0 b           0 b           152  \n",
      "                                       aten::as_strided         0.02%       3.687ms         0.02%       3.687ms       5.142us       0.000us         0.00%       0.000us       0.000us           0 b           0 b           0 b           0 b           717  \n",
      "                                       aten::contiguous         0.01%       1.662ms         0.04%       9.299ms     182.333us       0.000us         0.00%       4.953ms      97.118us           0 b           0 b       1.26 Gb           0 b            51  \n",
      "                                       aten::empty_like         0.02%       4.876ms         0.03%       8.300ms      72.807us       0.000us         0.00%       0.000us       0.000us           0 b           0 b       1.27 Gb           0 b           114  \n",
      "                                           aten::select         0.01%       2.347ms         0.01%       3.003ms      29.441us       0.000us         0.00%       0.000us       0.000us           0 b           0 b           0 b           0 b           102  \n",
      "void at::native::unrolled_elementwise_kernel<at::nat...         0.00%       0.000us         0.00%       0.000us       0.000us       5.017ms         2.21%       5.017ms      69.681us           0 b           0 b           0 b           0 b            72  \n",
      "                               cudaEventCreateWithFlags         0.20%      47.165ms         0.20%      47.165ms       2.898us       0.000us         0.00%       0.000us       0.000us           0 b           0 b           0 b           0 b         16277  \n",
      "                                       cudaStreamCreate         0.01%       1.455ms         0.01%       1.455ms      28.529us       0.000us         0.00%       0.000us       0.000us           0 b           0 b           0 b           0 b            51  \n",
      "                           cudaStreamCreateWithPriority         0.01%       1.220ms         0.01%       1.220ms       9.104us       0.000us         0.00%       0.000us       0.000us           0 b           0 b           0 b           0 b           134  \n",
      "                                    cudaStreamWaitEvent         0.06%      13.326ms         0.06%      13.326ms       0.981us       0.000us         0.00%       0.000us       0.000us           0 b           0 b           0 b           0 b         13585  \n",
      "cudaOccupancyMaxActiveBlocksPerMultiprocessorWithFla...         0.04%       9.543ms         0.04%       9.543ms       0.876us       0.000us         0.00%       0.000us       0.000us           0 b           0 b           0 b           0 b         10896  \n",
      "                                         cudaEventQuery         0.01%       3.172ms         0.01%       3.172ms       1.538us       0.000us         0.00%       0.000us       0.000us           0 b           0 b           0 b           0 b          2063  \n",
      "void transpose_readWrite_alignment_kernel<float, flo...         0.00%       0.000us         0.00%       0.000us       0.000us     124.000us         0.05%     124.000us       2.952us           0 b           0 b           0 b           0 b            42  \n",
      "                                  volta_sgemm_128x32_nn         0.00%       0.000us         0.00%       0.000us       0.000us      23.292ms        10.24%      23.292ms       4.071us           0 b           0 b           0 b           0 b          5722  \n",
      "                         volta_sgemm_64x32_sliced1x4_nn         0.00%       0.000us         0.00%       0.000us       0.000us       3.754ms         1.65%       3.754ms       7.937us           0 b           0 b           0 b           0 b           473  \n",
      "void splitKreduce_kernel<float, float, float>(cublas...         0.00%       0.000us         0.00%       0.000us       0.000us       4.572ms         2.01%       4.572ms       2.249us           0 b           0 b           0 b           0 b          2033  \n",
      "void GRU_elementWise_fp<float, float, float, (cudnnR...         0.00%       0.000us         0.00%       0.000us       0.000us       7.389ms         3.25%       7.389ms       1.489us           0 b           0 b           0 b           0 b          4962  \n",
      "                                       cudaEventDestroy         0.03%       6.646ms         0.03%       6.646ms       0.408us       0.000us         0.00%       0.000us       0.000us           0 b           0 b           0 b           0 b         16286  \n",
      "                                      cudaStreamDestroy         0.01%       1.264ms         0.01%       1.264ms       6.832us       0.000us         0.00%       0.000us       0.000us           0 b           0 b           0 b           0 b           185  \n",
      "                                       aten::transpose_         0.00%       1.006ms         0.01%       1.320ms      42.581us       0.000us         0.00%       0.000us       0.000us           0 b           0 b           0 b           0 b            31  \n",
      "                                      aten::as_strided_         0.00%     314.000us         0.00%     314.000us      10.129us       0.000us         0.00%       0.000us       0.000us           0 b           0 b           0 b           0 b            31  \n",
      "                                          aten::squeeze         0.02%       3.598ms         0.02%       4.505ms      30.439us       0.000us         0.00%       0.000us       0.000us           0 b           0 b           0 b           0 b           148  \n",
      "                                           aten::linear         0.00%     804.000us         0.03%       7.213ms     343.476us       0.000us         0.00%     127.000us       6.048us           0 b           0 b      10.50 Kb           0 b            21  \n",
      "                                                aten::t         0.01%       1.251ms         0.01%       2.265ms      37.131us       0.000us         0.00%       0.000us       0.000us           0 b           0 b           0 b           0 b            61  \n",
      "                                            aten::addmm         0.01%       2.553ms         0.02%       5.533ms     263.476us     127.000us         0.06%     127.000us       6.048us           0 b           0 b      10.50 Kb           0 b            21  \n",
      "                                           aten::expand         0.01%       1.327ms         0.01%       1.480ms      47.742us       0.000us         0.00%       0.000us       0.000us           0 b           0 b           0 b           0 b            31  \n",
      "                                          aten::resize_         0.01%       3.441ms         0.01%       3.441ms      15.226us       0.000us         0.00%       0.000us       0.000us          80 b          80 b      67.50 Kb      67.50 Kb           226  \n",
      "void gemv2T_kernel_val<int, int, float, float, float...         0.00%       0.000us         0.00%       0.000us       0.000us      63.000us         0.03%      63.000us       3.000us           0 b           0 b           0 b           0 b            21  \n",
      "                                          aten::sigmoid         0.00%     990.000us         0.01%       2.115ms     100.714us      42.000us         0.02%      42.000us       2.000us           0 b           0 b      10.50 Kb           0 b            21  \n",
      "void at::native::vectorized_elementwise_kernel<4, at...         0.00%       0.000us         0.00%       0.000us       0.000us      42.000us         0.02%      42.000us       2.000us           0 b           0 b           0 b           0 b            21  \n",
      "                             aten::binary_cross_entropy         0.01%       2.484ms         0.06%      15.324ms     729.714us      62.000us         0.03%     189.000us       9.000us           0 b           0 b      10.50 Kb     -10.50 Kb            21  \n",
      "void at::native::unrolled_elementwise_kernel<at::nat...         0.00%       0.000us         0.00%       0.000us       0.000us     173.000us         0.08%     173.000us       2.110us           0 b           0 b           0 b           0 b            82  \n",
      "                                             aten::mean         0.02%       5.282ms         0.06%      14.510ms     142.255us     275.000us         0.12%     275.000us       2.696us         160 b           0 b      31.00 Kb           0 b           102  \n",
      "void at::native::vectorized_elementwise_kernel<4, at...         0.00%       0.000us         0.00%       0.000us       0.000us      62.000us         0.03%      62.000us       2.952us           0 b           0 b           0 b           0 b            21  \n",
      "                                       aten::resize_as_         0.02%       4.909ms         0.03%       6.029ms      98.836us       0.000us         0.00%       0.000us       0.000us           0 b           0 b           0 b           0 b            61  \n",
      "void at::native::reduce_kernel<512, 1, at::native::R...         0.00%       0.000us         0.00%       0.000us       0.000us     275.000us         0.12%     275.000us       4.435us           0 b           0 b           0 b           0 b            62  \n",
      "                                               aten::gt         0.01%       2.211ms         0.03%       6.513ms     155.071us      21.000us         0.01%      42.000us       1.000us           0 b           0 b      21.00 Kb           0 b            42  \n",
      "                                               aten::eq         0.01%       1.703ms         0.02%       4.832ms     115.048us      63.000us         0.03%     126.000us       3.000us           0 b           0 b      21.00 Kb           0 b            42  \n",
      "void at::native::vectorized_elementwise_kernel<4, at...         0.00%       0.000us         0.00%       0.000us       0.000us      21.000us         0.01%      21.000us       1.000us           0 b           0 b           0 b           0 b            21  \n",
      "void at::native::unrolled_elementwise_kernel<at::nat...         0.00%       0.000us         0.00%       0.000us       0.000us      63.000us         0.03%      63.000us       3.000us           0 b           0 b           0 b           0 b            21  \n",
      "                                           aten::detach         0.01%       2.715ms         0.02%       4.166ms      19.287us       0.000us         0.00%       0.000us       0.000us           0 b           0 b           0 b           0 b           216  \n",
      "                                                 detach         0.01%       1.451ms         0.01%       1.451ms       6.718us       0.000us         0.00%       0.000us       0.000us           0 b           0 b           0 b           0 b           216  \n",
      "                       Memcpy DtoH (Device -> Pageable)         0.00%       0.000us         0.00%       0.000us       0.000us     349.000us         0.15%     349.000us       1.790us           0 b           0 b           0 b           0 b           195  \n",
      "                                              aten::cat         0.01%       1.790ms         0.06%      13.328ms     185.111us       0.000us         0.00%      62.000us       0.861us          80 b           0 b      31.00 Kb           0 b            72  \n",
      "                                             aten::_cat         0.02%       4.863ms         0.05%      11.538ms     160.250us      62.000us         0.03%      62.000us       0.861us          80 b           0 b      31.00 Kb           0 b            72  \n",
      "                                           aten::narrow         0.00%     828.000us         0.01%       2.608ms      36.222us       0.000us         0.00%       0.000us       0.000us           0 b           0 b           0 b           0 b            72  \n",
      "                                            aten::slice         0.01%       2.621ms         0.01%       3.158ms      28.196us       0.000us         0.00%       0.000us       0.000us           0 b           0 b           0 b           0 b           112  \n",
      "                                               cudaFree         0.03%       7.209ms         0.03%       7.209ms     801.000us       0.000us         0.00%       0.000us       0.000us           0 b           0 b           0 b           0 b             9  \n",
      "                                         aten::randperm         0.01%       2.131ms         0.02%       5.254ms     262.700us       0.000us         0.00%       0.000us       0.000us       3.91 Kb         -80 b           0 b           0 b            20  \n",
      "                                    aten::scalar_tensor         0.00%     308.000us         0.00%     308.000us      30.800us       0.000us         0.00%       0.000us       0.000us          80 b          80 b           0 b           0 b            10  \n",
      "                               Optimizer.step#Adam.step         0.99%     236.030ms         2.58%     615.410ms      61.541ms       0.000us         0.00%     132.577ms      13.258ms          40 b        -120 b     425.96 Mb      -2.30 Mb            10  \n",
      "                         volta_sgemm_32x32_sliced1x4_nn         0.00%       0.000us         0.00%       0.000us       0.000us      24.978ms        10.98%      24.978ms       5.418us           0 b           0 b           0 b           0 b          4610  \n",
      "                                              aten::div         0.02%       5.497ms         0.04%      10.549ms     105.490us     119.000us         0.05%     119.000us       1.190us           0 b           0 b       1.18 Mb           0 b           100  \n",
      "                                            aten::clone         0.00%     290.000us         0.00%     876.000us      87.600us       0.000us         0.00%      10.000us       1.000us           0 b           0 b       5.00 Kb           0 b            10  \n",
      "void at::native::vectorized_elementwise_kernel<4, at...         0.00%       0.000us         0.00%       0.000us       0.000us     215.000us         0.09%     215.000us       1.024us           0 b           0 b           0 b           0 b           210  \n",
      "                     Optimizer.zero_grad#Adam.zero_grad         0.01%       1.790ms         0.03%       6.193ms     619.300us       0.000us         0.00%      44.000us       4.400us         -40 b        -200 b           0 b           0 b            10  \n",
      "                                        aten::ones_like         0.00%     213.000us         0.00%     866.000us      86.600us       0.000us         0.00%       7.000us       0.700us           0 b           0 b       5.00 Kb           0 b            10  \n",
      "                                           DivBackward0         0.00%     656.000us         0.01%       3.069ms     306.900us       0.000us         0.00%      10.000us       1.000us           0 b           0 b       5.00 Kb           0 b            10  \n",
      "                                             aten::conj         0.00%     202.000us         0.00%     202.000us       6.733us       0.000us         0.00%       0.000us       0.000us           0 b           0 b           0 b           0 b            30  \n",
      "                             BinaryCrossEntropyBackward         0.00%     195.000us         0.01%       2.863ms     286.300us       0.000us         0.00%      40.000us       4.000us           0 b           0 b       5.00 Kb           0 b            10  \n",
      "                    aten::binary_cross_entropy_backward         0.00%     748.000us         0.01%       2.668ms     266.800us      30.000us         0.01%      40.000us       4.000us           0 b           0 b       5.00 Kb           0 b            10  \n",
      "                                        aten::expand_as         0.00%     108.000us         0.00%     287.000us      28.700us       0.000us         0.00%       0.000us       0.000us           0 b           0 b           0 b           0 b            10  \n",
      "                                             aten::div_         0.01%       3.227ms         0.02%       5.068ms     101.360us      10.000us         0.00%      10.000us       0.200us           0 b        -160 b           0 b           0 b            50  \n",
      "                                       SqueezeBackward0         0.00%     254.000us         0.00%     833.000us      41.650us       0.000us         0.00%       0.000us       0.000us           0 b           0 b           0 b           0 b            20  \n",
      "                                        aten::unsqueeze         0.00%       1.133ms         0.01%       1.374ms      19.629us       0.000us         0.00%       0.000us       0.000us           0 b           0 b           0 b           0 b            70  \n",
      "                                        SigmoidBackward         0.00%     211.000us         0.01%       1.338ms     133.800us       0.000us         0.00%      12.000us       1.200us           0 b           0 b       5.00 Kb           0 b            10  \n",
      "                                 aten::sigmoid_backward         0.00%     565.000us         0.00%       1.127ms     112.700us      12.000us         0.01%      12.000us       1.200us           0 b           0 b       5.00 Kb           0 b            10  \n",
      "-------------------------------------------------------  ------------  ------------  ------------  ------------  ------------  ------------  ------------  ------------  ------------  ------------  ------------  ------------  ------------  ------------  \n",
      "Self CPU time total: 23.875s\n",
      "Self CUDA time total: 227.458ms\n",
      "\n"
     ]
    },
    {
     "data": {
      "image/png": "[encoded data removed]",
      "text/plain": [
       "<Figure size 1728x576 with 2 Axes>"
      ]
     },
     "metadata": {
      "needs_background": "light"
     },
     "output_type": "display_data"
    },
    {
     "name": "stdout",
     "output_type": "stream",
     "text": [
      "-------------------------------------------------------  ------------  ------------  ------------  ------------  ------------  ------------  ------------  ------------  \n",
      "                                                   Name    Self CPU %      Self CPU   CPU total %     CPU total  CPU time avg       CPU Mem  Self CPU Mem    # of Calls  \n",
      "-------------------------------------------------------  ------------  ------------  ------------  ------------  ------------  ------------  ------------  ------------  \n",
      "                                            aten::zeros         0.02%     176.000us         0.03%     302.000us      75.500us       2.89 Kb           0 b             4  \n",
      "                                            aten::empty         0.18%       1.971ms         0.18%       1.971ms       5.284us      14.31 Mb      14.31 Mb           373  \n",
      "                                            aten::zero_         0.00%       9.000us         0.00%       9.000us       2.250us           0 b           0 b             4  \n",
      "                                          model_testing        66.59%     729.197ms        99.99%        1.095s        1.095s          -4 b     -27.95 Mb             1  \n",
      "                                          aten::random_         0.00%      41.000us         0.00%      41.000us      41.000us           0 b           0 b             1  \n",
      "                                aten::is_floating_point         0.00%       2.000us         0.00%       2.000us       2.000us           0 b           0 b             1  \n",
      "                                             aten::item         0.00%      22.000us         0.14%       1.587ms       1.587ms           0 b           0 b             1  \n",
      "                              aten::_local_scalar_dense         0.14%       1.565ms         0.14%       1.565ms       1.565ms           0 b           0 b             1  \n",
      "enumerate(DataLoader)#_MultiProcessingDataLoaderIter...        24.05%     263.335ms        24.06%     263.474ms     131.737ms      12.63 Mb      12.63 Mb             2  \n",
      "                                               aten::to         0.00%       9.000us         0.00%       9.000us       2.250us           0 b           0 b             4  \n",
      "                                          aten::detach_         0.00%      43.000us         0.00%      51.000us      25.500us           0 b           0 b             2  \n",
      "                                                detach_         0.00%       8.000us         0.00%       8.000us       4.000us           0 b           0 b             2  \n",
      "                                             aten::set_         0.00%      34.000us         0.00%      34.000us      17.000us           0 b           0 b             2  \n",
      "                                              aten::gru         0.75%       8.216ms         9.15%     100.210ms     100.210ms      15.31 Mb      -1.00 Mb             1  \n",
      "                              aten::cudnn_is_acceptable         0.00%       3.000us         0.00%       3.000us       3.000us           0 b           0 b             1  \n",
      "                                        aten::transpose         0.08%     906.000us         0.10%       1.115ms       9.139us           0 b           0 b           122  \n",
      "                                       aten::as_strided         0.22%       2.397ms         0.22%       2.397ms       2.001us           0 b           0 b          1198  \n",
      "                                           aten::unbind         0.06%     656.000us         0.21%       2.277ms       1.139ms           0 b           0 b             2  \n",
      "                                           aten::select         0.11%       1.217ms         0.15%       1.621ms      13.508us           0 b           0 b           120  \n",
      "                                           aten::linear         0.12%       1.340ms         3.60%      39.395ms     325.579us      14.64 Mb           0 b           121  \n",
      "                                                aten::t         0.15%       1.643ms         0.25%       2.695ms      22.273us           0 b           0 b           121  \n",
      "                                           aten::matmul         0.01%     140.000us         2.10%      22.997ms      22.997ms      13.64 Mb           0 b             1  \n",
      "                                       aten::contiguous         0.01%      60.000us         1.18%      12.972ms      12.972ms      12.63 Mb           0 b             1  \n",
      "                                       aten::empty_like         0.09%     949.000us         0.17%       1.905ms      15.875us      12.97 Mb           0 b           120  \n",
      "                                            aten::copy_         1.44%      15.795ms         1.44%      15.795ms      43.997us           0 b           0 b           359  \n",
      "                                             aten::view         0.01%      63.000us         0.01%      63.000us      21.000us           0 b           0 b             3  \n",
      "                                               aten::mm         0.89%       9.770ms         0.90%       9.805ms       9.805ms       1.00 Mb           0 b             1  \n",
      "                                     aten::_unsafe_view         0.00%      29.000us         0.00%      42.000us      42.000us           0 b           0 b             1  \n",
      "                                             aten::add_         0.82%       9.013ms         0.82%       9.013ms      25.176us           0 b           0 b           358  \n",
      "                                     aten::unsafe_chunk         0.11%       1.176ms         1.74%      19.055ms      80.063us           0 b           0 b           238  \n",
      "                                     aten::unsafe_split         0.52%       5.694ms         1.63%      17.879ms      75.122us           0 b           0 b           238  \n",
      "                                           aten::narrow         0.57%       6.211ms         1.11%      12.200ms      17.063us           0 b           0 b           715  \n",
      "                                            aten::slice         0.42%       4.645ms         0.55%       5.989ms       8.376us           0 b           0 b           715  \n",
      "                                            aten::addmm         0.47%       5.129ms         0.72%       7.881ms      65.675us       1.00 Mb       1.00 Mb           120  \n",
      "                                           aten::expand         0.07%     815.000us         0.10%       1.044ms       8.700us           0 b           0 b           120  \n",
      "                                         aten::sigmoid_         0.29%       3.134ms         0.37%       4.093ms      17.197us           0 b           0 b           238  \n",
      "                                          aten::sigmoid         0.09%     987.000us         0.09%     991.000us       4.146us         184 b           0 b           239  \n",
      "                                             aten::mul_         0.41%       4.499ms         1.31%      14.316ms      30.076us     684.25 Kb           0 b           476  \n",
      "                                            aten::clone         0.45%       4.976ms         0.82%       8.966ms      37.672us     684.25 Kb           0 b           238  \n",
      "                                              aten::add         0.21%       2.252ms         0.21%       2.252ms      18.924us     342.12 Kb     342.12 Kb           119  \n",
      "                                            aten::tanh_         0.16%       1.802ms         0.24%       2.581ms      21.689us           0 b           0 b           119  \n",
      "                                             aten::tanh         0.07%     779.000us         0.07%     779.000us       6.546us           0 b           0 b           119  \n",
      "                                              aten::sub         0.19%       2.036ms         0.24%       2.599ms      21.840us     342.12 Kb           0 b           119  \n",
      "                                    aten::empty_strided         0.06%     675.000us         0.06%     675.000us       5.672us     342.12 Kb     342.12 Kb           119  \n",
      "                                            aten::stack         0.06%     653.000us         0.16%       1.713ms     856.500us     345.00 Kb           0 b             2  \n",
      "                                        aten::unsqueeze         0.06%     648.000us         0.08%     856.000us       7.133us           0 b           0 b           120  \n",
      "                                              aten::cat         0.00%      35.000us         0.02%     204.000us     102.000us     345.00 Kb           0 b             2  \n",
      "                                             aten::_cat         0.01%     130.000us         0.02%     169.000us      84.500us     345.00 Kb           0 b             2  \n",
      "                                          aten::resize_         0.00%      21.000us         0.00%      21.000us      10.500us     345.00 Kb     345.00 Kb             2  \n",
      "                                       aten::transpose_         0.00%      50.000us         0.00%      52.000us      52.000us           0 b           0 b             1  \n",
      "                                      aten::as_strided_         0.00%       2.000us         0.00%       2.000us       2.000us           0 b           0 b             1  \n",
      "                                          aten::squeeze         0.00%      26.000us         0.00%      29.000us      29.000us           0 b           0 b             1  \n",
      "                                          aten::flatten         0.00%      10.000us         0.00%      22.000us      11.000us           0 b           0 b             2  \n",
      "                                           aten::detach         0.00%       7.000us         0.00%      11.000us       5.500us           0 b           0 b             2  \n",
      "                                                 detach         0.00%       4.000us         0.00%       4.000us       2.000us           0 b           0 b             2  \n",
      "-------------------------------------------------------  ------------  ------------  ------------  ------------  ------------  ------------  ------------  ------------  \n",
      "Self CPU time total: 1.095s\n",
      "\n"
     ]
    },
    {
     "data": {
      "text/plain": [
       "{'Accuracy': [0.6,\n",
       "  0.9183673469387755,\n",
       "  0.851063829787234,\n",
       "  0.7380952380952381,\n",
       "  0.2826086956521739],\n",
       " 'ROC AUC': [0.1491228070175439,\n",
       "  0.9183673469387755,\n",
       "  0.15447154471544716,\n",
       "  0.7712609970674487,\n",
       "  0.3368298368298368],\n",
       " 'PR AUC': [0.17705517972772772,\n",
       "  1.0,\n",
       "  0.8118817488874707,\n",
       "  0.9225630315103998,\n",
       "  0.39211329959317437]}"
      ]
     },
     "execution_count": 13,
     "metadata": {},
     "output_type": "execute_result"
    }
   ],
   "source": [
    "metrics_gru = utils.cross_validation(df_week, \"GRU\", base_model, features, n_splits=N_SPLITS, epochs=EPOCHS)\n",
    "metrics_gru"
   ]
  },
  {
   "cell_type": "code",
   "execution_count": 14,
   "metadata": {},
   "outputs": [
    {
     "name": "stdout",
     "output_type": "stream",
     "text": [
      "Accuracy: 0.6780270220946842 ± 0.2252808328285569\n",
      "ROC AUC: 0.46601050651381043 ± 0.31998954898337917\n",
      "PR AUC: 0.6607226519437546 ± 0.32018862681693194\n"
     ]
    }
   ],
   "source": [
    "for metric_name, metric_val in metrics_gru.items():\n",
    "    print('{}: {} ± {}'.format(metric_name, np.array(metric_val).mean(), np.array(metric_val).std()))"
   ]
  },
  {
   "cell_type": "code",
   "execution_count": 15,
   "metadata": {},
   "outputs": [],
   "source": [
    "base_model = utils.RNN(\n",
    "    input_size=INPUT_SIZE,\n",
    "    output_size=1,\n",
    "    hidden_rnn_size=16,\n",
    "    base_type=\"GRU\"\n",
    ")"
   ]
  },
  {
   "cell_type": "code",
   "execution_count": null,
   "metadata": {},
   "outputs": [],
   "source": []
  },
  {
   "cell_type": "markdown",
   "metadata": {},
   "source": [
    "# LSTM"
   ]
  },
  {
   "cell_type": "code",
   "execution_count": 16,
   "metadata": {},
   "outputs": [],
   "source": [
    "base_model = utils.RNN(\n",
    "    input_size=INPUT_SIZE,\n",
    "    output_size=1,\n",
    "    hidden_rnn_size=16,\n",
    "    base_type=\"LSTM\"\n",
    ")"
   ]
  },
  {
   "cell_type": "code",
   "execution_count": null,
   "metadata": {},
   "outputs": [
    {
     "name": "stderr",
     "output_type": "stream",
     "text": [
      "GPU available: True, used: True\n",
      "TPU available: False, using: 0 TPU cores\n",
      "LOCAL_RANK: 0 - CUDA_VISIBLE_DEVICES: [0,1]\n",
      "\n",
      "  | Name          | Type    | Params\n",
      "------------------------------------------\n",
      "0 | model         | RNN     | 39.9 K\n",
      "1 | loss_function | BCELoss | 0     \n",
      "------------------------------------------\n",
      "39.9 K    Trainable params\n",
      "0         Non-trainable params\n",
      "39.9 K    Total params\n",
      "0.160     Total estimated model params size (MB)\n"
     ]
    },
    {
     "data": {
      "application/vnd.jupyter.widget-view+json": {
       "model_id": "bdb4d415e96843029026ba5dd770ca91",
       "version_major": 2,
       "version_minor": 0
      },
      "text/plain": [
       "Validation sanity check: 0it [00:00, ?it/s]"
      ]
     },
     "metadata": {},
     "output_type": "display_data"
    },
    {
     "data": {
      "application/vnd.jupyter.widget-view+json": {
       "model_id": "33bdb7ee93224c78824dc668d20c0d9e",
       "version_major": 2,
       "version_minor": 0
      },
      "text/plain": [
       "Training: 0it [00:00, ?it/s]"
      ]
     },
     "metadata": {},
     "output_type": "display_data"
    },
    {
     "data": {
      "application/vnd.jupyter.widget-view+json": {
       "model_id": "f973359d16e54e399a0e0d56debadf87",
       "version_major": 2,
       "version_minor": 0
      },
      "text/plain": [
       "Validating: 0it [00:00, ?it/s]"
      ]
     },
     "metadata": {},
     "output_type": "display_data"
    },
    {
     "data": {
      "application/vnd.jupyter.widget-view+json": {
       "model_id": "373a94a11d10428a9d77c673db945ac3",
       "version_major": 2,
       "version_minor": 0
      },
      "text/plain": [
       "Validating: 0it [00:00, ?it/s]"
      ]
     },
     "metadata": {},
     "output_type": "display_data"
    },
    {
     "data": {
      "application/vnd.jupyter.widget-view+json": {
       "model_id": "f2c032daab3a4ab69ef00d989546af06",
       "version_major": 2,
       "version_minor": 0
      },
      "text/plain": [
       "Validating: 0it [00:00, ?it/s]"
      ]
     },
     "metadata": {},
     "output_type": "display_data"
    },
    {
     "data": {
      "application/vnd.jupyter.widget-view+json": {
       "model_id": "4627edfad229490b9695890a01e3b09d",
       "version_major": 2,
       "version_minor": 0
      },
      "text/plain": [
       "Validating: 0it [00:00, ?it/s]"
      ]
     },
     "metadata": {},
     "output_type": "display_data"
    },
    {
     "data": {
      "application/vnd.jupyter.widget-view+json": {
       "model_id": "771a380bf5964a7793096c528fc5faa8",
       "version_major": 2,
       "version_minor": 0
      },
      "text/plain": [
       "Validating: 0it [00:00, ?it/s]"
      ]
     },
     "metadata": {},
     "output_type": "display_data"
    },
    {
     "data": {
      "application/vnd.jupyter.widget-view+json": {
       "model_id": "3aa71c9e401b4d0aaba6caf393d6f5d2",
       "version_major": 2,
       "version_minor": 0
      },
      "text/plain": [
       "Validating: 0it [00:00, ?it/s]"
      ]
     },
     "metadata": {},
     "output_type": "display_data"
    },
    {
     "data": {
      "application/vnd.jupyter.widget-view+json": {
       "model_id": "0ae2505811904cc3b78ea551087603ee",
       "version_major": 2,
       "version_minor": 0
      },
      "text/plain": [
       "Validating: 0it [00:00, ?it/s]"
      ]
     },
     "metadata": {},
     "output_type": "display_data"
    },
    {
     "data": {
      "application/vnd.jupyter.widget-view+json": {
       "model_id": "c072527ec38446829d5f70499291b9db",
       "version_major": 2,
       "version_minor": 0
      },
      "text/plain": [
       "Validating: 0it [00:00, ?it/s]"
      ]
     },
     "metadata": {},
     "output_type": "display_data"
    },
    {
     "data": {
      "application/vnd.jupyter.widget-view+json": {
       "model_id": "9ba8f4ce396647c8a2c6e5819f192c2d",
       "version_major": 2,
       "version_minor": 0
      },
      "text/plain": [
       "Validating: 0it [00:00, ?it/s]"
      ]
     },
     "metadata": {},
     "output_type": "display_data"
    },
    {
     "data": {
      "application/vnd.jupyter.widget-view+json": {
       "model_id": "52793801b1d343e6b320bf194f4befc1",
       "version_major": 2,
       "version_minor": 0
      },
      "text/plain": [
       "Validating: 0it [00:00, ?it/s]"
      ]
     },
     "metadata": {},
     "output_type": "display_data"
    }
   ],
   "source": [
    "metrics_lstm = utils.cross_validation(df_week, \"LSTM\", base_model, features, n_splits=N_SPLITS, epochs=EPOCHS)\n",
    "metrics_lstm"
   ]
  },
  {
   "cell_type": "code",
   "execution_count": null,
   "metadata": {},
   "outputs": [],
   "source": [
    "for metric_name, metric_val in metrics_lstm.items():\n",
    "    print('{}: {} ± {}'.format(metric_name, np.array(metric_val).mean(), np.array(metric_val).std()))"
   ]
  },
  {
   "cell_type": "markdown",
   "metadata": {},
   "source": [
    "# RNN"
   ]
  },
  {
   "cell_type": "code",
   "execution_count": null,
   "metadata": {},
   "outputs": [],
   "source": [
    "base_model = utils.RNN(\n",
    "    input_size=INPUT_SIZE,\n",
    "    output_size=1,\n",
    "    hidden_rnn_size=16,\n",
    "    base_type=\"RNN\"\n",
    ")"
   ]
  },
  {
   "cell_type": "code",
   "execution_count": null,
   "metadata": {},
   "outputs": [],
   "source": [
    "metrics_rnn = utils.cross_validation(df_week, \"RNN\", base_model, features, n_splits=N_SPLITS, epochs=EPOCHS)\n",
    "metrics_rnn"
   ]
  },
  {
   "cell_type": "code",
   "execution_count": null,
   "metadata": {},
   "outputs": [],
   "source": [
    "for metric_name, metric_val in metrics_rnn.items():\n",
    "    print('{}: {} ± {}'.format(metric_name, np.array(metric_val).mean(), np.array(metric_val).std()))"
   ]
  },
  {
   "cell_type": "code",
   "execution_count": null,
   "metadata": {},
   "outputs": [],
   "source": []
  },
  {
   "cell_type": "code",
   "execution_count": null,
   "metadata": {},
   "outputs": [],
   "source": []
  },
  {
   "cell_type": "code",
   "execution_count": null,
   "metadata": {},
   "outputs": [],
   "source": []
  },
  {
   "cell_type": "code",
   "execution_count": null,
   "metadata": {},
   "outputs": [],
   "source": []
  }
 ],
 "metadata": {
  "kernelspec": {
   "display_name": "Python 3",
   "language": "python",
   "name": "python3"
  },
  "language_info": {
   "codemirror_mode": {
    "name": "ipython",
    "version": 3
   },
   "file_extension": ".py",
   "mimetype": "text/x-python",
   "name": "python",
   "nbconvert_exporter": "python",
   "pygments_lexer": "ipython3",
   "version": "3.7.7"
  }
 },
 "nbformat": 4,
 "nbformat_minor": 4
}
